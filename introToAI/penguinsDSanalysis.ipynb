{
 "cells": [
  {
   "cell_type": "code",
   "execution_count": 170,
   "id": "f5779487",
   "metadata": {},
   "outputs": [],
   "source": [
    "# imports:\n",
    "import numpy as np\n",
    "import random\n",
    "import numpy.linalg as lin\n",
    "import matplotlib.pyplot as plt\n",
    "import time\n",
    "import pandas as pd\n",
    "import seaborn as sns\n",
    "from sklearn.preprocessing import LabelEncoder\n",
    "from sklearn.ensemble import RandomForestClassifier\n",
    "from sklearn.preprocessing import StandardScaler\n",
    "from sklearn.decomposition import PCA\n",
    "from sklearn.metrics import confusion_matrix\n",
    "from sklearn.metrics import classification_report\n",
    "from sklearn.neighbors import KNeighborsClassifier\n",
    "from sklearn.svm import SVC\n",
    "from sklearn.naive_bayes import GaussianNB\n",
    "from sklearn.model_selection import KFold\n",
    "from sklearn.neural_network import MLPClassifier\n",
    "from sklearn.model_selection import cross_val_score\n",
    "from sklearn.metrics import accuracy_score\n",
    "\n"
   ]
  },
  {
   "cell_type": "code",
   "execution_count": 352,
   "id": "a15d0169",
   "metadata": {
    "scrolled": true
   },
   "outputs": [
    {
     "name": "stdout",
     "output_type": "stream",
     "text": [
      "  species     island  culmen_length_mm  culmen_depth_mm  flipper_length_mm  \\\n",
      "0  Adelie  Torgersen              39.1             18.7              181.0   \n",
      "1  Adelie  Torgersen              39.5             17.4              186.0   \n",
      "2  Adelie  Torgersen              40.3             18.0              195.0   \n",
      "3  Adelie  Torgersen               NaN              NaN                NaN   \n",
      "4  Adelie  Torgersen              36.7             19.3              193.0   \n",
      "\n",
      "   body_mass_g     sex  \n",
      "0       3750.0    MALE  \n",
      "1       3800.0  FEMALE  \n",
      "2       3250.0  FEMALE  \n",
      "3          NaN     NaN  \n",
      "4       3450.0  FEMALE  \n"
     ]
    }
   ],
   "source": [
    "#eda and fixing nulls and such..\n",
    "dsPath = 'D:\\\\cohen-proj\\DS\\penguins\\penguins_size.csv'\n",
    "\n",
    "data = pd.read_csv(dsPath)\n",
    "\n",
    "print(data.head())\n",
    "\n",
    "#data = np.array(data)\n",
    "#n_samples , n_features = data.shape\n",
    "\n",
    "#print(\"samp: \", n_samples)\n",
    "#print (\"feat: \",n_features)"
   ]
  },
  {
   "cell_type": "code",
   "execution_count": 353,
   "id": "1f5ca8a9",
   "metadata": {},
   "outputs": [
    {
     "name": "stdout",
     "output_type": "stream",
     "text": [
      "<class 'pandas.core.frame.DataFrame'>\n",
      "RangeIndex: 344 entries, 0 to 343\n",
      "Data columns (total 7 columns):\n",
      " #   Column             Non-Null Count  Dtype  \n",
      "---  ------             --------------  -----  \n",
      " 0   species            344 non-null    object \n",
      " 1   island             344 non-null    object \n",
      " 2   culmen_length_mm   342 non-null    float64\n",
      " 3   culmen_depth_mm    342 non-null    float64\n",
      " 4   flipper_length_mm  342 non-null    float64\n",
      " 5   body_mass_g        342 non-null    float64\n",
      " 6   sex                334 non-null    object \n",
      "dtypes: float64(4), object(3)\n",
      "memory usage: 18.9+ KB\n"
     ]
    }
   ],
   "source": [
    "# remove NaN's :\n",
    "data.info()"
   ]
  },
  {
   "cell_type": "code",
   "execution_count": 354,
   "id": "55715518",
   "metadata": {},
   "outputs": [
    {
     "name": "stdout",
     "output_type": "stream",
     "text": [
      "<class 'pandas.core.frame.DataFrame'>\n",
      "Int64Index: 334 entries, 0 to 343\n",
      "Data columns (total 7 columns):\n",
      " #   Column             Non-Null Count  Dtype  \n",
      "---  ------             --------------  -----  \n",
      " 0   species            334 non-null    object \n",
      " 1   island             334 non-null    object \n",
      " 2   culmen_length_mm   334 non-null    float64\n",
      " 3   culmen_depth_mm    334 non-null    float64\n",
      " 4   flipper_length_mm  334 non-null    float64\n",
      " 5   body_mass_g        334 non-null    float64\n",
      " 6   sex                334 non-null    object \n",
      "dtypes: float64(4), object(3)\n",
      "memory usage: 20.9+ KB\n"
     ]
    }
   ],
   "source": [
    "#we can see some nulls so remove whole row = sample\n",
    "data = data.dropna()\n",
    "data.info()"
   ]
  },
  {
   "cell_type": "code",
   "execution_count": 355,
   "id": "14740174",
   "metadata": {
    "scrolled": true
   },
   "outputs": [
    {
     "data": {
      "text/html": [
       "<div>\n",
       "<style scoped>\n",
       "    .dataframe tbody tr th:only-of-type {\n",
       "        vertical-align: middle;\n",
       "    }\n",
       "\n",
       "    .dataframe tbody tr th {\n",
       "        vertical-align: top;\n",
       "    }\n",
       "\n",
       "    .dataframe thead th {\n",
       "        text-align: right;\n",
       "    }\n",
       "</style>\n",
       "<table border=\"1\" class=\"dataframe\">\n",
       "  <thead>\n",
       "    <tr style=\"text-align: right;\">\n",
       "      <th></th>\n",
       "      <th>species</th>\n",
       "      <th>island</th>\n",
       "      <th>culmen_length_mm</th>\n",
       "      <th>culmen_depth_mm</th>\n",
       "      <th>flipper_length_mm</th>\n",
       "      <th>body_mass_g</th>\n",
       "      <th>sex</th>\n",
       "    </tr>\n",
       "  </thead>\n",
       "  <tbody>\n",
       "    <tr>\n",
       "      <th>0</th>\n",
       "      <td>0</td>\n",
       "      <td>2</td>\n",
       "      <td>39.1</td>\n",
       "      <td>18.7</td>\n",
       "      <td>181.0</td>\n",
       "      <td>3750.0</td>\n",
       "      <td>2</td>\n",
       "    </tr>\n",
       "    <tr>\n",
       "      <th>1</th>\n",
       "      <td>0</td>\n",
       "      <td>2</td>\n",
       "      <td>39.5</td>\n",
       "      <td>17.4</td>\n",
       "      <td>186.0</td>\n",
       "      <td>3800.0</td>\n",
       "      <td>1</td>\n",
       "    </tr>\n",
       "    <tr>\n",
       "      <th>2</th>\n",
       "      <td>0</td>\n",
       "      <td>2</td>\n",
       "      <td>40.3</td>\n",
       "      <td>18.0</td>\n",
       "      <td>195.0</td>\n",
       "      <td>3250.0</td>\n",
       "      <td>1</td>\n",
       "    </tr>\n",
       "    <tr>\n",
       "      <th>4</th>\n",
       "      <td>0</td>\n",
       "      <td>2</td>\n",
       "      <td>36.7</td>\n",
       "      <td>19.3</td>\n",
       "      <td>193.0</td>\n",
       "      <td>3450.0</td>\n",
       "      <td>1</td>\n",
       "    </tr>\n",
       "    <tr>\n",
       "      <th>5</th>\n",
       "      <td>0</td>\n",
       "      <td>2</td>\n",
       "      <td>39.3</td>\n",
       "      <td>20.6</td>\n",
       "      <td>190.0</td>\n",
       "      <td>3650.0</td>\n",
       "      <td>2</td>\n",
       "    </tr>\n",
       "    <tr>\n",
       "      <th>6</th>\n",
       "      <td>0</td>\n",
       "      <td>2</td>\n",
       "      <td>38.9</td>\n",
       "      <td>17.8</td>\n",
       "      <td>181.0</td>\n",
       "      <td>3625.0</td>\n",
       "      <td>1</td>\n",
       "    </tr>\n",
       "    <tr>\n",
       "      <th>7</th>\n",
       "      <td>0</td>\n",
       "      <td>2</td>\n",
       "      <td>39.2</td>\n",
       "      <td>19.6</td>\n",
       "      <td>195.0</td>\n",
       "      <td>4675.0</td>\n",
       "      <td>2</td>\n",
       "    </tr>\n",
       "    <tr>\n",
       "      <th>12</th>\n",
       "      <td>0</td>\n",
       "      <td>2</td>\n",
       "      <td>41.1</td>\n",
       "      <td>17.6</td>\n",
       "      <td>182.0</td>\n",
       "      <td>3200.0</td>\n",
       "      <td>1</td>\n",
       "    </tr>\n",
       "    <tr>\n",
       "      <th>13</th>\n",
       "      <td>0</td>\n",
       "      <td>2</td>\n",
       "      <td>38.6</td>\n",
       "      <td>21.2</td>\n",
       "      <td>191.0</td>\n",
       "      <td>3800.0</td>\n",
       "      <td>2</td>\n",
       "    </tr>\n",
       "    <tr>\n",
       "      <th>14</th>\n",
       "      <td>0</td>\n",
       "      <td>2</td>\n",
       "      <td>34.6</td>\n",
       "      <td>21.1</td>\n",
       "      <td>198.0</td>\n",
       "      <td>4400.0</td>\n",
       "      <td>2</td>\n",
       "    </tr>\n",
       "    <tr>\n",
       "      <th>15</th>\n",
       "      <td>0</td>\n",
       "      <td>2</td>\n",
       "      <td>36.6</td>\n",
       "      <td>17.8</td>\n",
       "      <td>185.0</td>\n",
       "      <td>3700.0</td>\n",
       "      <td>1</td>\n",
       "    </tr>\n",
       "    <tr>\n",
       "      <th>16</th>\n",
       "      <td>0</td>\n",
       "      <td>2</td>\n",
       "      <td>38.7</td>\n",
       "      <td>19.0</td>\n",
       "      <td>195.0</td>\n",
       "      <td>3450.0</td>\n",
       "      <td>1</td>\n",
       "    </tr>\n",
       "    <tr>\n",
       "      <th>17</th>\n",
       "      <td>0</td>\n",
       "      <td>2</td>\n",
       "      <td>42.5</td>\n",
       "      <td>20.7</td>\n",
       "      <td>197.0</td>\n",
       "      <td>4500.0</td>\n",
       "      <td>2</td>\n",
       "    </tr>\n",
       "    <tr>\n",
       "      <th>18</th>\n",
       "      <td>0</td>\n",
       "      <td>2</td>\n",
       "      <td>34.4</td>\n",
       "      <td>18.4</td>\n",
       "      <td>184.0</td>\n",
       "      <td>3325.0</td>\n",
       "      <td>1</td>\n",
       "    </tr>\n",
       "    <tr>\n",
       "      <th>19</th>\n",
       "      <td>0</td>\n",
       "      <td>2</td>\n",
       "      <td>46.0</td>\n",
       "      <td>21.5</td>\n",
       "      <td>194.0</td>\n",
       "      <td>4200.0</td>\n",
       "      <td>2</td>\n",
       "    </tr>\n",
       "    <tr>\n",
       "      <th>20</th>\n",
       "      <td>0</td>\n",
       "      <td>0</td>\n",
       "      <td>37.8</td>\n",
       "      <td>18.3</td>\n",
       "      <td>174.0</td>\n",
       "      <td>3400.0</td>\n",
       "      <td>1</td>\n",
       "    </tr>\n",
       "    <tr>\n",
       "      <th>21</th>\n",
       "      <td>0</td>\n",
       "      <td>0</td>\n",
       "      <td>37.7</td>\n",
       "      <td>18.7</td>\n",
       "      <td>180.0</td>\n",
       "      <td>3600.0</td>\n",
       "      <td>2</td>\n",
       "    </tr>\n",
       "    <tr>\n",
       "      <th>22</th>\n",
       "      <td>0</td>\n",
       "      <td>0</td>\n",
       "      <td>35.9</td>\n",
       "      <td>19.2</td>\n",
       "      <td>189.0</td>\n",
       "      <td>3800.0</td>\n",
       "      <td>1</td>\n",
       "    </tr>\n",
       "    <tr>\n",
       "      <th>23</th>\n",
       "      <td>0</td>\n",
       "      <td>0</td>\n",
       "      <td>38.2</td>\n",
       "      <td>18.1</td>\n",
       "      <td>185.0</td>\n",
       "      <td>3950.0</td>\n",
       "      <td>2</td>\n",
       "    </tr>\n",
       "    <tr>\n",
       "      <th>24</th>\n",
       "      <td>0</td>\n",
       "      <td>0</td>\n",
       "      <td>38.8</td>\n",
       "      <td>17.2</td>\n",
       "      <td>180.0</td>\n",
       "      <td>3800.0</td>\n",
       "      <td>2</td>\n",
       "    </tr>\n",
       "  </tbody>\n",
       "</table>\n",
       "</div>"
      ],
      "text/plain": [
       "    species  island  culmen_length_mm  culmen_depth_mm  flipper_length_mm  \\\n",
       "0         0       2              39.1             18.7              181.0   \n",
       "1         0       2              39.5             17.4              186.0   \n",
       "2         0       2              40.3             18.0              195.0   \n",
       "4         0       2              36.7             19.3              193.0   \n",
       "5         0       2              39.3             20.6              190.0   \n",
       "6         0       2              38.9             17.8              181.0   \n",
       "7         0       2              39.2             19.6              195.0   \n",
       "12        0       2              41.1             17.6              182.0   \n",
       "13        0       2              38.6             21.2              191.0   \n",
       "14        0       2              34.6             21.1              198.0   \n",
       "15        0       2              36.6             17.8              185.0   \n",
       "16        0       2              38.7             19.0              195.0   \n",
       "17        0       2              42.5             20.7              197.0   \n",
       "18        0       2              34.4             18.4              184.0   \n",
       "19        0       2              46.0             21.5              194.0   \n",
       "20        0       0              37.8             18.3              174.0   \n",
       "21        0       0              37.7             18.7              180.0   \n",
       "22        0       0              35.9             19.2              189.0   \n",
       "23        0       0              38.2             18.1              185.0   \n",
       "24        0       0              38.8             17.2              180.0   \n",
       "\n",
       "    body_mass_g  sex  \n",
       "0        3750.0    2  \n",
       "1        3800.0    1  \n",
       "2        3250.0    1  \n",
       "4        3450.0    1  \n",
       "5        3650.0    2  \n",
       "6        3625.0    1  \n",
       "7        4675.0    2  \n",
       "12       3200.0    1  \n",
       "13       3800.0    2  \n",
       "14       4400.0    2  \n",
       "15       3700.0    1  \n",
       "16       3450.0    1  \n",
       "17       4500.0    2  \n",
       "18       3325.0    1  \n",
       "19       4200.0    2  \n",
       "20       3400.0    1  \n",
       "21       3600.0    2  \n",
       "22       3800.0    1  \n",
       "23       3950.0    2  \n",
       "24       3800.0    2  "
      ]
     },
     "execution_count": 355,
     "metadata": {},
     "output_type": "execute_result"
    }
   ],
   "source": [
    "# encode string vals to numbers  - \"island \" \"speceis\" \"sex\" using encoder\n",
    "labelEncode=LabelEncoder()\n",
    "data[\"island\"] = labelEncode.fit_transform(data[\"island\"])\n",
    "data[\"sex\"] = labelEncode.fit_transform(data[\"sex\"])\n",
    "data[\"species\"] = labelEncode.fit_transform(data[\"species\"])\n",
    "data.head(20)\n"
   ]
  },
  {
   "cell_type": "code",
   "execution_count": 356,
   "id": "f68f0a12",
   "metadata": {
    "scrolled": false
   },
   "outputs": [
    {
     "data": {
      "image/png": "[encoded data removed]",
      "text/plain": [
       "<Figure size 1200x1000 with 2 Axes>"
      ]
     },
     "metadata": {},
     "output_type": "display_data"
    }
   ],
   "source": [
    "#lets check correlation to desired task (species classification)\n",
    "\n",
    "\n",
    "\n",
    "plt.figure(figsize=(12, 10))\n",
    "sns.heatmap(data.corr(), fmt=\".1g\", annot=True, cmap=\"Blues\")\n",
    "plt.title(\"Penguins Correlation\", weight=\"bold\", fontsize=25, pad=25)\n",
    "plt.xticks(weight=\"semibold\", fontsize=10)\n",
    "plt.yticks(weight=\"semibold\", fontsize=10);"
   ]
  },
  {
   "cell_type": "code",
   "execution_count": 357,
   "id": "4c7a6314",
   "metadata": {
    "scrolled": false
   },
   "outputs": [
    {
     "data": {
      "text/html": [
       "<div>\n",
       "<style scoped>\n",
       "    .dataframe tbody tr th:only-of-type {\n",
       "        vertical-align: middle;\n",
       "    }\n",
       "\n",
       "    .dataframe tbody tr th {\n",
       "        vertical-align: top;\n",
       "    }\n",
       "\n",
       "    .dataframe thead th {\n",
       "        text-align: right;\n",
       "    }\n",
       "</style>\n",
       "<table border=\"1\" class=\"dataframe\">\n",
       "  <thead>\n",
       "    <tr style=\"text-align: right;\">\n",
       "      <th></th>\n",
       "      <th>species</th>\n",
       "    </tr>\n",
       "  </thead>\n",
       "  <tbody>\n",
       "    <tr>\n",
       "      <th>species</th>\n",
       "      <td>1.000000e+00</td>\n",
       "    </tr>\n",
       "    <tr>\n",
       "      <th>flipper_length_mm</th>\n",
       "      <td>8.513508e-01</td>\n",
       "    </tr>\n",
       "    <tr>\n",
       "      <th>body_mass_g</th>\n",
       "      <td>7.510201e-01</td>\n",
       "    </tr>\n",
       "    <tr>\n",
       "      <th>culmen_length_mm</th>\n",
       "      <td>7.292618e-01</td>\n",
       "    </tr>\n",
       "    <tr>\n",
       "      <th>sex</th>\n",
       "      <td>-1.625802e-17</td>\n",
       "    </tr>\n",
       "    <tr>\n",
       "      <th>island</th>\n",
       "      <td>-6.235949e-01</td>\n",
       "    </tr>\n",
       "    <tr>\n",
       "      <th>culmen_depth_mm</th>\n",
       "      <td>-7.408034e-01</td>\n",
       "    </tr>\n",
       "  </tbody>\n",
       "</table>\n",
       "</div>"
      ],
      "text/plain": [
       "                        species\n",
       "species            1.000000e+00\n",
       "flipper_length_mm  8.513508e-01\n",
       "body_mass_g        7.510201e-01\n",
       "culmen_length_mm   7.292618e-01\n",
       "sex               -1.625802e-17\n",
       "island            -6.235949e-01\n",
       "culmen_depth_mm   -7.408034e-01"
      ]
     },
     "execution_count": 357,
     "metadata": {},
     "output_type": "execute_result"
    }
   ],
   "source": [
    "data.corr()[\"species\"].sort_values(ascending=False).to_frame()"
   ]
  },
  {
   "cell_type": "code",
   "execution_count": 358,
   "id": "77de3162",
   "metadata": {},
   "outputs": [],
   "source": [
    "##### notice !!!!! to run all test need to set not to drop sex+island columns"
   ]
  },
  {
   "cell_type": "code",
   "execution_count": 359,
   "id": "3dc37642",
   "metadata": {},
   "outputs": [],
   "source": [
    "data1= data.drop(['sex','island'], axis=1)\n",
    "#data1= data"
   ]
  },
  {
   "cell_type": "code",
   "execution_count": 375,
   "id": "e8ae5097",
   "metadata": {},
   "outputs": [
    {
     "name": "stdout",
     "output_type": "stream",
     "text": [
      "(334, 5)\n",
      "[146  68 120]\n"
     ]
    }
   ],
   "source": [
    "#change to numpy array for manipulation \n",
    "arr = np.array(data1)\n",
    "print(arr.shape)\n",
    "y = arr [:,0]\n",
    "diff_feats, count_feats = np.unique(y, return_counts=True)\n",
    "print(count_feats)\n",
    "#we can see unbalanced distribution -> under sample and add rest to VAL\n",
    "under = min(count_feats)\n",
    "under = under - 4\n",
    "#leave some for val check"
   ]
  },
  {
   "cell_type": "code",
   "execution_count": 361,
   "id": "a197b615",
   "metadata": {},
   "outputs": [
    {
     "data": {
      "text/plain": [
       "array([0., 0., 0., 0., 0., 0., 0., 0., 0., 0., 0., 0., 0., 0., 0., 0., 0.,\n",
       "       0., 0., 0., 0., 0., 0., 0., 0., 0., 0., 0., 0., 0., 0., 0., 0., 0.,\n",
       "       0., 0., 0., 0., 0., 0., 0., 0., 0., 0., 0., 0., 0., 0., 0., 0., 0.,\n",
       "       0., 0., 0., 0., 0., 0., 0., 0., 0., 0., 0., 0., 0., 0., 0., 0., 0.,\n",
       "       0., 0., 0., 0., 0., 0., 0., 0., 0., 0., 0., 0., 0., 0., 0., 0., 0.,\n",
       "       0., 0., 0., 0., 0., 0., 0., 0., 0., 0., 0., 0., 0., 0., 0., 0., 0.,\n",
       "       0., 0., 0., 0., 0., 0., 0., 0., 0., 0., 0., 0., 0., 0., 0., 0., 0.,\n",
       "       0., 0., 0., 0., 0., 0., 0., 0., 0., 0., 0., 0., 0., 0., 0., 0., 0.,\n",
       "       0., 0., 0., 0., 0., 0., 0., 0., 0., 0., 1., 1., 1., 1., 1., 1., 1.,\n",
       "       1., 1., 1., 1., 1., 1., 1., 1., 1., 1., 1., 1., 1., 1., 1., 1., 1.,\n",
       "       1., 1., 1., 1., 1., 1., 1., 1., 1., 1., 1., 1., 1., 1., 1., 1., 1.,\n",
       "       1., 1., 1., 1., 1., 1., 1., 1., 1., 1., 1., 1., 1., 1., 1., 1., 1.,\n",
       "       1., 1., 1., 1., 1., 1., 1., 1., 1., 1., 2., 2., 2., 2., 2., 2., 2.,\n",
       "       2., 2., 2., 2., 2., 2., 2., 2., 2., 2., 2., 2., 2., 2., 2., 2., 2.,\n",
       "       2., 2., 2., 2., 2., 2., 2., 2., 2., 2., 2., 2., 2., 2., 2., 2., 2.,\n",
       "       2., 2., 2., 2., 2., 2., 2., 2., 2., 2., 2., 2., 2., 2., 2., 2., 2.,\n",
       "       2., 2., 2., 2., 2., 2., 2., 2., 2., 2., 2., 2., 2., 2., 2., 2., 2.,\n",
       "       2., 2., 2., 2., 2., 2., 2., 2., 2., 2., 2., 2., 2., 2., 2., 2., 2.,\n",
       "       2., 2., 2., 2., 2., 2., 2., 2., 2., 2., 2., 2., 2., 2., 2., 2., 2.,\n",
       "       2., 2., 2., 2., 2., 2., 2., 2., 2., 2., 2.])"
      ]
     },
     "execution_count": 361,
     "metadata": {},
     "output_type": "execute_result"
    }
   ],
   "source": [
    "y"
   ]
  },
  {
   "cell_type": "code",
   "execution_count": 320,
   "id": "7eaa84d1",
   "metadata": {},
   "outputs": [
    {
     "data": {
      "text/plain": [
       "array([0., 1., 2.])"
      ]
     },
     "execution_count": 320,
     "metadata": {},
     "output_type": "execute_result"
    }
   ],
   "source": [
    "diff_feats"
   ]
  },
  {
   "cell_type": "code",
   "execution_count": 316,
   "id": "3086f627",
   "metadata": {},
   "outputs": [],
   "source": [
    "\n",
    "\n",
    "#my train test split \n",
    "random.seed(10)\n",
    "\n",
    "train = int(0.7*under)\n",
    "test = under-train\n",
    "\n",
    "# get train and test arrays\n",
    "test_l = list()\n",
    "train_l = list()\n",
    "val_l = list()\n",
    "arr_rows = arr.shape[0] - 1\n",
    "y_pos = 0\n",
    "np.random.seed(13)\n",
    "for val in diff_feats:\n",
    "    for j in range(int(test)):\n",
    "        curr = np.random.randint(-1, high=arr_rows)\n",
    "        while arr[curr][y_pos] != val:\n",
    "            curr = np.random.randint(-1, high=arr_rows)\n",
    "\n",
    "        test_l.append(arr[curr].copy())\n",
    "        # print(arr[curr])\n",
    "        arr[curr][y_pos] = 100\n",
    "for val in diff_feats:\n",
    "    for j in range(train):\n",
    "        curr = np.random.randint(-1, high=arr_rows)\n",
    "        while arr[curr][y_pos] != val:\n",
    "            curr = np.random.randint(-1, high=arr_rows)\n",
    "\n",
    "        train_l.append(arr[curr].copy())\n",
    "        # print(arr[curr])\n",
    "        arr[curr][y_pos] = 100\n",
    "for i in range(arr.shape[0]):\n",
    "    if arr[i][0]!=100:\n",
    "        val_l.append(arr[i].copy())\n",
    "        arr[i][y_pos] = 100\n",
    "    # add randomize for idxes\n",
    "random.shuffle(test_l)\n",
    "random.shuffle(train_l)\n",
    "random.shuffle(val_l)\n",
    "\n",
    "test_arr = np.array(test_l)\n",
    "train_arr = np.array(train_l)\n",
    "val_arr = np.array(val_l)\n",
    "\n",
    "# split features from target\n",
    "X_train, y_train = train_arr[:, 1:].copy(), train_arr[:, 0].copy()\n",
    "X_test, y_test = test_arr[:, 1:].copy(), test_arr[:, 0].copy()\n",
    "X_val , y_val = val_arr[:, 1:].copy(), val_arr[:, 0].copy()\n"
   ]
  },
  {
   "cell_type": "code",
   "execution_count": 307,
   "id": "e26fe495",
   "metadata": {},
   "outputs": [
    {
     "data": {
      "text/plain": [
       "array([1.00e+00, 5.58e+01, 1.98e+01, 2.07e+02, 4.00e+03, 2.00e+00])"
      ]
     },
     "execution_count": 307,
     "metadata": {},
     "output_type": "execute_result"
    }
   ],
   "source": [
    "X_train[10]"
   ]
  },
  {
   "cell_type": "code",
   "execution_count": 362,
   "id": "d3c7ce67",
   "metadata": {},
   "outputs": [],
   "source": [
    "### no under sample  test train split\n",
    "random.seed(10)\n",
    "test=0.7\n",
    "row, col = arr.shape\n",
    "train_row = int(test * row) # need fix to row both lines\n",
    "test_row = row - train_row\n",
    "\n",
    "#X = arr[:, :-1].copy()\n",
    "diff_feats, count_feats = np.unique(y, return_counts=True)\n",
    "uniquetest = int(test_row/len(count_feats))\n",
    "\n",
    "\n",
    "#get train and test arrays\n",
    "test_l=list()\n",
    "train_l=list()\n",
    "arr_rows=arr.shape[0]-1\n",
    "y_pos = 0\n",
    "np.random.seed(13)\n",
    "for val in diff_feats:\n",
    "    for j in range(uniquetest):\n",
    "        curr = np.random.randint(-1, high=arr_rows)\n",
    "        while arr[curr][y_pos] != val:\n",
    "            curr = np.random.randint(-1, high=arr_rows)\n",
    "        \n",
    "        test_l.append(arr[curr].copy())\n",
    "        #print(arr[curr])\n",
    "        arr[curr][y_pos]=100\n",
    "for i in range(len(arr)):\n",
    "    if arr[i][y_pos] != 100:\n",
    "        #print(arr[i])\n",
    "        train_l.append(arr[i].copy())\n",
    "        arr[i][y_pos] = 100\n",
    "#add randomize for idxes\n",
    "random.shuffle(test_l)\n",
    "random.shuffle(train_l)\n",
    "\n",
    "        \n",
    "test_arr=np.array(test_l)\n",
    "train_arr=np.array(train_l)\n",
    "\n",
    "\n",
    "#split features from target\n",
    "X1_train, y1_train = train_arr[:, 1:].copy(), train_arr[:, 0].copy()\n",
    "X1_test, y1_test = test_arr[:, 1:].copy(), test_arr[:, 0].copy()"
   ]
  },
  {
   "cell_type": "code",
   "execution_count": 366,
   "id": "ee9cc611",
   "metadata": {},
   "outputs": [
    {
     "data": {
      "text/plain": [
       "(array([0., 1., 2.]), array([146,  68, 120], dtype=int64))"
      ]
     },
     "execution_count": 366,
     "metadata": {},
     "output_type": "execute_result"
    }
   ],
   "source": [
    "diff_feats, count_feats"
   ]
  },
  {
   "cell_type": "code",
   "execution_count": 369,
   "id": "1112fc37",
   "metadata": {},
   "outputs": [],
   "source": [
    "diff1_feats, count1_feats = np.unique(y1_test, return_counts=True)"
   ]
  },
  {
   "cell_type": "code",
   "execution_count": 370,
   "id": "71d12c2b",
   "metadata": {},
   "outputs": [
    {
     "data": {
      "text/plain": [
       "(array([0., 1., 2.]), array([33, 33, 33], dtype=int64))"
      ]
     },
     "execution_count": 370,
     "metadata": {},
     "output_type": "execute_result"
    }
   ],
   "source": [
    "diff1_feats, count1_feats"
   ]
  },
  {
   "cell_type": "code",
   "execution_count": 322,
   "id": "9fae12ff",
   "metadata": {},
   "outputs": [
    {
     "data": {
      "text/plain": [
       "array([0.000e+00, 4.330e+01, 1.400e+01, 2.080e+02, 4.575e+03, 1.000e+00])"
      ]
     },
     "execution_count": 322,
     "metadata": {},
     "output_type": "execute_result"
    }
   ],
   "source": [
    "X1_train[10]"
   ]
  },
  {
   "cell_type": "code",
   "execution_count": 323,
   "id": "6859a673",
   "metadata": {},
   "outputs": [
    {
     "data": {
      "text/plain": [
       "array([0., 2., 0., 0., 2., 2., 2., 1., 0.])"
      ]
     },
     "execution_count": 323,
     "metadata": {},
     "output_type": "execute_result"
    }
   ],
   "source": [
    "y1_train[1:10]"
   ]
  },
  {
   "cell_type": "code",
   "execution_count": 378,
   "id": "11b1b36f",
   "metadata": {},
   "outputs": [],
   "source": [
    "y2= arr[:,0].copy()\n",
    "XXX = arr[:,1:].copy()\n",
    "\n",
    "\n",
    "from sklearn.model_selection import train_test_split\n",
    "X2_train,X2_test, y2_train, y2_test =train_test_split( XXX, y2, test_size=0.30, shuffle=True)\n",
    "\n"
   ]
  },
  {
   "cell_type": "code",
   "execution_count": 379,
   "id": "c7491cfe",
   "metadata": {},
   "outputs": [
    {
     "data": {
      "text/plain": [
       "(233, 4)"
      ]
     },
     "execution_count": 379,
     "metadata": {},
     "output_type": "execute_result"
    }
   ],
   "source": [
    "X2_train.shape"
   ]
  },
  {
   "cell_type": "code",
   "execution_count": 181,
   "id": "8f7dad0c",
   "metadata": {},
   "outputs": [],
   "source": [
    "#helpers\n",
    "\n",
    "### helpers\n",
    "def eucDistance(p1,p2):\n",
    "    arrp1 = np.array(p1)\n",
    "    arrp2 = np.array(p2)\n",
    "    return np.linalg.norm(arrp1 - arrp2)\n",
    "\n",
    "\n",
    "def accTest(y_pred, y_true):\n",
    "    correct = 0\n",
    "    pred_len = len(y_pred)\n",
    "    if pred_len == len(y_true):\n",
    "        for i in range(pred_len):\n",
    "            if y_pred[i] == y_true[i]:\n",
    "                correct += 1\n",
    "        return correct/pred_len\n",
    "    else: print(\"prediction and true y not same len\")\n",
    "#methods - PCA , \n",
    "#models  - KNN , KMEANS , LIN SVM , PERCEPTRON\n",
    "\n",
    "class mKNN:\n",
    "    def __init__(self, k=3):\n",
    "        self.k = k\n",
    "\n",
    "    def fit(self, X, y):\n",
    "        self.X_train = X\n",
    "        self.y_train = y\n",
    "\n",
    "    def pred(self, x):\n",
    "        # for 1 row calc distances and return closest k\n",
    "        distances = [eucDistance(x, x_train) for x_train in self.X_train]\n",
    "        k_idx = np.argsort(distances)[:self.k]\n",
    "        # most labels\n",
    "        k_labels = [self.y_train[i] for i in k_idx]\n",
    "        #print(k_labels)\n",
    "        label, counts = np.unique(k_labels, return_counts=True)\n",
    "        max_count = 0\n",
    "        max_idx = 0\n",
    "        for i in range(len(counts)):\n",
    "            if counts[i] >= max_count:\n",
    "                max_count = counts[i]\n",
    "                max_idx = i\n",
    "        return label[max_idx]\n",
    "\n",
    "    def predict(self, X):\n",
    "        predictions = [self.pred(x) for x in X]\n",
    "        return predictions\n",
    "\n",
    "class mPCA:\n",
    "    def __init__(self, num_components):\n",
    "        self.num_comp = num_components\n",
    "        self.components = None\n",
    "        self.mean=None\n",
    "    def fit(self,X):\n",
    "        #set mean for self\n",
    "        self.mean = np.mean(X, axis=0)\n",
    "        X = X - self.mean\n",
    "        #calc covariance of transpose\n",
    "        cov = np.cov(X.T)\n",
    "        #eigen vectors and vals\n",
    "        eiVals , eiVecs = np.linalg.eig(cov)\n",
    "        eiVecs = eiVecs.T\n",
    "        # sort from largest = most valubale for us\n",
    "        idxs = np.argsort(eiVals)[::-1]\n",
    "        eiVals = eiVals[idxs]\n",
    "        eiVecs = eiVecs[idxs]\n",
    "\n",
    "        # we keep the num_comp = vectors\n",
    "        self.components = eiVecs[:self.num_comp]\n",
    "\n",
    "    def transform(self, X):\n",
    "        X = X - self.mean\n",
    "        return np.dot(X, self.components.T)\n",
    "\n",
    "\n",
    "# np func to return 1/0 if x>0 as our threshold is 0\n",
    "def step_func(x):\n",
    "    return np.where(x > 0, 1, 0)\n",
    "\n",
    "\n",
    "\n",
    "class mPERCEPTRON:\n",
    "    def __init__(self,learning_rate = 0.01 , n_iterations = 1000):\n",
    "        self.lr = learning_rate\n",
    "        self.n_iter = n_iterations\n",
    "        self.weights = None\n",
    "        self.bias = None\n",
    "        self.activation_func = step_func\n",
    "\n",
    "    def fit (self , X, y):\n",
    "        n_samp , n_feat = X.shape\n",
    "        # need to init params well use random initiation\n",
    "        # self.weights = np.random.rand(n_feat)\n",
    "        self.weights = np.zeros(n_feat)\n",
    "        # zero bias to begin with\n",
    "        self.bias = 0\n",
    "\n",
    "        # make y labels not negative\n",
    "        y_1_0 = np.where(y>1, 1, 0)\n",
    "        print(y_1_0)\n",
    "\n",
    "        # learn weights:\n",
    "        for i in range(self.n_iter):\n",
    "            for idx, x_i in enumerate(X):\n",
    "                # weights.transpose*X + bias\n",
    "                lin_output = np.dot(x_i, self.weights) + self.bias\n",
    "                y_predict = self.activation_func(lin_output)\n",
    "\n",
    "                # update rule:\n",
    "                upd = self.lr *(y_1_0[idx] - y_predict)\n",
    "                # weights\n",
    "                self.weights += upd * x_i\n",
    "                # bias\n",
    "                self.bias += upd\n",
    "\n",
    "    def predict(self, X):\n",
    "        lin_output = np.dot(X, self.weights) + self.bias\n",
    "        y_predict = self.activation_func(lin_output)\n",
    "        ## need to add loss func and acc for each iter print\n",
    "        return y_predict\n",
    "\n",
    "# randomly assign k cluster centers , then label points to cluster with nearest centroid\n",
    "# compute cluster mean ,set as center ,  and iterate untill distances minimized or no change\n",
    "\n",
    "\n",
    "class mKMEANS:\n",
    "    def __init__(self, k_clusters=3, max_iterations=100, plot_steps=False):\n",
    "        self.k = k_clusters\n",
    "        self.mean = None\n",
    "        self.iter = max_iterations\n",
    "        self.plot_steps = plot_steps\n",
    "        # list of points for each cluster\n",
    "        self.clusters = [[] for _ in range(self.k)]\n",
    "        self.centroids = None\n",
    "        self.num_samples = None\n",
    "        self.num_features = None\n",
    "        self.X = None\n",
    "\n",
    "    def predict(self, X):\n",
    "        self.X = X\n",
    "        self.num_samples, self.num_features = X.shape\n",
    "        # randomly select k centroids\n",
    "        rand_idxs = np.random.choice(self.num_samples, self.k, replace=False)\n",
    "        self.centroids =np.array( [self.X[idx] for idx in rand_idxs])\n",
    "        # assign points to cluster by distance to center\n",
    "        # for each cent check distances to points take 1/k closest  and assign to cluster\n",
    "        for _ in range(self.iter):\n",
    "            self.clusters = self._create_clusters(self.centroids)\n",
    "\n",
    "            if self.plot_steps:\n",
    "                self.plot()\n",
    "\n",
    "            centroids_old = self.centroids\n",
    "            self.centroids = self._get_centroids(self.clusters)\n",
    "\n",
    "\n",
    "            if self._converged(centroids_old,self.centroids):\n",
    "\n",
    "                # case no more changes\n",
    "                break\n",
    "            if self.plot_steps:\n",
    "                self.plot()\n",
    "        return self._get_cluster_labels(self.clusters)\n",
    "\n",
    "    def _create_clusters(self, centroids):\n",
    "        clusters = [[] for _ in range(self.k)]\n",
    "        for idx, sample in enumerate(self.X):\n",
    "            cent_idx = self._closest_cent(sample, centroids)\n",
    "            clusters[cent_idx].append(idx)\n",
    "\n",
    "        return clusters\n",
    "\n",
    "    def _closest_cent(self, sample, centroids):\n",
    "        distances = [eucDistance(sample, point) for point in centroids]\n",
    "\n",
    "        closest_idx = np.argmin(distances)\n",
    "        return closest_idx\n",
    "\n",
    "    def plot(self):\n",
    "        fig, ax = plt.subplots(figsize=(12, 8))\n",
    "\n",
    "        for i, idx in enumerate(self.clusters):\n",
    "            point = self.X[idx].T\n",
    "            ax.scatter(*point)\n",
    "        for point in self.centroids:\n",
    "            ax.scatter(*point, marker=\"x\", color=\"black\", linewidth=2)\n",
    "        plt.show()\n",
    "\n",
    "    def _get_centroids(self, clusters):\n",
    "        # get mean val and idx for each cluster , ret new centroids\n",
    "        centroids = np.zeros((self.k, self.num_features))\n",
    "\n",
    "        for clust_idx, cluster in enumerate(clusters):\n",
    "            clust_mean = np.mean(self.X[cluster], axis=0)\n",
    "            centroids[clust_idx] = clust_mean\n",
    "\n",
    "        return centroids\n",
    "\n",
    "    def _converged(self, centroids_old, centroids):\n",
    "\n",
    "        # if distances == 0 we converged\n",
    "        distances = [eucDistance(centroids[i],centroids_old[i]) for i in range(self.k)]\n",
    "\n",
    "\n",
    "        if sum(distances) == 0:\n",
    "            return True\n",
    "        else:\n",
    "            return False\n",
    "\n",
    "    def _get_cluster_labels(self, clusters):\n",
    "        labels = np.empty(self.num_samples)\n",
    "        # for each cluster set all labels of points to cluster label\n",
    "        for clust_idx, cluster in enumerate(clusters):\n",
    "            for sample_idx in cluster:\n",
    "                labels[sample_idx] = clust_idx\n",
    "        return labels\n",
    "\n",
    "\n",
    "\n",
    "\n",
    "\n",
    "\n",
    "\n",
    "\n",
    "\n",
    "# make v1 then add kernels and see how it affects our prediction metrics\n",
    "# late maybe do 1v1 or 1 v all mode\n",
    "\n",
    "# steps : randomize weights , correct labels , apply update * iterations ,\n",
    "class mSVM:\n",
    "    def __init__(self, learn_rate = 0.001 , lambda_param= 0.01 , num_iters = 1000):\n",
    "        self.lr = learn_rate\n",
    "        self.lamb = lambda_param\n",
    "        self.n_iter = num_iters\n",
    "        #self.kern = kernel\n",
    "        self.w = None\n",
    "        self.b = None\n",
    "\n",
    "    def fit(self, X, y):\n",
    "        n_samp ,n_feat = X.shape\n",
    "        # balance y to -1 1\n",
    "        #_y = np.where(y<=0 , -1 ,1)\n",
    "        _y = np.where(y == 0, -1, 1)\n",
    "        # weights rand init\n",
    "        self.w = np.zeros(n_feat)\n",
    "        self.b = 0\n",
    "\n",
    "        for _ in range(self.n_iter):\n",
    "            for idx, x_i in enumerate(X):\n",
    "                if (_y[idx]*(np.dot(self.w,x_i)-self.b))>=1:\n",
    "                    self.w -= self.lr * (2*self.lamb*self.w)\n",
    "                    #bias not updated cause grad is zero\n",
    "                else:\n",
    "                    self.w -= self.lr * (2*self.lamb - np.dot(_y[idx],x_i))\n",
    "                    self.b -= self.lr * _y[idx]\n",
    "\n",
    "    def predict(self, X):\n",
    "        approximate = np.dot(X , self.w) - self.b\n",
    "        return np.sign(approximate)\n",
    "\n",
    "\n",
    "\n"
   ]
  },
  {
   "cell_type": "code",
   "execution_count": 221,
   "id": "9797e190",
   "metadata": {
    "scrolled": true
   },
   "outputs": [
    {
     "name": "stdout",
     "output_type": "stream",
     "text": [
      "k is: 1\n",
      "time taken : 0.03799271583557129\n",
      "0.9833333333333333\n",
      "k is: 2\n",
      "time taken : 0.03600478172302246\n",
      "0.9833333333333333\n",
      "k is: 3\n",
      "time taken : 0.03600788116455078\n",
      "0.9833333333333333\n",
      "k is: 4\n",
      "time taken : 0.03600025177001953\n",
      "0.9666666666666667\n",
      "k is: 5\n",
      "time taken : 0.03602886199951172\n",
      "0.9666666666666667\n",
      "k is: 6\n",
      "time taken : 0.0360257625579834\n",
      "0.9666666666666667\n",
      "k is: 7\n",
      "time taken : 0.03597259521484375\n",
      "0.9833333333333333\n",
      "k is: 8\n",
      "time taken : 0.03699803352355957\n",
      "0.9666666666666667\n",
      "k is: 9\n",
      "time taken : 0.03601336479187012\n",
      "0.9666666666666667\n",
      "k is: 10\n",
      "time taken : 0.03600049018859863\n",
      "0.9666666666666667\n",
      "k is: 11\n",
      "time taken : 0.03601551055908203\n",
      "0.9666666666666667\n",
      "k is: 12\n",
      "time taken : 0.03706789016723633\n",
      "0.9666666666666667\n",
      "k is: 13\n",
      "time taken : 0.037039756774902344\n",
      "0.9666666666666667\n",
      "k is: 14\n",
      "time taken : 0.036989450454711914\n",
      "0.9666666666666667\n",
      "k is: 15\n",
      "time taken : 0.03599953651428223\n",
      "0.9666666666666667\n",
      "k is: 16\n",
      "time taken : 0.03699755668640137\n",
      "0.9666666666666667\n",
      "k is: 17\n",
      "time taken : 0.03600001335144043\n",
      "0.9833333333333333\n",
      "k is: 18\n",
      "time taken : 0.03600120544433594\n",
      "0.9666666666666667\n",
      "k is: 19\n",
      "time taken : 0.03800153732299805\n",
      "0.9666666666666667\n",
      "k is: 20\n",
      "time taken : 0.03699803352355957\n",
      "0.9666666666666667\n",
      "k is: 21\n",
      "time taken : 0.03700065612792969\n",
      "0.9666666666666667\n",
      "k is: 22\n",
      "time taken : 0.03599977493286133\n",
      "0.9666666666666667\n",
      "k is: 23\n",
      "time taken : 0.03599977493286133\n",
      "0.9833333333333333\n",
      "k is: 24\n",
      "time taken : 0.03704118728637695\n",
      "0.9833333333333333\n"
     ]
    }
   ],
   "source": [
    "# KNN test\n",
    "resmKNN = list()\n",
    "\n",
    "for i in range(1,25):\n",
    "    ls=list()\n",
    "    ls.append(i)\n",
    "    st=time.time()\n",
    "    knn=mKNN(i)\n",
    "    knn.fit(X_train,y_train)\n",
    "    pred=knn.predict(X_test)\n",
    "    en=time.time()\n",
    "    ls.append(en-st)\n",
    "    ls.append(accTest(pred , y_test))\n",
    "    print(\"k is:\", i)\n",
    "    print(\"time taken :\" ,en-st)\n",
    "    print(accTest(pred , y_test))\n",
    "    resmKNN.append(ls)"
   ]
  },
  {
   "cell_type": "code",
   "execution_count": 456,
   "id": "d08281d2",
   "metadata": {},
   "outputs": [
    {
     "name": "stdout",
     "output_type": "stream",
     "text": [
      "k is: 1\n",
      "time taken : 0.1020040512084961\n",
      "0.9696969696969697\n",
      "k is: 2\n",
      "time taken : 0.10300016403198242\n",
      "0.9797979797979798\n",
      "k is: 3\n",
      "time taken : 0.10099959373474121\n",
      "0.9696969696969697\n",
      "k is: 4\n",
      "time taken : 0.10199999809265137\n",
      "0.9696969696969697\n",
      "k is: 5\n",
      "time taken : 0.10100030899047852\n",
      "0.9494949494949495\n",
      "k is: 6\n",
      "time taken : 0.10100007057189941\n",
      "0.9696969696969697\n",
      "k is: 7\n",
      "time taken : 0.1019890308380127\n",
      "0.9595959595959596\n",
      "k is: 8\n",
      "time taken : 0.10101056098937988\n",
      "0.9595959595959596\n",
      "k is: 9\n",
      "time taken : 0.09999990463256836\n",
      "0.9494949494949495\n",
      "k is: 10\n",
      "time taken : 0.10299992561340332\n",
      "0.9494949494949495\n",
      "k is: 11\n",
      "time taken : 0.10200071334838867\n",
      "0.9494949494949495\n",
      "k is: 12\n",
      "time taken : 0.10099983215332031\n",
      "0.9494949494949495\n",
      "k is: 13\n",
      "time taken : 0.10299968719482422\n",
      "0.9191919191919192\n",
      "k is: 14\n",
      "time taken : 0.10100007057189941\n",
      "0.9393939393939394\n",
      "k is: 15\n",
      "time taken : 0.10098910331726074\n",
      "0.9292929292929293\n",
      "k is: 16\n",
      "time taken : 0.10201072692871094\n",
      "0.9393939393939394\n",
      "k is: 17\n",
      "time taken : 0.10199999809265137\n",
      "0.9393939393939394\n",
      "k is: 18\n",
      "time taken : 0.10200023651123047\n",
      "0.9494949494949495\n",
      "k is: 19\n",
      "time taken : 0.10199975967407227\n",
      "0.9393939393939394\n",
      "k is: 20\n",
      "time taken : 0.10098958015441895\n",
      "0.9393939393939394\n",
      "k is: 21\n",
      "time taken : 0.10301327705383301\n",
      "0.9292929292929293\n",
      "k is: 22\n",
      "time taken : 0.10300111770629883\n",
      "0.9393939393939394\n",
      "k is: 23\n",
      "time taken : 0.1029958724975586\n",
      "0.9191919191919192\n",
      "k is: 24\n",
      "time taken : 0.10400032997131348\n",
      "0.9292929292929293\n"
     ]
    }
   ],
   "source": [
    "# KNN test scaled\n",
    "resmKNN1 = list()\n",
    "\n",
    "for i in range(1,25):\n",
    "    ls=list()\n",
    "    ls.append(i)\n",
    "    st=time.time()\n",
    "    knn=mKNN(i)\n",
    "    knn.fit(X3_train,y1_train)\n",
    "    pred=knn.predict(X3_test)\n",
    "    en=time.time()\n",
    "    ls.append(en-st)\n",
    "    ls.append(accTest(pred , y1_test))\n",
    "    print(\"k is:\", i)\n",
    "    print(\"time taken :\" ,en-st)\n",
    "    print(accTest(pred , y1_test))\n",
    "    resmKNN1.append(ls)"
   ]
  },
  {
   "cell_type": "code",
   "execution_count": 294,
   "id": "8d385bae",
   "metadata": {},
   "outputs": [
    {
     "data": {
      "text/plain": [
       "(132, 6)"
      ]
     },
     "execution_count": 294,
     "metadata": {},
     "output_type": "execute_result"
    }
   ],
   "source": [
    "X_train.shape"
   ]
  },
  {
   "cell_type": "code",
   "execution_count": 222,
   "id": "ba90f7fd",
   "metadata": {
    "scrolled": true
   },
   "outputs": [
    {
     "name": "stdout",
     "output_type": "stream",
     "text": [
      "k is: 1\n",
      "time taken : 0.003000974655151367\n",
      "0.9833333333333333\n",
      "k is: 2\n",
      "time taken : 0.0029976367950439453\n",
      "0.9833333333333333\n",
      "k is: 3\n",
      "time taken : 0.00200653076171875\n",
      "0.9833333333333333\n",
      "k is: 4\n",
      "time taken : 0.001995086669921875\n",
      "0.9833333333333333\n",
      "k is: 5\n",
      "time taken : 0.0020012855529785156\n",
      "0.9666666666666667\n",
      "k is: 6\n",
      "time taken : 0.0019979476928710938\n",
      "0.9833333333333333\n",
      "k is: 7\n",
      "time taken : 0.002001047134399414\n",
      "0.9833333333333333\n",
      "k is: 8\n",
      "time taken : 0.0020003318786621094\n",
      "0.9833333333333333\n",
      "k is: 9\n",
      "time taken : 0.0019991397857666016\n",
      "0.9666666666666667\n",
      "k is: 10\n",
      "time taken : 0.0020036697387695312\n",
      "0.9666666666666667\n",
      "k is: 11\n",
      "time taken : 0.0020017623901367188\n",
      "0.9666666666666667\n",
      "k is: 12\n",
      "time taken : 0.002997875213623047\n",
      "0.9666666666666667\n",
      "k is: 13\n",
      "time taken : 0.0019969940185546875\n",
      "0.9666666666666667\n",
      "k is: 14\n",
      "time taken : 0.002005338668823242\n",
      "0.9666666666666667\n",
      "k is: 15\n",
      "time taken : 0.0020029544830322266\n",
      "0.9666666666666667\n",
      "k is: 16\n",
      "time taken : 0.0019948482513427734\n",
      "0.9833333333333333\n",
      "k is: 17\n",
      "time taken : 0.001999378204345703\n",
      "0.9833333333333333\n",
      "k is: 18\n",
      "time taken : 0.002000570297241211\n",
      "0.9833333333333333\n",
      "k is: 19\n",
      "time taken : 0.003003835678100586\n",
      "0.9666666666666667\n",
      "k is: 20\n",
      "time taken : 0.0020034313201904297\n",
      "0.9833333333333333\n",
      "k is: 21\n",
      "time taken : 0.002020597457885742\n",
      "0.9666666666666667\n",
      "k is: 22\n",
      "time taken : 0.0019791126251220703\n",
      "0.9833333333333333\n",
      "k is: 23\n",
      "time taken : 0.002021312713623047\n",
      "0.9833333333333333\n",
      "k is: 24\n",
      "time taken : 0.001999378204345703\n",
      "0.9833333333333333\n"
     ]
    }
   ],
   "source": [
    "# KNN test from library\n",
    "\n",
    "\n",
    "resKNN = list()\n",
    "for i in range(1,25):\n",
    "    ls=list()\n",
    "    ls.append(i)\n",
    "    st=time.time()\n",
    "    knn = KNeighborsClassifier(n_neighbors=i)\n",
    "    knn.fit(X_train,y_train)\n",
    "    pred=knn.predict(X_test)\n",
    "    en=time.time()\n",
    "    ls.append(en-st)\n",
    "    ls.append(accTest(pred , y_test))\n",
    "    print(\"k is:\", i)\n",
    "    print(\"time taken :\" ,en-st)\n",
    "    print(accTest(pred , y_test))\n",
    "    resKNN.append(ls)"
   ]
  },
  {
   "cell_type": "code",
   "execution_count": 457,
   "id": "adb5c7f1",
   "metadata": {},
   "outputs": [
    {
     "name": "stdout",
     "output_type": "stream",
     "text": [
      "k is: 1\n",
      "time taken : 0.003998756408691406\n",
      "0.9696969696969697\n",
      "k is: 2\n",
      "time taken : 0.0030024051666259766\n",
      "0.9393939393939394\n",
      "k is: 3\n",
      "time taken : 0.003009796142578125\n",
      "0.9696969696969697\n",
      "k is: 4\n",
      "time taken : 0.002986907958984375\n",
      "0.9494949494949495\n",
      "k is: 5\n",
      "time taken : 0.0030024051666259766\n",
      "0.9494949494949495\n",
      "k is: 6\n",
      "time taken : 0.002001047134399414\n",
      "0.9393939393939394\n",
      "k is: 7\n",
      "time taken : 0.003010272979736328\n",
      "0.9595959595959596\n",
      "k is: 8\n",
      "time taken : 0.0029997825622558594\n",
      "0.9494949494949495\n",
      "k is: 9\n",
      "time taken : 0.0020008087158203125\n",
      "0.9494949494949495\n",
      "k is: 10\n",
      "time taken : 0.002998828887939453\n",
      "0.9292929292929293\n",
      "k is: 11\n",
      "time taken : 0.0029904842376708984\n",
      "0.9494949494949495\n",
      "k is: 12\n",
      "time taken : 0.0020101070404052734\n",
      "0.898989898989899\n",
      "k is: 13\n",
      "time taken : 0.0020003318786621094\n",
      "0.9191919191919192\n",
      "k is: 14\n",
      "time taken : 0.002997159957885742\n",
      "0.9191919191919192\n",
      "k is: 15\n",
      "time taken : 0.0029954910278320312\n",
      "0.9292929292929293\n",
      "k is: 16\n",
      "time taken : 0.004007577896118164\n",
      "0.9292929292929293\n",
      "k is: 17\n",
      "time taken : 0.0029997825622558594\n",
      "0.9393939393939394\n",
      "k is: 18\n",
      "time taken : 0.002999544143676758\n",
      "0.9292929292929293\n",
      "k is: 19\n",
      "time taken : 0.0019953250885009766\n",
      "0.9393939393939394\n",
      "k is: 20\n",
      "time taken : 0.0019979476928710938\n",
      "0.9191919191919192\n",
      "k is: 21\n",
      "time taken : 0.0020008087158203125\n",
      "0.9292929292929293\n",
      "k is: 22\n",
      "time taken : 0.00298309326171875\n",
      "0.898989898989899\n",
      "k is: 23\n",
      "time taken : 0.0030059814453125\n",
      "0.9191919191919192\n",
      "k is: 24\n",
      "time taken : 0.0030105113983154297\n",
      "0.898989898989899\n"
     ]
    }
   ],
   "source": [
    "# KNN test from library normalized\n",
    "\n",
    "\n",
    "resKNN1 = list()\n",
    "for i in range(1,25):\n",
    "    ls=list()\n",
    "    ls.append(i)\n",
    "    st=time.time()\n",
    "    knn = KNeighborsClassifier(n_neighbors=i)\n",
    "    knn.fit(X3_train,y1_train)\n",
    "    pred=knn.predict(X3_test)\n",
    "    en=time.time()\n",
    "    ls.append(en-st)\n",
    "    ls.append(accTest(pred , y1_test))\n",
    "    print(\"k is:\", i)\n",
    "    print(\"time taken :\" ,en-st)\n",
    "    print(accTest(pred , y1_test))\n",
    "    resKNN1.append(ls)"
   ]
  },
  {
   "cell_type": "code",
   "execution_count": 218,
   "id": "ed695d45",
   "metadata": {},
   "outputs": [
    {
     "name": "stdout",
     "output_type": "stream",
     "text": [
      "0.9014084507042254\n",
      "              precision    recall  f1-score   support\n",
      "\n",
      "         0.0       1.00      0.83      0.91        82\n",
      "         1.0       0.22      1.00      0.36         4\n",
      "         2.0       1.00      1.00      1.00        56\n",
      "\n",
      "    accuracy                           0.90       142\n",
      "   macro avg       0.74      0.94      0.76       142\n",
      "weighted avg       0.98      0.90      0.93       142\n",
      "\n"
     ]
    }
   ],
   "source": [
    "knn = KNeighborsClassifier(n_neighbors=3)\n",
    "knn.fit(X_train,y_train)\n",
    "predd=knn.predict(X_val)\n",
    "\n",
    "print(accuracy_score(y_val, predd))\n",
    "print(classification_report(y_val, predd))"
   ]
  },
  {
   "cell_type": "code",
   "execution_count": 220,
   "id": "0a8990a6",
   "metadata": {
    "scrolled": true
   },
   "outputs": [
    {
     "name": "stdout",
     "output_type": "stream",
     "text": [
      "0.9014084507042254\n",
      "              precision    recall  f1-score   support\n",
      "\n",
      "         0.0       1.00      0.83      0.91        82\n",
      "         1.0       0.22      1.00      0.36         4\n",
      "         2.0       1.00      1.00      1.00        56\n",
      "\n",
      "    accuracy                           0.90       142\n",
      "   macro avg       0.74      0.94      0.76       142\n",
      "weighted avg       0.98      0.90      0.93       142\n",
      "\n"
     ]
    }
   ],
   "source": [
    "knn = mKNN(3)\n",
    "knn.fit(X_train,y_train)\n",
    "predd=knn.predict(X_val)\n",
    "\n",
    "print(accuracy_score(y_val, predd))\n",
    "print(classification_report(y_val, predd))"
   ]
  },
  {
   "cell_type": "code",
   "execution_count": 235,
   "id": "cdfd232e",
   "metadata": {},
   "outputs": [
    {
     "name": "stdout",
     "output_type": "stream",
     "text": [
      "0.9833333333333333\n"
     ]
    }
   ],
   "source": [
    "print(resKNN[2][2])"
   ]
  },
  {
   "cell_type": "code",
   "execution_count": null,
   "id": "2cc4330b",
   "metadata": {},
   "outputs": [],
   "source": [
    "## some plot code for results"
   ]
  },
  {
   "cell_type": "code",
   "execution_count": 458,
   "id": "6976929f",
   "metadata": {
    "scrolled": false
   },
   "outputs": [
    {
     "name": "stdout",
     "output_type": "stream",
     "text": [
      "my res for k= 1  is : [1, 0.1020040512084961, 0.9696969696969697]\n",
      " res for k= 1  is : [1, 0.003998756408691406, 0.9696969696969697]\n",
      "time diff = 0.09800529479980469\n",
      "my res for k= 2  is : [2, 0.10300016403198242, 0.9797979797979798]\n",
      " res for k= 2  is : [2, 0.0030024051666259766, 0.9393939393939394]\n",
      "time diff = 0.09999775886535645\n",
      "my res for k= 3  is : [3, 0.10099959373474121, 0.9696969696969697]\n",
      " res for k= 3  is : [3, 0.003009796142578125, 0.9696969696969697]\n",
      "time diff = 0.09798979759216309\n",
      "my res for k= 4  is : [4, 0.10199999809265137, 0.9696969696969697]\n",
      " res for k= 4  is : [4, 0.002986907958984375, 0.9494949494949495]\n",
      "time diff = 0.09901309013366699\n",
      "my res for k= 5  is : [5, 0.10100030899047852, 0.9494949494949495]\n",
      " res for k= 5  is : [5, 0.0030024051666259766, 0.9494949494949495]\n",
      "time diff = 0.09799790382385254\n",
      "my res for k= 6  is : [6, 0.10100007057189941, 0.9696969696969697]\n",
      " res for k= 6  is : [6, 0.002001047134399414, 0.9393939393939394]\n",
      "time diff = 0.0989990234375\n",
      "my res for k= 7  is : [7, 0.1019890308380127, 0.9595959595959596]\n",
      " res for k= 7  is : [7, 0.003010272979736328, 0.9595959595959596]\n",
      "time diff = 0.09897875785827637\n",
      "my res for k= 8  is : [8, 0.10101056098937988, 0.9595959595959596]\n",
      " res for k= 8  is : [8, 0.0029997825622558594, 0.9494949494949495]\n",
      "time diff = 0.09801077842712402\n",
      "my res for k= 9  is : [9, 0.09999990463256836, 0.9494949494949495]\n",
      " res for k= 9  is : [9, 0.0020008087158203125, 0.9494949494949495]\n",
      "time diff = 0.09799909591674805\n",
      "my res for k= 10  is : [10, 0.10299992561340332, 0.9494949494949495]\n",
      " res for k= 10  is : [10, 0.002998828887939453, 0.9292929292929293]\n",
      "time diff = 0.10000109672546387\n",
      "my res for k= 11  is : [11, 0.10200071334838867, 0.9494949494949495]\n",
      " res for k= 11  is : [11, 0.0029904842376708984, 0.9494949494949495]\n",
      "time diff = 0.09901022911071777\n",
      "my res for k= 12  is : [12, 0.10099983215332031, 0.9494949494949495]\n",
      " res for k= 12  is : [12, 0.0020101070404052734, 0.898989898989899]\n",
      "time diff = 0.09898972511291504\n",
      "my res for k= 13  is : [13, 0.10299968719482422, 0.9191919191919192]\n",
      " res for k= 13  is : [13, 0.0020003318786621094, 0.9191919191919192]\n",
      "time diff = 0.10099935531616211\n",
      "my res for k= 14  is : [14, 0.10100007057189941, 0.9393939393939394]\n",
      " res for k= 14  is : [14, 0.002997159957885742, 0.9191919191919192]\n",
      "time diff = 0.09800291061401367\n",
      "my res for k= 15  is : [15, 0.10098910331726074, 0.9292929292929293]\n",
      " res for k= 15  is : [15, 0.0029954910278320312, 0.9292929292929293]\n",
      "time diff = 0.09799361228942871\n",
      "my res for k= 16  is : [16, 0.10201072692871094, 0.9393939393939394]\n",
      " res for k= 16  is : [16, 0.004007577896118164, 0.9292929292929293]\n",
      "time diff = 0.09800314903259277\n",
      "my res for k= 17  is : [17, 0.10199999809265137, 0.9393939393939394]\n",
      " res for k= 17  is : [17, 0.0029997825622558594, 0.9393939393939394]\n",
      "time diff = 0.09900021553039551\n",
      "my res for k= 18  is : [18, 0.10200023651123047, 0.9494949494949495]\n",
      " res for k= 18  is : [18, 0.002999544143676758, 0.9292929292929293]\n",
      "time diff = 0.09900069236755371\n",
      "my res for k= 19  is : [19, 0.10199975967407227, 0.9393939393939394]\n",
      " res for k= 19  is : [19, 0.0019953250885009766, 0.9393939393939394]\n",
      "time diff = 0.10000443458557129\n",
      "my res for k= 20  is : [20, 0.10098958015441895, 0.9393939393939394]\n",
      " res for k= 20  is : [20, 0.0019979476928710938, 0.9191919191919192]\n",
      "time diff = 0.09899163246154785\n",
      "my res for k= 21  is : [21, 0.10301327705383301, 0.9292929292929293]\n",
      " res for k= 21  is : [21, 0.0020008087158203125, 0.9292929292929293]\n",
      "time diff = 0.1010124683380127\n",
      "my res for k= 22  is : [22, 0.10300111770629883, 0.9393939393939394]\n",
      " res for k= 22  is : [22, 0.00298309326171875, 0.898989898989899]\n",
      "time diff = 0.10001802444458008\n",
      "my res for k= 23  is : [23, 0.1029958724975586, 0.9191919191919192]\n",
      " res for k= 23  is : [23, 0.0030059814453125, 0.9191919191919192]\n",
      "time diff = 0.0999898910522461\n",
      "my res for k= 24  is : [24, 0.10400032997131348, 0.9292929292929293]\n",
      " res for k= 24  is : [24, 0.0030105113983154297, 0.898989898989899]\n",
      "time diff = 0.10098981857299805\n",
      "my loss: 12\n"
     ]
    }
   ],
   "source": [
    "# check if results are the same for my knn and library's knn :\n",
    "my_loss =0\n",
    "plxT1 = []\n",
    "plyT1 = []\n",
    "plxA1 = []\n",
    "plyA1 = []\n",
    "for i in range(len(resmKNN1)):\n",
    "     \n",
    "    plxT1.append(resmKNN1[i][1])\n",
    "    plyT1.append(resKNN1[i][1])\n",
    "    plxA1.append(resmKNN1[i][2])\n",
    "    plyA1.append(resKNN1[i][2])\n",
    "    if resmKNN1[i] == resKNN1 [i]:\n",
    "        print( \"SAME RESULTS FOR BOTH METHODS mKNN , KNN\")\n",
    "    else:\n",
    "        print (\"my res for k=\",i+1 ,\" is :\" , resmKNN1[i] )\n",
    "        print (\" res for k=\",i+1 ,\" is :\" , resKNN1[i] )\n",
    "        print (\"time diff =\" ,resmKNN1[i][1]-resKNN1[i][1] )\n",
    "        if resmKNN1[i][2]!=resKNN1[i][2]:\n",
    "            my_loss = my_loss+1\n",
    "print(\"my loss:\",my_loss)        "
   ]
  },
  {
   "cell_type": "code",
   "execution_count": null,
   "id": "a03b273e",
   "metadata": {},
   "outputs": [],
   "source": []
  },
  {
   "cell_type": "code",
   "execution_count": 255,
   "id": "49ea2f30",
   "metadata": {},
   "outputs": [],
   "source": [
    "#plxT = []\n",
    "#plyT = []\n",
    "#plxA = []\n",
    "#plyA = []\n",
    "ti = [i for i in range(1,25)]    "
   ]
  },
  {
   "cell_type": "code",
   "execution_count": 261,
   "id": "771d6903",
   "metadata": {
    "scrolled": true
   },
   "outputs": [
    {
     "data": {
      "image/png": "[encoded data removed]",
      "text/plain": [
       "<Figure size 640x480 with 1 Axes>"
      ]
     },
     "metadata": {},
     "output_type": "display_data"
    }
   ],
   "source": [
    "\n",
    "\n",
    "  \n",
    "# plot lines \n",
    "#plt.plot(ti,plxT,  label = \"MY knn\", linestyle=\"-\") \n",
    "#plt.plot(ti,plyT,  label = \"knn\", linestyle=\"--\") \n",
    "plt.plot(ti,plxA,  label = \"Myknn\", linestyle=\"-.\") \n",
    "plt.plot(ti,plyA,  label = \"knn\", linestyle=\":\") \n",
    "plt.legend() \n",
    "plt.show()"
   ]
  },
  {
   "cell_type": "code",
   "execution_count": 459,
   "id": "eb5985fc",
   "metadata": {},
   "outputs": [
    {
     "data": {
      "image/png": "[encoded data removed]",
      "text/plain": [
       "<Figure size 640x480 with 1 Axes>"
      ]
     },
     "metadata": {},
     "output_type": "display_data"
    }
   ],
   "source": [
    "# plot lines \n",
    "#plt.plot(ti,plxT,  label = \"MY knn\", linestyle=\"-\") \n",
    "#plt.plot(ti,plyT,  label = \"knn\", linestyle=\"--\") \n",
    "plt.plot(ti,plxA1,  label = \"Myknn norm\", linestyle=\"-.\") \n",
    "plt.plot(ti,plyA1,  label = \"knn norm\", linestyle=\":\") \n",
    "plt.legend() \n",
    "plt.show()"
   ]
  },
  {
   "cell_type": "code",
   "execution_count": 260,
   "id": "d1f16920",
   "metadata": {
    "scrolled": false
   },
   "outputs": [
    {
     "data": {
      "image/png": "[encoded data removed]",
      "text/plain": [
       "<Figure size 640x480 with 1 Axes>"
      ]
     },
     "metadata": {},
     "output_type": "display_data"
    }
   ],
   "source": [
    "\n",
    "\n",
    "  \n",
    "# plot lines \n",
    "plt.plot(ti,plxT,  label = \"MY knn\", linestyle=\"-\") \n",
    "plt.plot(ti,plyT,  label = \"knn\", linestyle=\"--\") \n",
    "#plt.plot(ti,plxA,  label = \"curve 1\", linestyle=\"-.\") \n",
    "#plt.plot(ti,plyA,  label = \"curve 2\", linestyle=\":\") \n",
    "plt.legend() \n",
    "plt.show()"
   ]
  },
  {
   "cell_type": "code",
   "execution_count": 460,
   "id": "da2e5034",
   "metadata": {},
   "outputs": [
    {
     "data": {
      "image/png": "[encoded data removed]",
      "text/plain": [
       "<Figure size 640x480 with 1 Axes>"
      ]
     },
     "metadata": {},
     "output_type": "display_data"
    }
   ],
   "source": [
    "\n",
    "\n",
    "  \n",
    "# plot lines \n",
    "plt.plot(ti,plxT1,  label = \"MY knn norm\", linestyle=\"-\") \n",
    "plt.plot(ti,plyT1,  label = \"knn norm\", linestyle=\"--\") \n",
    "#plt.plot(ti,plxA,  label = \"curve 1\", linestyle=\"-.\") \n",
    "#plt.plot(ti,plyA,  label = \"curve 2\", linestyle=\":\") \n",
    "plt.legend() \n",
    "plt.show()"
   ]
  },
  {
   "cell_type": "code",
   "execution_count": 295,
   "id": "3eff0d0b",
   "metadata": {},
   "outputs": [
    {
     "data": {
      "text/plain": [
       "(60, 6)"
      ]
     },
     "execution_count": 295,
     "metadata": {},
     "output_type": "execute_result"
    }
   ],
   "source": [
    "X_test.shape"
   ]
  },
  {
   "cell_type": "code",
   "execution_count": null,
   "id": "e921235d",
   "metadata": {},
   "outputs": [],
   "source": [
    "# notice!!!! to run next test unmark line before data split to test train val"
   ]
  },
  {
   "cell_type": "code",
   "execution_count": 287,
   "id": "6b649168",
   "metadata": {
    "scrolled": true
   },
   "outputs": [
    {
     "name": "stdout",
     "output_type": "stream",
     "text": [
      "k is: 1\n",
      "time taken : 0.03598642349243164\n",
      "0.8333333333333334\n",
      "k is: 2\n",
      "time taken : 0.03599834442138672\n",
      "0.75\n",
      "k is: 3\n",
      "time taken : 0.03499937057495117\n",
      "0.7666666666666667\n",
      "k is: 4\n",
      "time taken : 0.03500080108642578\n",
      "0.6833333333333333\n",
      "k is: 5\n",
      "time taken : 0.035997629165649414\n",
      "0.7\n",
      "k is: 6\n",
      "time taken : 0.034999847412109375\n",
      "0.7166666666666667\n",
      "k is: 7\n",
      "time taken : 0.03599977493286133\n",
      "0.7\n",
      "k is: 8\n",
      "time taken : 0.03600120544433594\n",
      "0.7\n",
      "k is: 9\n",
      "time taken : 0.036000728607177734\n",
      "0.6166666666666667\n",
      "k is: 10\n",
      "time taken : 0.03600001335144043\n",
      "0.7166666666666667\n",
      "k is: 11\n",
      "time taken : 0.03500032424926758\n",
      "0.6666666666666666\n",
      "k is: 12\n",
      "time taken : 0.03599953651428223\n",
      "0.7\n",
      "k is: 13\n",
      "time taken : 0.03500032424926758\n",
      "0.6333333333333333\n",
      "k is: 14\n",
      "time taken : 0.03601861000061035\n",
      "0.6833333333333333\n",
      "k is: 15\n",
      "time taken : 0.03699970245361328\n",
      "0.6666666666666666\n",
      "k is: 16\n",
      "time taken : 0.03698158264160156\n",
      "0.7166666666666667\n",
      "k is: 17\n",
      "time taken : 0.03600001335144043\n",
      "0.6333333333333333\n",
      "k is: 18\n",
      "time taken : 0.03500032424926758\n",
      "0.6333333333333333\n",
      "k is: 19\n",
      "time taken : 0.03600001335144043\n",
      "0.6\n",
      "k is: 20\n",
      "time taken : 0.03599977493286133\n",
      "0.6166666666666667\n",
      "k is: 21\n",
      "time taken : 0.035997867584228516\n",
      "0.6166666666666667\n",
      "k is: 22\n",
      "time taken : 0.038001298904418945\n",
      "0.7166666666666667\n",
      "k is: 23\n",
      "time taken : 0.03600049018859863\n",
      "0.6666666666666666\n",
      "k is: 24\n",
      "time taken : 0.03500008583068848\n",
      "0.6666666666666666\n"
     ]
    }
   ],
   "source": [
    "# KNN test (after deleting sex and island )\n",
    "plACC = []\n",
    "\n",
    "     \n",
    "    \n",
    "resKNN = list()\n",
    "for i in range(1,25):\n",
    "    ls=list()\n",
    "    ls.append(i)\n",
    "    st=time.time()\n",
    "    knn=mKNN(i)\n",
    "    knn.fit(X_train,y_train)\n",
    "    pred=knn.predict(X_test)\n",
    "    en=time.time()\n",
    "    ls.append(en-st)\n",
    "    ls.append(accTest(pred , y_test))\n",
    "    print(\"k is:\", i)\n",
    "    print(\"time taken :\" ,en-st)\n",
    "    plACC.append(accTest(pred , y_test))\n",
    "    print(accTest(pred , y_test))\n",
    "    res.append(ls)"
   ]
  },
  {
   "cell_type": "code",
   "execution_count": 288,
   "id": "a2d9e3d8",
   "metadata": {},
   "outputs": [
    {
     "name": "stdout",
     "output_type": "stream",
     "text": [
      "0.6901408450704225\n"
     ]
    }
   ],
   "source": [
    "knn=mKNN(3)\n",
    "knn.fit(X_train,y_train)\n",
    "pred=knn.predict(X_val)\n",
    "    \n",
    "    \n",
    "print(accTest(pred , y_val))\n"
   ]
  },
  {
   "cell_type": "code",
   "execution_count": 290,
   "id": "ffb9e317",
   "metadata": {},
   "outputs": [
    {
     "data": {
      "image/png": "[encoded data removed]",
      "text/plain": [
       "<Figure size 640x480 with 1 Axes>"
      ]
     },
     "metadata": {},
     "output_type": "display_data"
    }
   ],
   "source": [
    "# plot lines \n",
    "plt.plot(ti,plACC,  label = \" knn- no sex no island \", linestyle=\"-\") \n",
    "plt.plot(ti,plyA,  label = \"knn\", linestyle=\"--\") \n",
    "#plt.plot(ti,plxA,  label = \"curve 1\", linestyle=\"-.\") \n",
    "#plt.plot(ti,plyA,  label = \"curve 2\", linestyle=\":\") \n",
    "plt.legend() \n",
    "plt.show()"
   ]
  },
  {
   "cell_type": "code",
   "execution_count": null,
   "id": "5e676924",
   "metadata": {},
   "outputs": [],
   "source": [
    "### KMEANS - for no sex no island- dataset - VERY BAD . "
   ]
  },
  {
   "cell_type": "code",
   "execution_count": 345,
   "id": "537c7582",
   "metadata": {},
   "outputs": [],
   "source": [
    "kmean = mKMEANS(3)\n"
   ]
  },
  {
   "cell_type": "code",
   "execution_count": 346,
   "id": "cfed84d9",
   "metadata": {
    "scrolled": true
   },
   "outputs": [
    {
     "name": "stdout",
     "output_type": "stream",
     "text": [
      "[[ 1 17 15]\n",
      " [ 2 19 12]\n",
      " [29  4  0]]\n",
      "              precision    recall  f1-score   support\n",
      "\n",
      "         0.0       0.03      0.03      0.03        33\n",
      "         1.0       0.47      0.58      0.52        33\n",
      "         2.0       0.00      0.00      0.00        33\n",
      "\n",
      "    accuracy                           0.20        99\n",
      "   macro avg       0.17      0.20      0.18        99\n",
      "weighted avg       0.17      0.20      0.18        99\n",
      "\n"
     ]
    }
   ],
   "source": [
    "predkm = kmean.predict(X1_test)\n",
    "print(confusion_matrix(y1_test, predkm))\n",
    "\n",
    "print(classification_report(y1_test, predkm))\n"
   ]
  },
  {
   "cell_type": "code",
   "execution_count": 350,
   "id": "cbbf80be",
   "metadata": {
    "scrolled": true
   },
   "outputs": [
    {
     "name": "stdout",
     "output_type": "stream",
     "text": [
      "[[15 17  1]\n",
      " [12 19  2]\n",
      " [ 0  4 29]]\n",
      "              precision    recall  f1-score   support\n",
      "\n",
      "         0.0       0.56      0.45      0.50        33\n",
      "         1.0       0.47      0.58      0.52        33\n",
      "         2.0       0.91      0.88      0.89        33\n",
      "\n",
      "    accuracy                           0.64        99\n",
      "   macro avg       0.65      0.64      0.64        99\n",
      "weighted avg       0.65      0.64      0.64        99\n",
      "\n"
     ]
    }
   ],
   "source": [
    "print(confusion_matrix(y1_test, predkkm))\n",
    "\n",
    "print(classification_report(y1_test, predkkm))"
   ]
  },
  {
   "cell_type": "code",
   "execution_count": 349,
   "id": "5a879950",
   "metadata": {},
   "outputs": [],
   "source": [
    "predkm2 =list()\n",
    "for i in range(predkm.shape[0]):\n",
    "    if predkm[i] == 2:\n",
    "        predkm2.append(0)\n",
    "    else:\n",
    "        if predkm[i] == 0:\n",
    "            predkm2.append(2) \n",
    "        else:\n",
    "            predkm2.append(1)\n",
    "predkkm = np.array(predkm2)"
   ]
  },
  {
   "cell_type": "code",
   "execution_count": 363,
   "id": "a18a3b64",
   "metadata": {},
   "outputs": [
    {
     "name": "stdout",
     "output_type": "stream",
     "text": [
      "[[17 15  1]\n",
      " [19 12  2]\n",
      " [ 4  0 29]]\n",
      "              precision    recall  f1-score   support\n",
      "\n",
      "         0.0       0.42      0.52      0.47        33\n",
      "         1.0       0.44      0.36      0.40        33\n",
      "         2.0       0.91      0.88      0.89        33\n",
      "\n",
      "    accuracy                           0.59        99\n",
      "   macro avg       0.59      0.59      0.59        99\n",
      "weighted avg       0.59      0.59      0.59        99\n",
      "\n"
     ]
    }
   ],
   "source": [
    "predkm3 = kmean.predict(X1_test)\n",
    "print(confusion_matrix(y1_test, predkm3))\n",
    "\n",
    "print(classification_report(y1_test, predkm3))\n"
   ]
  },
  {
   "cell_type": "code",
   "execution_count": 454,
   "id": "d65fd1a1",
   "metadata": {},
   "outputs": [
    {
     "name": "stdout",
     "output_type": "stream",
     "text": [
      "[[25  8  0]\n",
      " [ 5 28  0]\n",
      " [ 0  0 33]]\n",
      "              precision    recall  f1-score   support\n",
      "\n",
      "         0.0       0.83      0.76      0.79        33\n",
      "         1.0       0.78      0.85      0.81        33\n",
      "         2.0       1.00      1.00      1.00        33\n",
      "\n",
      "    accuracy                           0.87        99\n",
      "   macro avg       0.87      0.87      0.87        99\n",
      "weighted avg       0.87      0.87      0.87        99\n",
      "\n"
     ]
    }
   ],
   "source": [
    "predkm4 = kmean.predict(X3_test)\n",
    "print(confusion_matrix(y1_test, predkm4))\n",
    "\n",
    "print(classification_report(y1_test, predkm4))\n"
   ]
  },
  {
   "cell_type": "code",
   "execution_count": 449,
   "id": "6193ad23",
   "metadata": {},
   "outputs": [],
   "source": [
    "predkkkm =list()\n",
    "for i in range(predkm4.shape[0]):\n",
    "    if predkm4[i] == 2:\n",
    "        predkkkm.append(1)\n",
    "    else:\n",
    "        if predkm4[i] == 3:\n",
    "            predkkkm.append(1) \n",
    "        else:\n",
    "            predkkkm.append(0)\n",
    "predkkkm = np.array(predkm2)"
   ]
  },
  {
   "cell_type": "code",
   "execution_count": 447,
   "id": "62d85b8c",
   "metadata": {},
   "outputs": [
    {
     "name": "stdout",
     "output_type": "stream",
     "text": [
      "[[15 17  1]\n",
      " [12 19  2]\n",
      " [ 0  4 29]]\n",
      "              precision    recall  f1-score   support\n",
      "\n",
      "         0.0       0.56      0.45      0.50        33\n",
      "         1.0       0.47      0.58      0.52        33\n",
      "         2.0       0.91      0.88      0.89        33\n",
      "\n",
      "    accuracy                           0.64        99\n",
      "   macro avg       0.65      0.64      0.64        99\n",
      "weighted avg       0.65      0.64      0.64        99\n",
      "\n"
     ]
    }
   ],
   "source": [
    "print(confusion_matrix(y1_test, predkkkm))\n",
    "\n",
    "print(classification_report(y1_test, predkkkm))"
   ]
  },
  {
   "cell_type": "markdown",
   "id": "3f50f8e2",
   "metadata": {},
   "source": [
    "experimenting with different basic methods for classification :\n",
    "## all test on different kinds of data splits (and some normalization) below "
   ]
  },
  {
   "cell_type": "code",
   "execution_count": null,
   "id": "0f66d732",
   "metadata": {
    "scrolled": true
   },
   "outputs": [],
   "source": [
    " # KFOLD cross validation on 2 kinds of data - 1. under sampled . 2. random split."
   ]
  },
  {
   "cell_type": "code",
   "execution_count": 152,
   "id": "8f6c15f8",
   "metadata": {
    "scrolled": true
   },
   "outputs": [
    {
     "name": "stdout",
     "output_type": "stream",
     "text": [
      "KNN:, 0.668132, (0.111071)\n",
      "NB:, 0.954396, (0.050719)\n",
      "SVM:, 0.508242, (0.053001)\n",
      "rfc:, 0.984615, (0.030769)\n"
     ]
    }
   ],
   "source": [
    "# 1. Xfold evaluation  - under sampled for uniform distribution\n",
    "models=[]\n",
    "\n",
    "models.append(('KNN', KNeighborsClassifier()))\n",
    "models.append(('NB', GaussianNB()))\n",
    "models.append(('SVM', SVC()))\n",
    "models.append(('rfc', RandomForestClassifier()))\n",
    "results =[]\n",
    "names=[]\n",
    "for name , model in models:\n",
    "    kfold=KFold(n_splits=10, random_state=None)\n",
    "    cv_results= cross_val_score(model, X_train, y_train, cv=kfold,scoring='accuracy')\n",
    "    results.append(cv_results)\n",
    "    names.append(name)\n",
    "    \n",
    "    msg= '%s:, %f, (%f)' % (name, cv_results.mean(), cv_results.std())\n",
    "    print(msg)\n",
    "    "
   ]
  },
  {
   "cell_type": "code",
   "execution_count": 380,
   "id": "2c4fd894",
   "metadata": {},
   "outputs": [
    {
     "name": "stdout",
     "output_type": "stream",
     "text": [
      "KNN:, 0.790217, (0.066250)\n",
      "NB:, 0.974275, (0.028630)\n",
      "SVM:, 0.734783, (0.102050)\n",
      "rfc:, 0.965761, (0.025316)\n"
     ]
    }
   ],
   "source": [
    "# 3. Xfold evaluation  - tts\n",
    "models=[]\n",
    "\n",
    "models.append(('KNN', KNeighborsClassifier()))\n",
    "models.append(('NB', GaussianNB()))\n",
    "models.append(('SVM', SVC()))\n",
    "models.append(('rfc', RandomForestClassifier()))\n",
    "results =[]\n",
    "names=[]\n",
    "for name , model in models:\n",
    "    kfold=KFold(n_splits=10, random_state=None)\n",
    "    cv_results= cross_val_score(model, X2_train, y2_train, cv=kfold,scoring='accuracy')\n",
    "    results.append(cv_results)\n",
    "    names.append(name)\n",
    "    \n",
    "    msg= '%s:, %f, (%f)' % (name, cv_results.mean(), cv_results.std())\n",
    "    print(msg)\n",
    "    "
   ]
  },
  {
   "cell_type": "code",
   "execution_count": 413,
   "id": "ebf9a460",
   "metadata": {
    "scrolled": true
   },
   "outputs": [
    {
     "name": "stdout",
     "output_type": "stream",
     "text": [
      "KNN:, 0.821277, (0.045831)\n",
      "NB:, 0.974468, (0.020847)\n",
      "SVM:, 0.765957, (0.038061)\n",
      "rfc:, 0.970213, (0.017021)\n"
     ]
    }
   ],
   "source": [
    "# 2. Xfold evaluation  - random split data \n",
    "models=[]\n",
    "\n",
    "models.append(('KNN', KNeighborsClassifier()))\n",
    "models.append(('NB', GaussianNB()))\n",
    "models.append(('SVM', SVC()))\n",
    "models.append(('rfc', RandomForestClassifier()))\n",
    "results =[]\n",
    "names=[]\n",
    "for name , model in models:\n",
    "    kfold=KFold(n_splits=5, random_state=None)\n",
    "    cv_results= cross_val_score(model, X1_train, y1_train, cv=kfold,scoring='accuracy')\n",
    "    results.append(cv_results)\n",
    "    names.append(name)\n",
    "    \n",
    "    msg= '%s:, %f, (%f)' % (name, cv_results.mean(), cv_results.std())\n",
    "    print(msg)"
   ]
  },
  {
   "cell_type": "code",
   "execution_count": null,
   "id": "dfc3239f",
   "metadata": {},
   "outputs": [],
   "source": []
  },
  {
   "cell_type": "code",
   "execution_count": 441,
   "id": "68436802",
   "metadata": {},
   "outputs": [
    {
     "name": "stdout",
     "output_type": "stream",
     "text": [
      "[[20  0  0]\n",
      " [ 0 20  0]\n",
      " [ 0  0 20]]\n",
      "[[76  6  0]\n",
      " [ 0  4  0]\n",
      " [ 0  0 56]]\n",
      "              precision    recall  f1-score   support\n",
      "\n",
      "         0.0       1.00      1.00      1.00        20\n",
      "         1.0       1.00      1.00      1.00        20\n",
      "         2.0       1.00      1.00      1.00        20\n",
      "\n",
      "    accuracy                           1.00        60\n",
      "   macro avg       1.00      1.00      1.00        60\n",
      "weighted avg       1.00      1.00      1.00        60\n",
      "\n",
      "              precision    recall  f1-score   support\n",
      "\n",
      "         0.0       1.00      0.93      0.96        82\n",
      "         1.0       0.40      1.00      0.57         4\n",
      "         2.0       1.00      1.00      1.00        56\n",
      "\n",
      "    accuracy                           0.96       142\n",
      "   macro avg       0.80      0.98      0.84       142\n",
      "weighted avg       0.98      0.96      0.97       142\n",
      "\n"
     ]
    }
   ],
   "source": [
    "\n",
    "\n",
    "rfc = RandomForestClassifier()\n",
    "\n",
    "model1 = rfc.fit(X_train, y_train)\n",
    "pred1 = model1.predict(X_test)\n",
    "pred2 =model1.predict(X_val)\n",
    "\n",
    "print(confusion_matrix(y_test, pred1))\n",
    "print(confusion_matrix(y_val, pred2))\n",
    "print(classification_report(y_test, pred1))\n",
    "print(classification_report(y_val, pred2))\n"
   ]
  },
  {
   "cell_type": "code",
   "execution_count": 156,
   "id": "188d4405",
   "metadata": {},
   "outputs": [
    {
     "name": "stdout",
     "output_type": "stream",
     "text": [
      "0.9833333333333333\n",
      "              precision    recall  f1-score   support\n",
      "\n",
      "         0.0       0.95      1.00      0.98        20\n",
      "         1.0       1.00      0.95      0.97        20\n",
      "         2.0       1.00      1.00      1.00        20\n",
      "\n",
      "    accuracy                           0.98        60\n",
      "   macro avg       0.98      0.98      0.98        60\n",
      "weighted avg       0.98      0.98      0.98        60\n",
      "\n",
      "[[20  0  0]\n",
      " [ 1 19  0]\n",
      " [ 0  0 20]]\n"
     ]
    }
   ],
   "source": [
    "rfc = RandomForestClassifier()\n",
    "rfc.fit(X_train, y_train)\n",
    "pred3= rfc.predict(X_test)\n",
    "print(accuracy_score(y_test, pred3))\n",
    "print(classification_report(y_test, pred3))\n",
    "print(confusion_matrix(y_test, pred3))"
   ]
  },
  {
   "cell_type": "code",
   "execution_count": 381,
   "id": "1272bf02",
   "metadata": {},
   "outputs": [
    {
     "name": "stdout",
     "output_type": "stream",
     "text": [
      "0.9900990099009901\n",
      "              precision    recall  f1-score   support\n",
      "\n",
      "         0.0       1.00      0.97      0.99        35\n",
      "         1.0       0.96      1.00      0.98        26\n",
      "         2.0       1.00      1.00      1.00        40\n",
      "\n",
      "    accuracy                           0.99       101\n",
      "   macro avg       0.99      0.99      0.99       101\n",
      "weighted avg       0.99      0.99      0.99       101\n",
      "\n",
      "[[34  1  0]\n",
      " [ 0 26  0]\n",
      " [ 0  0 40]]\n"
     ]
    }
   ],
   "source": [
    "rfc = RandomForestClassifier()\n",
    "rfc.fit(X2_train, y2_train)\n",
    "pred333= rfc.predict(X2_test)\n",
    "print(accuracy_score(y2_test, pred333))\n",
    "print(classification_report(y2_test, pred333))\n",
    "print(confusion_matrix(y2_test, pred333))"
   ]
  },
  {
   "cell_type": "code",
   "execution_count": 330,
   "id": "7eda8cca",
   "metadata": {},
   "outputs": [
    {
     "name": "stdout",
     "output_type": "stream",
     "text": [
      "1.0\n",
      "              precision    recall  f1-score   support\n",
      "\n",
      "         0.0       1.00      1.00      1.00        33\n",
      "         1.0       1.00      1.00      1.00        33\n",
      "         2.0       1.00      1.00      1.00        33\n",
      "\n",
      "    accuracy                           1.00        99\n",
      "   macro avg       1.00      1.00      1.00        99\n",
      "weighted avg       1.00      1.00      1.00        99\n",
      "\n",
      "[[33  0  0]\n",
      " [ 0 33  0]\n",
      " [ 0  0 33]]\n"
     ]
    }
   ],
   "source": [
    "rfc = RandomForestClassifier()\n",
    "rfc.fit(X1_train, y1_train)\n",
    "pred33= rfc.predict(X1_test)\n",
    "print(accuracy_score(y1_test, pred33))\n",
    "print(classification_report(y1_test, pred33))\n",
    "print(confusion_matrix(y1_test, pred33))"
   ]
  },
  {
   "cell_type": "code",
   "execution_count": 157,
   "id": "1df1689e",
   "metadata": {},
   "outputs": [
    {
     "name": "stdout",
     "output_type": "stream",
     "text": [
      "0.9833333333333333\n",
      "              precision    recall  f1-score   support\n",
      "\n",
      "         0.0       1.00      0.95      0.97        20\n",
      "         1.0       0.95      1.00      0.98        20\n",
      "         2.0       1.00      1.00      1.00        20\n",
      "\n",
      "    accuracy                           0.98        60\n",
      "   macro avg       0.98      0.98      0.98        60\n",
      "weighted avg       0.98      0.98      0.98        60\n",
      "\n",
      "[[19  1  0]\n",
      " [ 0 20  0]\n",
      " [ 0  0 20]]\n"
     ]
    }
   ],
   "source": [
    "NB = GaussianNB()\n",
    "NB.fit(X_train, y_train)\n",
    "pred4 = NB.predict(X_test)\n",
    "print(accuracy_score(y_test, pred4))\n",
    "print(classification_report(y_test, pred4))\n",
    "print(confusion_matrix(y_test, pred4))\n"
   ]
  },
  {
   "cell_type": "code",
   "execution_count": 329,
   "id": "1f9eb798",
   "metadata": {},
   "outputs": [
    {
     "name": "stdout",
     "output_type": "stream",
     "text": [
      "0.9696969696969697\n",
      "              precision    recall  f1-score   support\n",
      "\n",
      "         0.0       0.97      0.94      0.95        33\n",
      "         1.0       0.94      0.97      0.96        33\n",
      "         2.0       1.00      1.00      1.00        33\n",
      "\n",
      "    accuracy                           0.97        99\n",
      "   macro avg       0.97      0.97      0.97        99\n",
      "weighted avg       0.97      0.97      0.97        99\n",
      "\n",
      "[[31  2  0]\n",
      " [ 1 32  0]\n",
      " [ 0  0 33]]\n"
     ]
    }
   ],
   "source": [
    "NB = GaussianNB()\n",
    "NB.fit(X1_train, y1_train)\n",
    "pred44 = NB.predict(X1_test)\n",
    "print(accuracy_score(y1_test, pred44))\n",
    "print(classification_report(y1_test, pred44))\n",
    "print(confusion_matrix(y1_test, pred44))\n"
   ]
  },
  {
   "cell_type": "code",
   "execution_count": 382,
   "id": "b195849a",
   "metadata": {},
   "outputs": [
    {
     "name": "stdout",
     "output_type": "stream",
     "text": [
      "0.9603960396039604\n",
      "              precision    recall  f1-score   support\n",
      "\n",
      "         0.0       0.94      0.94      0.94        35\n",
      "         1.0       0.92      0.92      0.92        26\n",
      "         2.0       1.00      1.00      1.00        40\n",
      "\n",
      "    accuracy                           0.96       101\n",
      "   macro avg       0.96      0.96      0.96       101\n",
      "weighted avg       0.96      0.96      0.96       101\n",
      "\n",
      "[[33  2  0]\n",
      " [ 2 24  0]\n",
      " [ 0  0 40]]\n"
     ]
    }
   ],
   "source": [
    "NB = GaussianNB()\n",
    "NB.fit(X2_train, y2_train)\n",
    "pred444 = NB.predict(X2_test)\n",
    "print(accuracy_score(y2_test, pred444))\n",
    "print(classification_report(y2_test, pred444))\n",
    "print(confusion_matrix(y2_test, pred444))\n",
    "\n"
   ]
  },
  {
   "cell_type": "code",
   "execution_count": 434,
   "id": "3de45e94",
   "metadata": {},
   "outputs": [
    {
     "name": "stdout",
     "output_type": "stream",
     "text": [
      "0.8888888888888888\n",
      "              precision    recall  f1-score   support\n",
      "\n",
      "         0.0       0.75      1.00      0.86        33\n",
      "         1.0       1.00      0.67      0.80        33\n",
      "         2.0       1.00      1.00      1.00        33\n",
      "\n",
      "    accuracy                           0.89        99\n",
      "   macro avg       0.92      0.89      0.89        99\n",
      "weighted avg       0.92      0.89      0.89        99\n",
      "\n",
      "[[33  0  0]\n",
      " [11 22  0]\n",
      " [ 0  0 33]]\n"
     ]
    }
   ],
   "source": [
    "NB = GaussianNB()\n",
    "NB.fit(X3_train, y1_train)\n",
    "pred4444 = NB.predict(X3_test)\n",
    "print(accuracy_score(y1_test, pred4444))\n",
    "print(classification_report(y1_test, pred4444))\n",
    "print(confusion_matrix(y1_test, pred4444))\n",
    "\n"
   ]
  },
  {
   "cell_type": "code",
   "execution_count": 264,
   "id": "3de7b8f9",
   "metadata": {
    "scrolled": true
   },
   "outputs": [
    {
     "name": "stdout",
     "output_type": "stream",
     "text": [
      "0.9833333333333333\n",
      "              precision    recall  f1-score   support\n",
      "\n",
      "         0.0       1.00      0.95      0.97        20\n",
      "         1.0       0.95      1.00      0.98        20\n",
      "         2.0       1.00      1.00      1.00        20\n",
      "\n",
      "    accuracy                           0.98        60\n",
      "   macro avg       0.98      0.98      0.98        60\n",
      "weighted avg       0.98      0.98      0.98        60\n",
      "\n",
      "[[19  1  0]\n",
      " [ 0 20  0]\n",
      " [ 0  0 20]]\n"
     ]
    }
   ],
   "source": [
    "KNN = KNeighborsClassifier(2)\n",
    "KNN.fit(X_train, y_train)\n",
    "pred5 = KNN.predict(X_test)\n",
    "print(accuracy_score(y_test, pred5))\n",
    "print(classification_report(y_test, pred5))\n",
    "print(confusion_matrix(y_test, pred5))"
   ]
  },
  {
   "cell_type": "code",
   "execution_count": 440,
   "id": "a03a23bb",
   "metadata": {},
   "outputs": [
    {
     "name": "stdout",
     "output_type": "stream",
     "text": [
      "0.696969696969697\n",
      "              precision    recall  f1-score   support\n",
      "\n",
      "         0.0       0.54      0.97      0.70        33\n",
      "         1.0       1.00      0.15      0.26        33\n",
      "         2.0       0.91      0.97      0.94        33\n",
      "\n",
      "    accuracy                           0.70        99\n",
      "   macro avg       0.82      0.70      0.63        99\n",
      "weighted avg       0.82      0.70      0.63        99\n",
      "\n",
      "[[32  0  1]\n",
      " [26  5  2]\n",
      " [ 1  0 32]]\n"
     ]
    }
   ],
   "source": [
    "KNN = KNeighborsClassifier(2)\n",
    "KNN.fit(X1_train, y1_train)\n",
    "pred15 = KNN.predict(X1_test)\n",
    "print(accuracy_score(y1_test, pred15))\n",
    "print(classification_report(y1_test, pred15))\n",
    "print(confusion_matrix(y1_test, pred15))\n"
   ]
  },
  {
   "cell_type": "code",
   "execution_count": 415,
   "id": "99c89345",
   "metadata": {
    "scrolled": true
   },
   "outputs": [
    {
     "name": "stdout",
     "output_type": "stream",
     "text": [
      "0.9393939393939394\n",
      "              precision    recall  f1-score   support\n",
      "\n",
      "         0.0       0.85      1.00      0.92        33\n",
      "         1.0       1.00      0.82      0.90        33\n",
      "         2.0       1.00      1.00      1.00        33\n",
      "\n",
      "    accuracy                           0.94        99\n",
      "   macro avg       0.95      0.94      0.94        99\n",
      "weighted avg       0.95      0.94      0.94        99\n",
      "\n",
      "[[33  0  0]\n",
      " [ 6 27  0]\n",
      " [ 0  0 33]]\n"
     ]
    }
   ],
   "source": [
    "KNN = KNeighborsClassifier(2)\n",
    "KNN.fit(X3_train, y1_train)\n",
    "pred155 = KNN.predict(X3_test)\n",
    "print(accuracy_score(y1_test, pred155))\n",
    "print(classification_report(y1_test, pred155))\n",
    "print(confusion_matrix(y1_test, pred155))\n"
   ]
  },
  {
   "cell_type": "code",
   "execution_count": 438,
   "id": "98a25fd8",
   "metadata": {},
   "outputs": [
    {
     "name": "stdout",
     "output_type": "stream",
     "text": [
      "0.9696969696969697\n",
      "              precision    recall  f1-score   support\n",
      "\n",
      "         0.0       0.92      1.00      0.96        33\n",
      "         1.0       1.00      0.91      0.95        33\n",
      "         2.0       1.00      1.00      1.00        33\n",
      "\n",
      "    accuracy                           0.97        99\n",
      "   macro avg       0.97      0.97      0.97        99\n",
      "weighted avg       0.97      0.97      0.97        99\n",
      "\n",
      "[[33  0  0]\n",
      " [ 3 30  0]\n",
      " [ 0  0 33]]\n"
     ]
    }
   ],
   "source": [
    "KNN = KNeighborsClassifier(3)\n",
    "KNN.fit(X3_train, y1_train)\n",
    "pred1555 = KNN.predict(X3_test)\n",
    "print(accuracy_score(y1_test, pred1555))\n",
    "print(classification_report(y1_test, pred1555))\n",
    "print(confusion_matrix(y1_test, pred1555))\n"
   ]
  },
  {
   "cell_type": "code",
   "execution_count": 161,
   "id": "1f9a9e2c",
   "metadata": {
    "scrolled": false
   },
   "outputs": [
    {
     "name": "stdout",
     "output_type": "stream",
     "text": [
      "0.6166666666666667\n",
      "              precision    recall  f1-score   support\n",
      "\n",
      "         0.0       0.46      0.30      0.36        20\n",
      "         1.0       0.52      0.75      0.61        20\n",
      "         2.0       0.89      0.80      0.84        20\n",
      "\n",
      "    accuracy                           0.62        60\n",
      "   macro avg       0.62      0.62      0.61        60\n",
      "weighted avg       0.62      0.62      0.61        60\n",
      "\n",
      "[[ 6 14  0]\n",
      " [ 3 15  2]\n",
      " [ 4  0 16]]\n"
     ]
    }
   ],
   "source": [
    "svm = SVC(C=0.5 ,kernel=\"poly\")\n",
    "svm.fit(X_train, y_train)\n",
    "pred6 = svm.predict(X_test)\n",
    "print(accuracy_score(y_test, pred6))\n",
    "print(classification_report(y_test, pred6))\n",
    "print(confusion_matrix(y_test, pred6))"
   ]
  },
  {
   "cell_type": "code",
   "execution_count": 418,
   "id": "2c0a133b",
   "metadata": {},
   "outputs": [
    {
     "name": "stdout",
     "output_type": "stream",
     "text": [
      "0.8080808080808081\n",
      "              precision    recall  f1-score   support\n",
      "\n",
      "         0.0       0.63      1.00      0.78        33\n",
      "         1.0       1.00      0.42      0.60        33\n",
      "         2.0       1.00      1.00      1.00        33\n",
      "\n",
      "    accuracy                           0.81        99\n",
      "   macro avg       0.88      0.81      0.79        99\n",
      "weighted avg       0.88      0.81      0.79        99\n",
      "\n",
      "[[33  0  0]\n",
      " [19 14  0]\n",
      " [ 0  0 33]]\n"
     ]
    }
   ],
   "source": [
    "svm = SVC(C=0.5 ,kernel=\"poly\")\n",
    "svm.fit(X3_train, y1_train)\n",
    "pred66 = svm.predict(X3_test)\n",
    "print(accuracy_score(y1_test, pred66))\n",
    "print(classification_report(y1_test, pred66))\n",
    "print(confusion_matrix(y1_test, pred66))"
   ]
  },
  {
   "cell_type": "code",
   "execution_count": 400,
   "id": "8a986344",
   "metadata": {},
   "outputs": [],
   "source": [
    "X3_train = StandardScaler().fit_transform(X1_train)\n",
    "X3_test = StandardScaler().fit_transform(X1_test)\n"
   ]
  },
  {
   "cell_type": "code",
   "execution_count": 409,
   "id": "b7c12974",
   "metadata": {},
   "outputs": [
    {
     "name": "stdout",
     "output_type": "stream",
     "text": [
      "0.9494949494949495\n",
      "              precision    recall  f1-score   support\n",
      "\n",
      "         0.0       1.00      0.87      0.93        38\n",
      "         1.0       0.85      1.00      0.92        28\n",
      "         2.0       1.00      1.00      1.00        33\n",
      "\n",
      "    accuracy                           0.95        99\n",
      "   macro avg       0.95      0.96      0.95        99\n",
      "weighted avg       0.96      0.95      0.95        99\n",
      "\n",
      "[[33  5  0]\n",
      " [ 0 28  0]\n",
      " [ 0  0 33]]\n",
      "0.20202020202020202\n",
      "              precision    recall  f1-score   support\n",
      "\n",
      "         0.0       0.36      0.32      0.34        37\n",
      "         1.0       0.24      0.27      0.25        30\n",
      "         2.0       0.00      0.00      0.00        32\n",
      "\n",
      "    accuracy                           0.20        99\n",
      "   macro avg       0.20      0.20      0.20        99\n",
      "weighted avg       0.21      0.20      0.21        99\n",
      "\n",
      "[[12 14 11]\n",
      " [ 0  8 22]\n",
      " [21 11  0]]\n"
     ]
    }
   ],
   "source": [
    "clf3 = MLPClassifier(solver=\"lbfgs\",\n",
    "                alpha=0.01,\n",
    "                random_state=1,\n",
    "                max_iter=2000,\n",
    "                early_stopping=True,\n",
    "                hidden_layer_sizes=[3,3,3])\n",
    "clf4 = MLPClassifier(alpha=0.22,\n",
    "                random_state=1,\n",
    "                max_iter=2000,\n",
    "                early_stopping=True,\n",
    "                hidden_layer_sizes=10,solver = 'sgd')\n",
    "clf3.fit(X3_train, y1_train)\n",
    "clf4.fit(X3_train, y1_train)\n",
    "pre1 = clf3.predict(X3_test)\n",
    "pre2 = clf4.predict(X3_test)\n",
    "print(accuracy_score( pre1,y1_test))\n",
    "print(classification_report( pre1,y1_test))\n",
    "print(confusion_matrix( pre1,y1_test))\n",
    "print(accuracy_score( pre2,y1_test))\n",
    "print(classification_report( pre2,y1_test))\n",
    "print(confusion_matrix( pre2,y1_test))"
   ]
  },
  {
   "cell_type": "code",
   "execution_count": 433,
   "id": "d7791498",
   "metadata": {},
   "outputs": [
    {
     "name": "stdout",
     "output_type": "stream",
     "text": [
      "0.9494949494949495\n",
      "              precision    recall  f1-score   support\n",
      "\n",
      "         0.0       1.00      0.87      0.93        38\n",
      "         1.0       0.85      1.00      0.92        28\n",
      "         2.0       1.00      1.00      1.00        33\n",
      "\n",
      "    accuracy                           0.95        99\n",
      "   macro avg       0.95      0.96      0.95        99\n",
      "weighted avg       0.96      0.95      0.95        99\n",
      "\n",
      "[[33  5  0]\n",
      " [ 0 28  0]\n",
      " [ 0  0 33]]\n",
      "0.7676767676767676\n",
      "              precision    recall  f1-score   support\n",
      "\n",
      "         0.0       1.00      0.62      0.77        53\n",
      "         1.0       0.30      1.00      0.47        10\n",
      "         2.0       1.00      0.92      0.96        36\n",
      "\n",
      "    accuracy                           0.77        99\n",
      "   macro avg       0.77      0.85      0.73        99\n",
      "weighted avg       0.93      0.77      0.81        99\n",
      "\n",
      "[[33 20  0]\n",
      " [ 0 10  0]\n",
      " [ 0  3 33]]\n"
     ]
    }
   ],
   "source": [
    "clf3 = MLPClassifier(solver=\"lbfgs\",\n",
    "                alpha=0.52,\n",
    "                random_state=1,\n",
    "                max_iter=2000,\n",
    "                early_stopping=True,\n",
    "                hidden_layer_sizes=3)\n",
    "clf4 = MLPClassifier(alpha=0.02,\n",
    "                random_state=1,\n",
    "                max_iter=2000,\n",
    "                early_stopping=True,\n",
    "                hidden_layer_sizes=3,solver = 'sgd')\n",
    "clf3.fit(X3_train, y1_train)\n",
    "clf4.fit(X3_train, y1_train)\n",
    "pre1 = clf3.predict(X3_test)\n",
    "pre2 = clf4.predict(X3_test)\n",
    "print(accuracy_score( pre1,y1_test))\n",
    "print(classification_report( pre1,y1_test))\n",
    "print(confusion_matrix( pre1,y1_test))\n",
    "print(accuracy_score( pre2,y1_test))\n",
    "print(classification_report( pre2,y1_test))\n",
    "print(confusion_matrix( pre2,y1_test))"
   ]
  },
  {
   "cell_type": "code",
   "execution_count": null,
   "id": "b99e5fb0",
   "metadata": {},
   "outputs": [],
   "source": []
  },
  {
   "cell_type": "code",
   "execution_count": null,
   "id": "66561879",
   "metadata": {},
   "outputs": [],
   "source": []
  },
  {
   "cell_type": "code",
   "execution_count": null,
   "id": "be46880a",
   "metadata": {},
   "outputs": [],
   "source": []
  }
 ],
 "metadata": {
  "kernelspec": {
   "display_name": "Python 3 (ipykernel)",
   "language": "python",
   "name": "python3"
  },
  "language_info": {
   "codemirror_mode": {
    "name": "ipython",
    "version": 3
   },
   "file_extension": ".py",
   "mimetype": "text/x-python",
   "name": "python",
   "nbconvert_exporter": "python",
   "pygments_lexer": "ipython3",
   "version": "3.9.6"
  }
 },
 "nbformat": 4,
 "nbformat_minor": 5
}
