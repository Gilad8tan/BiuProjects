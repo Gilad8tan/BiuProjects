{
  "nbformat": 4,
  "nbformat_minor": 0,
  "metadata": {
    "colab": {
      "provenance": []
    },
    "kernelspec": {
      "name": "python3",
      "display_name": "Python 3"
    },
    "language_info": {
      "name": "python"
    }
  },
  "cells": [
    {
      "cell_type": "code",
      "execution_count": 1,
      "metadata": {
        "colab": {
          "base_uri": "https://localhost:8080/",
          "height": 36
        },
        "id": "QqdMZPBqCWDP",
        "outputId": "ce7387de-b81a-4120-caa1-c3844f49bbe9"
      },
      "outputs": [
        {
          "output_type": "execute_result",
          "data": {
            "text/plain": [
              "'\\n*Student name: Gilad X\\n*Student ID: X\\n*Exercise name: ex_7\\n*Submit id: X\\n'"
            ],
            "application/vnd.google.colaboratory.intrinsic+json": {
              "type": "string"
            }
          },
          "metadata": {},
          "execution_count": 1
        }
      ],
      "source": [
        "\"\"\"\n",
        "*Student name: Gilad X\n",
        "*Student ID: X\n",
        "*Exercise name: ex_7\n",
        "*Submit id: X\n",
        "\"\"\""
      ]
    },
    {
      "cell_type": "code",
      "source": [
        "\"\"\"\n",
        "# Python program to perform 2 tasks with divergence of the\n",
        "# first task to 2 subtasks.\n",
        "# 1: choice between 2 methods of checking if a number is\n",
        "#    prime (or not)\n",
        "# 2: given 2 number return all numbers in 1-100 range that\n",
        "#    divide with no remainder with one of the input nums.\n",
        "#    (return without duplicates).\n",
        "# Functions :\n",
        "# 1.Main : runs all sub functions returns none.\n",
        "#\n",
        "# 2.Menu : loop that runs while user input isnt\n",
        "#          exit option (int == 0).\n",
        "#          prints instruction , catches input for user choice\n",
        "#          (int: 1 or 2 or 0).\n",
        "#          calls the matching function , and continue waiting\n",
        "#          for next input.\n",
        "#\n",
        "# 3.bool_is_prime : prints instructions , catches user input\n",
        "#                   for method choice.\n",
        "#                   Choice: 'a' to check if prime with\n",
        "#                            division up to input num.\n",
        "#                   Choice: 'b' to check if prime with\n",
        "#                            division up to sqrt(num).\n",
        "#                   asks for and catches user input num.\n",
        "#                   performs check by num modulo all nums.\n",
        "#                   If find divider without remainder ,\n",
        "#                   breaks loop , prints NO.\n",
        "#                   If didnt find divider withot remainder ,\n",
        "#                   prints YES.\n",
        "#\n",
        "# 4.list_of_factor_in_range : asks for and catches user input\n",
        "#                             which is 2 integers.\n",
        "#                             performs check by looping throught\n",
        "#                             numbers in given range.\n",
        "#                             Default range to check is 1-100.\n",
        "#                             adds all divisable nums to list.\n",
        "#                             removes duplicates.\n",
        "#                             prints the list.\n",
        "\"\"\""
      ],
      "metadata": {
        "colab": {
          "base_uri": "https://localhost:8080/",
          "height": 109
        },
        "id": "xl1DraP1CvZR",
        "outputId": "86601bc8-f763-4aa5-9b54-5377caa3a757"
      },
      "execution_count": null,
      "outputs": [
        {
          "output_type": "execute_result",
          "data": {
            "text/plain": [
              "\"\\n# Python program to perform 2 tasks with divergence of the \\n# first task to 2 subtasks.\\n# 1: choice between 2 methods of checking if a number is \\n#    prime (or not)\\n# 2: given 2 number return all numbers in 1-100 range that \\n#    divide with no remainder with one of the input nums.\\n#    (return without duplicates).\\n# Functions :\\n# 1.Main : runs all sub functions returns none.\\n#\\n# 2.Menu : loop that runs while user input isnt \\n#          exit option (int == 0).\\n#          prints instruction , catches input for user choice\\n#          (int: 1 or 2 or 0).\\n#          calls the matching function , and continue waiting\\n#          for next input.\\n#\\n# 3.bool_is_prime : prints instructions , catches user input \\n#                   for method choice.\\n#                   Choice: 'a' to check if prime with \\n#                            division up to input num.\\n#                   Choice: 'b' to check if prime with\\n#                            division up to sqrt(num).\\n#                   asks for and catches user input num. \\n#                   performs check by num modulo all nums.\\n#                   If find divider without remainder ,\\n#                   breaks loop , prints NO.\\n#                   If didnt find divider withot remainder ,\\n#                   prints YES.\\n#\\n# 4.list_of_factor_in_range : asks for and catches user input \\n#                             which is 2 integers.\\n#                             performs check by looping throught \\n#                             numbers in given range.\\n#                             Default range to check is 1-100.\\n#                             adds all divisable nums to list.\\n#                             removes duplicates.\\n#                             prints the list.\\n\""
            ],
            "application/vnd.google.colaboratory.intrinsic+json": {
              "type": "string"
            }
          },
          "metadata": {},
          "execution_count": 7
        }
      ]
    },
    {
      "cell_type": "code",
      "source": [
        "import math"
      ],
      "metadata": {
        "id": "hmazgxC9jbYU"
      },
      "execution_count": null,
      "outputs": []
    },
    {
      "cell_type": "code",
      "source": [
        "#special cases to exclude from checking because they might crash.\n",
        "SPECIAL_CASES_FOR_PRIMES = [0,1]\n",
        "#special cases so the mod check wont crash.(root<2)\n",
        "PRIMES_NOT_TO_CHECK = [2,3]\n",
        "def bool_is_prime():\n",
        "  \"\"\"\n",
        "\n",
        "  \"\"\"\n",
        "  #text printout:\n",
        "  mission_type = \"please enter the mission type:\"\n",
        "  ask_for_number = \"please enter a number:\"\n",
        "\n",
        "  #prints and input\n",
        "\n",
        "  print(mission_type)\n",
        "  #usr input should be char 'a' or 'b'\n",
        "  usr_inpt_type = input()\n",
        "  print(ask_for_number)\n",
        "  #user input should be int\n",
        "  usr_inpt_num = int(input())\n",
        "\n",
        "  #logic:\n",
        "  #no matter the type choice check for special case\n",
        "  if usr_inpt_num in SPECIAL_CASES_FOR_PRIMES:\n",
        "    print(\"NO\")\n",
        "\n",
        "  else:\n",
        "    #special cases for modulo check\n",
        "    if usr_inpt_num in PRIMES_NOT_TO_CHECK:\n",
        "      print(\"YES\")\n",
        "    else:\n",
        "      #if a or b we mutate num and runs same loop\n",
        "      if usr_inpt_type=='b':\n",
        "        #prime check with sqrt enough to round sqrt down(math).\n",
        "        usr_inpt_num = math.floor(math.sqrt(usr_inpt_num))\n",
        "        #loop for check\n",
        "        for i in range(2,usr_inpt_num):\n",
        "          if usr_inpt_num%i == 0:\n",
        "            print(\"NO\")\n",
        "            break\n",
        "          else:\n",
        "            print(\"YES\")\n",
        "\n",
        "\n",
        "\n",
        "\n"
      ],
      "metadata": {
        "id": "30MtTC2UfmXk"
      },
      "execution_count": null,
      "outputs": []
    },
    {
      "cell_type": "code",
      "source": [
        "#range consts to check numbers divisible by user input\n",
        "RANGE_START = 1\n",
        "RANGE_END = 1+100\n",
        "\n",
        "\n",
        "def list_of_factor_in_range():\n",
        "  \"\"\"\n",
        "\n",
        "  \"\"\"\n",
        "  #text printout:\n",
        "  ask_for_numbers = \"please enter two numbers:\"\n",
        "\n",
        "  #prints and input\n",
        "\n",
        "  print(ask_for_numbers)\n",
        "  #usr input should 2 integers seperated with space\n",
        "  #we will recieve them as string and then slice it to chars\n",
        "  #then we map them to  ints and modify list\n",
        "  usr_inpt_list_ints = list(map(int,input().slice()))\n",
        "\n",
        "  #logic:\n",
        "  #list to append divisable number\n",
        "  dividable_list = []\n",
        "  #loop to run nums in range\n",
        "  for num in range(RANGE_START,RANGE_END):\n",
        "    #loop to run user input list items (2 currently)\n",
        "    for i in usr_inpt_list_ints:\n",
        "      #if to check modulo with break so we lose all duplicate\n",
        "      if num%i==0:\n",
        "        dividable_list.append(num)\n",
        "        break\n",
        "\n",
        "  #print the list\n",
        "  print(dividable_list)\n"
      ],
      "metadata": {
        "id": "S9D-42DVpHt7"
      },
      "execution_count": null,
      "outputs": []
    },
    {
      "cell_type": "code",
      "source": [
        "def menu_handler():\n",
        "    \"\"\"\n",
        "    Loops continuesly , prints and asks for user input for task num\n",
        "    Keyword arguments: NONE\n",
        "    Vars :\n",
        "    user_input - recieves user input (1 or 2 or 0).\n",
        "    mission_choice - string with the output for user to enter choice.\n",
        "\n",
        "    \"\"\"\n",
        "    #text printout:\n",
        "    mission_choice = \"please enter a mission number:\"\n",
        "\n",
        "    #loop to run and catch user input untill input is 0\n",
        "    while True:\n",
        "      print(mission_choice)\n",
        "      x=int(input())\n",
        "      if x==1:\n",
        "        bool_is_prime()\n",
        "      else:\n",
        "        if x==2:\n",
        "          list_of_factor_in_range()\n",
        "        else:\n",
        "          if x==3:\n",
        "            break\n",
        "    exit()\n",
        "\n"
      ],
      "metadata": {
        "id": "OGR8OPXmSg_f"
      },
      "execution_count": null,
      "outputs": []
    },
    {
      "cell_type": "code",
      "source": [
        "def main():\n",
        "  \"\"\"\n",
        "\n",
        "  \"\"\"\n",
        "  menu_handler()\n",
        "\n",
        "\n"
      ],
      "metadata": {
        "id": "Y1TbkiHhvMi0"
      },
      "execution_count": null,
      "outputs": []
    }
  ]
}