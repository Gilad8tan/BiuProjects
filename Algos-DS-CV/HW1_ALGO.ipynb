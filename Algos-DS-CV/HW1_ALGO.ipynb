{
  "nbformat": 4,
  "nbformat_minor": 0,
  "metadata": {
    "colab": {
      "provenance": [],
      "collapsed_sections": []
    },
    "kernelspec": {
      "name": "python3",
      "display_name": "Python 3"
    },
    "language_info": {
      "name": "python"
    }
  },
  "cells": [
    {
      "cell_type": "markdown",
      "source": [
        "# HW_1\n",
        "#ID :311810030\n",
        "#FULL NAME :Gilad Eitan"
      ],
      "metadata": {
        "id": "yREOZbvIdcEX"
      }
    },
    {
      "cell_type": "markdown",
      "source": [
        "##Q1. \n",
        "\n",
        "Explain the following code output"
      ],
      "metadata": {
        "id": "al7lnrgUaWxA"
      }
    },
    {
      "cell_type": "code",
      "source": [
        "import sys\n",
        "print(sys.getrecursionlimit())"
      ],
      "metadata": {
        "colab": {
          "base_uri": "https://localhost:8080/"
        },
        "id": "FRa94liAadrt",
        "outputId": "c91b2a92-fa9e-4608-f005-3d126d7215b6"
      },
      "execution_count": null,
      "outputs": [
        {
          "output_type": "stream",
          "name": "stdout",
          "text": [
            "1000\n"
          ]
        }
      ]
    },
    {
      "cell_type": "markdown",
      "source": [
        "\n",
        " What is the data structure that is being configured by a `sys.setrecursionlimit(1500)` ?\n",
        " \n"
      ],
      "metadata": {
        "id": "CVYwc96ibWGc"
      }
    },
    {
      "cell_type": "markdown",
      "source": [
        "# **A1.**\n",
        "- the code imports the sys module (System-specific parameters and functions) , then calls the print function which prints out the return value of getrecursionlimit function which returns the depth of the python interperter stack implemented in python to protect from infinite recursion causing an overflow of the c stack and crash of python.\n",
        "in this case - the recursionlimit stack depth is 1000 recursive calls available before overflow or thorw exception. \n",
        "- the data structure configured by \"sys.setrecursionlimit(1500)\" is a stack ,which is an abstract data type with the LIFO (Last In - First Out) order for adding and removing elements . "
      ],
      "metadata": {
        "id": "ZmbLZ7AbrbMh"
      }
    },
    {
      "cell_type": "markdown",
      "source": [
        "##Q2. \n",
        "Approximate the time/space complexity of the two optional implementation for [ex3](https://colab.research.google.com/drive/1lvSuppUAAD-qjzGzhVqotbht2KnVCQ6i?usp=sharing) as brought to you at the LIFO notebook and the P2 presentation\n",
        "\n",
        "---\n",
        "\n",
        "\n",
        "Define the atomic operations for the queue. What are the time/space complexity of these operations in the proposed implementations?\n",
        "Consider the atomic stack operations to be of complexity  $O(1)$"
      ],
      "metadata": {
        "id": "ZJ3DVCvqdvzW"
      }
    },
    {
      "cell_type": "code",
      "source": [
        "#LIFO3.1\n",
        "# Python3 program to implement Queue using\n",
        "# two stacks with costly enQueue()\n",
        "\n",
        "class Queue:\n",
        "\tdef __init__(self):\n",
        "\t\tself.s1 = []\n",
        "\t\tself.s2 = []\n",
        "\n",
        "\tdef enQueue(self, x):\n",
        "\t\t\n",
        "\t\t# Move all elements from s1 to s2\n",
        "\t\twhile len(self.s1) != 0:\n",
        "\t\t\tself.s2.append(self.s1[-1])\n",
        "\t\t\tself.s1.pop()\n",
        "\n",
        "\t\t# Push item into self.s1\n",
        "\t\tself.s1.append(x)\n",
        "\n",
        "\t\t# Push everything back to s1\n",
        "\t\twhile len(self.s2) != 0:\n",
        "\t\t\tself.s1.append(self.s2[-1])\n",
        "\t\t\tself.s2.pop()\n",
        "\n",
        "\t# Dequeue an item from the queue\n",
        "\tdef deQueue(self):\n",
        "\t\t\n",
        "\t\t\t# if first stack is empty\n",
        "\t\tif len(self.s1) == 0:\n",
        "\t\t\tprint(\"Q is Empty\")\n",
        "\t\n",
        "\t\t# Return top of self.s1\n",
        "\t\tx = self.s1[-1]\n",
        "\t\tself.s1.pop()\n",
        "\t\treturn x\n",
        "\n",
        "# Driver code\n",
        "#if __name__ == '__main__':\n",
        "q = Queue()\n",
        "q.enQueue(1)\n",
        "q.enQueue(2)\n",
        "q.enQueue(3)\n",
        "\n",
        "print(q.deQueue())\n",
        "print(q.deQueue())\n",
        "print(q.deQueue())\n",
        "\n",
        "\n"
      ],
      "metadata": {
        "id": "4UuH1eZL-SaT"
      },
      "execution_count": null,
      "outputs": []
    },
    {
      "cell_type": "code",
      "source": [
        "#LIFO3.3\n",
        "# Python3 program to implement Queue using\n",
        "# one stack and recursive call stack.\n",
        "class Queue:\n",
        "\tdef __init__(self):\n",
        "\t\tself.s = []\n",
        "\t\t\n",
        "\t# Enqueue an item to the queue\n",
        "\tdef enQueue(self, data):\n",
        "\t\tself.s.append(data)\n",
        "\t\t\n",
        "\t# Dequeue an item from the queue\n",
        "\tdef deQueue(self):\n",
        "\t\t# Return if queue is empty\n",
        "\t\tif len(self.s) <= 0:\n",
        "\t\t\tprint('Queue is empty')\n",
        "\t\t\treturn\n",
        "\t\t\n",
        "\t\t# pop an item from the stack\n",
        "\t\tx = self.s[len(self.s) - 1]\n",
        "\t\tself.s.pop()\n",
        "\t\t\n",
        "\t\t# if stack becomes empty\n",
        "\t\t# return the popped item\n",
        "\t\tif len(self.s) <= 0:\n",
        "\t\t\treturn x\n",
        "\t\t\t\n",
        "\t\t# recursive call\n",
        "\t\titem = self.deQueue()\n",
        "\t\t\n",
        "\t\t# push popped item back to\n",
        "\t\t# the stack\n",
        "\t\tself.s.append(x)\n",
        "\t\t\n",
        "\t\t# return the result of\n",
        "\t\t# deQueue() call\n",
        "\t\treturn item\n",
        "\t\n",
        "# Driver code\n",
        "\n",
        "q = Queue()\n",
        "q.enQueue(1)\n",
        "q.enQueue(2)\n",
        "q.enQueue(3)\n",
        "\n",
        "print(q.deQueue())\n",
        "print(q.deQueue())\n",
        "print(q.deQueue())\n",
        "\t\n",
        "\n"
      ],
      "metadata": {
        "id": "in93SdmB-NEA"
      },
      "execution_count": null,
      "outputs": []
    },
    {
      "cell_type": "markdown",
      "source": [
        "Your answer:\n",
        "\n",
        "a. for LIFO3.1 :\n",
        "\n",
        "Atomic operations :\n",
        "\n",
        "  1.dequeue : len check is O(1) , as is pop,return and setting x=last item . \n",
        "    so all together O(1) - constant time.\n",
        "\n",
        "  2.enqueue : move all s1 to s2 = n-1 operations so O(n)\n",
        "    push O(1) , return all in s2 to s1 = n-1 operations O(n)\n",
        "\n",
        "so in total we have O(1) dequeue and O(n) enqueue . \n",
        "\n",
        "as for space complexity - we use 2 stacks and one X so total of 2n+1 memory.= 2N"
      ],
      "metadata": {
        "id": "wUV5maUkeGs9"
      }
    },
    {
      "cell_type": "markdown",
      "source": [
        "b. for LIFO3.2 :\n",
        "Atomic operations :\n",
        "\n",
        "  1.dequeue : len check is O(1) , as is pop and return .\n",
        "  we also have the recursion call , which is called again and again untill empty - so total of N calls , we also have pushing back the rest from the recursion back to the stack which is n*O(3) including the len checks.\n",
        "    so all together O(n) - linear time.\n",
        "\n",
        "  2.enqueue : append data - O(1) .\n",
        "\n",
        "\n",
        "so in total we have O(n) dequeue and O(1) enqueue . \n",
        "\n",
        "as for space complexity - we use 1 stack and one X so total of n+1 memory.\n",
        "but in the back , we just use another stack which is the recursion stack of the system which is alredy set up behind the scenes as we run the code - \n",
        "so actually we still use 2 stacks just that we didnt initialize the one in the back end."
      ],
      "metadata": {
        "id": "E7m9mQ3IeO5C"
      }
    },
    {
      "cell_type": "markdown",
      "source": [
        "#Q3.\n",
        "##3.0\n",
        "\n",
        "השאלה הבאה עוסקת בהסרת רצפים משוכפלים, באופן איטרטיבי.\n",
        "התנאים המלאים מתוארים כאן:\n",
        "https://leetcode.com/problems/remove-all-adjacent-duplicates-in-string/\n",
        "\n",
        "The task is solved by an example code. \n",
        "\n",
        "\n"
      ],
      "metadata": {
        "id": "pBO2uTylda9W"
      }
    },
    {
      "cell_type": "code",
      "source": [
        "def removeDuplicates(S):\n",
        "    list_1 = []\n",
        "    for i in S:\n",
        "        if list_1 and i==list_1[-1]: \n",
        "            list_1.pop()\n",
        "        else:\n",
        "            list_1.append(i)\n",
        "    return \"\".join(list_1)\n",
        "\n"
      ],
      "metadata": {
        "id": "HMFy5w0o31_T"
      },
      "execution_count": null,
      "outputs": []
    },
    {
      "cell_type": "code",
      "source": [
        "# Driver code \n",
        "S = \"abbaca\"\n",
        "removeDuplicates(S)"
      ],
      "metadata": {
        "colab": {
          "base_uri": "https://localhost:8080/",
          "height": 35
        },
        "id": "ImWmd4Kk34-0",
        "outputId": "2398757a-bdba-4e17-fded-d074b22474ec"
      },
      "execution_count": null,
      "outputs": [
        {
          "output_type": "execute_result",
          "data": {
            "text/plain": [
              "'ca'"
            ],
            "application/vnd.google.colaboratory.intrinsic+json": {
              "type": "string"
            }
          },
          "metadata": {},
          "execution_count": 2
        }
      ]
    },
    {
      "cell_type": "markdown",
      "source": [
        "please pay attention, at the code above we use \"if list_1 and i==list_1[-1]\" for implementing stack.empty() and stack.peek(), as seen at the class. peek would just copy the member, without actually popping and removing it. we assume these take $O(1)$"
      ],
      "metadata": {
        "id": "zUXM8c7341Kh"
      }
    },
    {
      "cell_type": "markdown",
      "source": [
        "##3.1\n",
        "Write a function count_palindromes(S,n=2), such that given a string $S$ it returns the total number of palindromes of a given length $n$. assume all small letters. pay attention the function doesn't reffers to the unique set of palindromes, but rather to the total number of appearences of the palindromes."
      ],
      "metadata": {
        "id": "oWRYP1DW5Uw2"
      }
    },
    {
      "cell_type": "code",
      "source": [],
      "metadata": {
        "id": "y3YKBds8FXKu"
      },
      "execution_count": null,
      "outputs": []
    },
    {
      "cell_type": "code",
      "source": [
        "#def count_palindromes(S,n=2):\n",
        " # counter = 0\n",
        "  #if n>S return 0\n",
        "  #else (we know n<=s) \n",
        "   #odd even check\n",
        "  #if even :\n",
        "  #k=n/2\n",
        "    #slide window from 0+n/2-1\n",
        "  #if odd :   \n"
      ],
      "metadata": {
        "id": "cQfOQ1xA8Na8"
      },
      "execution_count": null,
      "outputs": []
    },
    {
      "cell_type": "code",
      "source": [
        "def count_palindromes(S,n=2):\n",
        "  counter = 0\n",
        "  k=0 #used to workaround float to int later on\n",
        "  if n>len(S) : return 0\n",
        "  else :\n",
        "    if n%2==0 :  #n is even - we look for 2 same in row\n",
        "      k=int(n/2)\n",
        "      for i in range (k-1,len(S)-k-1):\n",
        "        if  S[i] == S[i+1] :\n",
        "          if k==1: counter +=1\n",
        "          else : \n",
        "            for t in range(1,k):\n",
        "              if S[i-t]!=S[i+1+t]: break\n",
        "              else : \n",
        "                if t==k-1 : counter+=1\n",
        "    else : #odd\n",
        "      k = int((n-1)/2)\n",
        "      for i in range (k-1,len(S)-k-1):\n",
        "        if  S[i] == S[i+2] :\n",
        "          if k==1: counter +=1\n",
        "          else : \n",
        "            for t in range(1,k):\n",
        "              if S[i-t]!=S[i+2+t]: break\n",
        "              else : \n",
        "                if t==k-1 : counter+=1\n",
        "  return counter\n",
        "   \n",
        "\n"
      ],
      "metadata": {
        "id": "RMrcZYSCdEWp"
      },
      "execution_count": 10,
      "outputs": []
    },
    {
      "cell_type": "code",
      "source": [
        "count_palindromes(\"hahaaaahahaahahhaah\",3)"
      ],
      "metadata": {
        "colab": {
          "base_uri": "https://localhost:8080/"
        },
        "id": "09-HSQVqjPGX",
        "outputId": "7f61bbf5-a80b-40db-d928-49ce775aa6b7"
      },
      "execution_count": 16,
      "outputs": [
        {
          "output_type": "execute_result",
          "data": {
            "text/plain": [
              "9"
            ]
          },
          "metadata": {},
          "execution_count": 16
        }
      ]
    },
    {
      "cell_type": "code",
      "source": [
        "#Driver code \n",
        "count_palindromes(\"annnata\",5) # for 'annna'"
      ],
      "metadata": {
        "colab": {
          "base_uri": "https://localhost:8080/"
        },
        "id": "obyVsLPf9du4",
        "outputId": "11d13c77-d42b-492f-ef61-23b6365c626a"
      },
      "execution_count": 11,
      "outputs": [
        {
          "output_type": "execute_result",
          "data": {
            "text/plain": [
              "1"
            ]
          },
          "metadata": {},
          "execution_count": 11
        }
      ]
    },
    {
      "cell_type": "code",
      "source": [
        "count_palindromes(\"annnata\",3) # 'nnn','ata'"
      ],
      "metadata": {
        "colab": {
          "base_uri": "https://localhost:8080/"
        },
        "id": "uJxmdMhP-hq0",
        "outputId": "44db7934-4282-409b-e0d4-4e9a2627cc1c"
      },
      "execution_count": 12,
      "outputs": [
        {
          "output_type": "execute_result",
          "data": {
            "text/plain": [
              "2"
            ]
          },
          "metadata": {},
          "execution_count": 12
        }
      ]
    },
    {
      "cell_type": "code",
      "source": [
        "count_palindromes(\"annnata\") # 'nn','nn'"
      ],
      "metadata": {
        "colab": {
          "base_uri": "https://localhost:8080/"
        },
        "id": "7zGkXtZT-yGG",
        "outputId": "b59cbcb3-8b8e-4627-b23c-8b7b3040afec"
      },
      "execution_count": 13,
      "outputs": [
        {
          "output_type": "execute_result",
          "data": {
            "text/plain": [
              "2"
            ]
          },
          "metadata": {},
          "execution_count": 13
        }
      ]
    },
    {
      "cell_type": "markdown",
      "source": [
        "##3.2\n",
        "\n",
        "Now extend your function to return the number of palindromes of length $n1$ to $n2$"
      ],
      "metadata": {
        "id": "5PkOBwy0_dNp"
      }
    },
    {
      "cell_type": "code",
      "source": [
        "def count_palindromes_ext(S,n1=2,n2=2):\n",
        "  counter =0\n",
        "  for i in range(n1,n2+1):\n",
        "    counter+= count_palindromes(S,i)\n",
        "\n",
        "  return counter  \n"
      ],
      "metadata": {
        "id": "K0Yx5-NTAjKs"
      },
      "execution_count": 17,
      "outputs": []
    },
    {
      "cell_type": "code",
      "source": [
        "#Driver code\n",
        "count_palindromes_ext(\"annnata\")"
      ],
      "metadata": {
        "colab": {
          "base_uri": "https://localhost:8080/"
        },
        "id": "HEomeZwSBKXi",
        "outputId": "2315413a-c6df-4df8-cd8e-0b8ff21308b3"
      },
      "execution_count": 18,
      "outputs": [
        {
          "output_type": "execute_result",
          "data": {
            "text/plain": [
              "2"
            ]
          },
          "metadata": {},
          "execution_count": 18
        }
      ]
    },
    {
      "cell_type": "code",
      "source": [
        "count_palindromes_ext(\"annnata\",n1=2,n2=5) # 'nn','nn','nnn','ata','annna'"
      ],
      "metadata": {
        "colab": {
          "base_uri": "https://localhost:8080/"
        },
        "id": "_zG4C1laBTgq",
        "outputId": "451153d7-1465-4dd8-cf05-5a5f554e54f4"
      },
      "execution_count": 19,
      "outputs": [
        {
          "output_type": "execute_result",
          "data": {
            "text/plain": [
              "5"
            ]
          },
          "metadata": {},
          "execution_count": 19
        }
      ]
    },
    {
      "cell_type": "markdown",
      "source": [
        "##3.3\n",
        "Analyze the time complexity of the obove solutions. "
      ],
      "metadata": {
        "id": "fU_NrcFGB9MX"
      }
    },
    {
      "cell_type": "markdown",
      "source": [
        "# A 3.3:\n",
        "1. first loop goes over n-k values , second loop goes over k*f(f= found duos) assume s=\"aaaaaa....\" n times and k is proprtionally small enough (logn) - so we get O(n) + n*logn = O(nlogn)\n",
        "2. added another loop , so worst case we search for all lenghts of palindromes -> n1=2 , n2=N = O(n) * O(nlogn) = O(n^2logn)"
      ],
      "metadata": {
        "id": "p1cJds8okKWt"
      }
    },
    {
      "cell_type": "markdown",
      "source": [
        "#Q4.\n",
        "\n"
      ],
      "metadata": {
        "id": "owi8glgoClL2"
      }
    },
    {
      "cell_type": "markdown",
      "source": [
        "write a recursive function to extract the members of the nested array into a single flat array"
      ],
      "metadata": {
        "id": "au1FKqfujmcf"
      }
    },
    {
      "cell_type": "code",
      "source": [
        "#You may use this helper function if you want\n",
        "def islist(lst1):\n",
        "  return type(lst1)==list\n",
        "\n",
        "print(islist('a'))\n",
        "islist(['a'])"
      ],
      "metadata": {
        "colab": {
          "base_uri": "https://localhost:8080/"
        },
        "id": "DbKgJZ_AmEam",
        "outputId": "cd39941c-aec6-43b5-a7d5-c9f7c4980eb7"
      },
      "execution_count": 127,
      "outputs": [
        {
          "output_type": "stream",
          "name": "stdout",
          "text": [
            "False\n"
          ]
        },
        {
          "output_type": "execute_result",
          "data": {
            "text/plain": [
              "True"
            ]
          },
          "metadata": {},
          "execution_count": 127
        }
      ]
    },
    {
      "cell_type": "code",
      "source": [
        "def flat_recursive(lst1):\n",
        "  lst2=[]\n",
        "  if islist(lst1): # we got a list we should check its lenght\n",
        "    if len(lst1)>1:\n",
        "      lst2=lst2+flat_recursive(lst1[:1])+flat_recursive(lst1[1:])\n",
        "    if len(lst1)==1: #might be list with 1 list item\n",
        "      if islist(lst1[0]):\n",
        "        lst2=lst2+flat_recursive(lst1[0])\n",
        "      else:   #not a list\n",
        "        lst2.append(lst1[0]) \n",
        "  return lst2       \n",
        "\n",
        "\n",
        "\n",
        "\n"
      ],
      "metadata": {
        "id": "zODDuZeSh0td"
      },
      "execution_count": 171,
      "outputs": []
    },
    {
      "cell_type": "code",
      "source": [
        "#Drive code\n",
        "lst1 = [[1],[], [2, 3], [4], [3, [2, 4]]]\n",
        "flat_recursive(lst1)\n"
      ],
      "metadata": {
        "colab": {
          "base_uri": "https://localhost:8080/"
        },
        "id": "indjRcfy3feJ",
        "outputId": "1ff57237-8b52-4f94-a042-3ca7ae7246c0"
      },
      "execution_count": 172,
      "outputs": [
        {
          "output_type": "execute_result",
          "data": {
            "text/plain": [
              "[1, 2, 3, 4, 3, 2, 4]"
            ]
          },
          "metadata": {},
          "execution_count": 172
        }
      ]
    },
    {
      "cell_type": "markdown",
      "source": [
        "#Q5. \n",
        "\n",
        "write a recursive function to calculate the greatest common divisor of two natural numbers $n1, n2$"
      ],
      "metadata": {
        "id": "-a6pN8jWnRJK"
      }
    },
    {
      "cell_type": "code",
      "source": [
        "def gcd_rec(n1,n2):\n",
        "  \n",
        "  if n2==0 : #remainder = 0 -> n1 is the last remainder in euclidian procces \n",
        "    return n1\n",
        "  else: return gcd_rec(n2,(n1%n2))\n",
        "\n",
        "  "
      ],
      "metadata": {
        "id": "NNdyKiBjoiTl"
      },
      "execution_count": 198,
      "outputs": []
    },
    {
      "cell_type": "code",
      "source": [
        "#Drive code\n",
        "\n",
        "gcd_rec(48, 72)\n"
      ],
      "metadata": {
        "colab": {
          "base_uri": "https://localhost:8080/"
        },
        "id": "sAxvDhbXonUx",
        "outputId": "e2061487-d7c0-4cbf-c03f-a4b8ddb8b1c4"
      },
      "execution_count": 202,
      "outputs": [
        {
          "output_type": "execute_result",
          "data": {
            "text/plain": [
              "24"
            ]
          },
          "metadata": {},
          "execution_count": 202
        }
      ]
    },
    {
      "cell_type": "code",
      "source": [
        "gcd_rec(72, 48)"
      ],
      "metadata": {
        "colab": {
          "base_uri": "https://localhost:8080/"
        },
        "id": "TpBMBB_F4k-v",
        "outputId": "04323062-f05f-40cd-ff7e-11e5b35282b1"
      },
      "execution_count": 201,
      "outputs": [
        {
          "output_type": "execute_result",
          "data": {
            "text/plain": [
              "24"
            ]
          },
          "metadata": {},
          "execution_count": 201
        }
      ]
    }
  ]
}