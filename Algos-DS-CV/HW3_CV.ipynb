{
  "nbformat": 4,
  "nbformat_minor": 0,
  "metadata": {
    "colab": {
      "provenance": []
    },
    "kernelspec": {
      "name": "python3",
      "display_name": "Python 3"
    },
    "language_info": {
      "name": "python"
    }
  },
  "cells": [
    {
      "cell_type": "code",
      "execution_count": null,
      "metadata": {
        "id": "fV7hXxY6ZgAU"
      },
      "outputs": [],
      "source": []
    },
    {
      "cell_type": "markdown",
      "source": [
        "name: Gilad X\n",
        "id : X\n",
        "homework #3\n",
        "\n",
        "\n"
      ],
      "metadata": {
        "id": "uqRadRaBZkvJ"
      }
    },
    {
      "cell_type": "code",
      "source": [],
      "metadata": {
        "id": "gZAmlubIZrU1"
      },
      "execution_count": null,
      "outputs": []
    },
    {
      "cell_type": "code",
      "source": [
        "import numpy as np\n",
        "import matplotlib.pyplot as plt\n",
        "import math\n",
        "import random\n"
      ],
      "metadata": {
        "id": "iwMsnaCH8TRn"
      },
      "execution_count": null,
      "outputs": []
    },
    {
      "cell_type": "code",
      "source": [
        "##just for image download\n",
        "import urllib.request\n",
        "\n",
        "image_url = 'https://u.cs.biu.ac.il/~kapaho/IP/Images/binary/binary1.tiff'\n",
        "image_path = 'binary.jpg'\n",
        "urllib.request.urlretrieve(image_url , image_path)"
      ],
      "metadata": {
        "colab": {
          "base_uri": "https://localhost:8080/"
        },
        "id": "-5U5us6d9RUL",
        "outputId": "047aacd7-b5ec-41a1-b708-cc5c0f4fbff3"
      },
      "execution_count": null,
      "outputs": [
        {
          "output_type": "execute_result",
          "data": {
            "text/plain": [
              "('binary.jpg', <http.client.HTTPMessage at 0x7ff11fab1c90>)"
            ]
          },
          "metadata": {},
          "execution_count": 229
        }
      ]
    },
    {
      "cell_type": "code",
      "source": [
        "image = plt.imread(image_path).astype(float)"
      ],
      "metadata": {
        "id": "Sv-2asbILLhA"
      },
      "execution_count": null,
      "outputs": []
    },
    {
      "cell_type": "code",
      "source": [
        "image.shape"
      ],
      "metadata": {
        "colab": {
          "base_uri": "https://localhost:8080/"
        },
        "id": "XwQ9D94MbI1F",
        "outputId": "8eb49ba5-0f7d-4870-9b3d-39b80fd7b8f9"
      },
      "execution_count": null,
      "outputs": [
        {
          "output_type": "execute_result",
          "data": {
            "text/plain": [
              "(30, 30)"
            ]
          },
          "metadata": {},
          "execution_count": 231
        }
      ]
    },
    {
      "cell_type": "code",
      "source": [
        "def plot_image(image):  ## func to dispaly hte image , after clipping to normal levels , using 0-255 as values , and greyscale.\n",
        "  image = np.clip(image , 0 ,1)\n",
        "  image = image.astype(np.uint8)\n",
        "  plt.imshow(image , cmap ='gray')\n",
        "  plt.show()"
      ],
      "metadata": {
        "id": "MWwjz8GP9pUY"
      },
      "execution_count": null,
      "outputs": []
    },
    {
      "cell_type": "code",
      "source": [
        "row , col = image.shape\n",
        "binImage = np.zeros(image.shape)\n",
        "\n",
        "for i in range(row):\n",
        "  for j in range(col):\n",
        "    if image[i][j] >0 : binImage[i][j] = int(1)\n",
        "    else: binImage[i][j]=int(0)\n",
        "binImage = binImage.astype(int)\n",
        "print(binImage)\n",
        "plot_image(binImage)\n",
        "\n"
      ],
      "metadata": {
        "colab": {
          "base_uri": "https://localhost:8080/",
          "height": 786
        },
        "id": "L2zAiEno-w-d",
        "outputId": "fd5b0308-d7af-444f-a4b3-26265727ac7c"
      },
      "execution_count": null,
      "outputs": [
        {
          "output_type": "stream",
          "name": "stdout",
          "text": [
            "[[0 0 0 0 0 0 0 0 0 0 0 0 0 0 0 0 0 0 0 0 0 0 0 0 0 0 0 0 0 0]\n",
            " [0 0 0 0 1 1 1 1 1 1 1 1 1 1 0 0 0 0 0 1 0 1 0 1 0 0 0 0 0 0]\n",
            " [0 0 0 0 1 1 1 1 1 1 1 1 1 1 0 0 0 0 0 1 0 1 0 1 0 0 0 0 0 0]\n",
            " [0 0 0 0 1 1 0 0 0 0 0 0 1 1 0 0 0 0 0 1 0 1 0 1 0 0 0 0 0 0]\n",
            " [0 0 0 0 1 1 0 1 1 0 0 0 1 1 0 0 0 0 1 1 1 1 1 1 0 0 0 0 0 0]\n",
            " [0 0 0 0 1 1 0 1 1 0 0 0 1 1 0 0 0 0 0 1 0 1 0 1 0 0 0 0 0 0]\n",
            " [0 0 0 0 1 1 0 0 0 0 0 0 1 1 0 0 0 0 0 1 0 1 0 1 0 0 0 0 0 0]\n",
            " [0 0 0 0 1 1 1 1 1 1 1 1 1 1 0 0 0 0 0 1 0 1 0 1 0 0 0 0 0 0]\n",
            " [0 0 0 0 1 1 1 1 1 1 1 1 1 1 0 0 0 0 0 0 0 0 0 0 0 0 0 0 0 0]\n",
            " [0 0 0 0 0 0 0 0 0 0 0 0 0 0 0 0 0 0 0 0 0 0 0 0 0 0 0 0 0 0]\n",
            " [0 0 0 0 0 0 0 0 0 0 0 0 0 0 0 0 0 0 0 0 0 0 0 1 0 0 0 0 0 0]\n",
            " [0 0 0 0 0 0 0 0 0 0 0 0 0 0 0 0 0 0 0 0 0 0 0 1 0 0 0 0 0 0]\n",
            " [0 0 0 0 0 0 0 0 0 1 1 1 1 1 1 1 1 1 1 1 1 1 1 1 0 0 0 0 0 0]\n",
            " [0 0 0 0 0 0 0 0 0 1 0 0 0 0 0 0 0 0 0 0 0 0 0 0 0 0 0 0 0 0]\n",
            " [0 0 0 0 0 0 0 0 0 1 0 0 0 0 0 0 0 0 0 0 0 0 0 0 0 0 0 0 0 0]\n",
            " [0 0 0 0 0 0 0 0 0 1 0 0 0 0 1 1 1 1 1 1 1 1 1 1 0 0 0 0 0 0]\n",
            " [0 0 0 0 0 0 0 0 0 1 0 0 0 0 1 0 0 0 0 0 0 0 0 1 0 0 0 0 0 0]\n",
            " [0 0 0 0 0 0 0 0 0 1 0 0 0 0 1 0 0 0 0 0 0 0 0 1 0 0 0 0 0 0]\n",
            " [0 0 0 0 0 0 0 0 0 1 0 0 0 0 1 0 0 1 1 1 1 0 0 1 0 0 0 0 0 0]\n",
            " [0 0 0 0 0 0 0 0 0 1 0 0 0 0 1 0 0 1 0 0 1 0 0 1 0 0 0 0 0 0]\n",
            " [0 0 0 0 0 0 0 0 0 1 0 0 0 0 1 0 0 1 0 0 1 0 0 1 0 0 0 0 0 0]\n",
            " [0 0 0 0 0 0 0 0 0 1 0 0 0 0 1 0 0 0 0 0 1 0 0 1 0 0 0 0 0 0]\n",
            " [0 0 0 0 0 0 0 0 0 1 0 0 0 0 1 0 0 0 0 0 1 0 0 1 0 0 0 0 0 0]\n",
            " [0 0 0 0 0 0 0 0 0 1 0 0 0 0 1 1 1 1 1 1 1 0 0 1 0 0 0 0 0 0]\n",
            " [0 0 0 0 0 0 0 0 0 1 0 0 0 0 0 0 0 0 0 0 0 0 0 1 0 0 0 0 0 0]\n",
            " [0 0 0 0 0 0 0 0 0 1 0 0 0 0 0 0 0 0 0 0 0 0 0 1 0 0 0 0 0 0]\n",
            " [0 0 0 0 0 0 0 0 0 1 1 1 1 1 1 1 1 1 1 1 1 1 1 1 0 0 0 0 0 0]\n",
            " [0 0 0 0 0 0 0 0 0 0 0 0 0 0 0 0 0 0 0 0 0 0 0 0 0 0 0 0 0 0]\n",
            " [0 0 0 0 0 0 0 0 0 0 0 0 0 0 0 0 0 0 0 0 0 0 0 0 0 0 0 0 0 0]\n",
            " [0 0 0 0 0 0 0 0 0 0 0 0 0 0 0 0 0 0 0 0 0 0 0 0 0 0 0 0 0 0]]\n"
          ]
        },
        {
          "output_type": "display_data",
          "data": {
            "image/png": "[encoded data removed]",
            "text/plain": [
              "<Figure size 432x288 with 1 Axes>"
            ]
          },
          "metadata": {
            "needs_background": "light"
          }
        }
      ]
    },
    {
      "cell_type": "code",
      "source": [
        "tstIMG=binImage.copy()"
      ],
      "metadata": {
        "id": "wblR9uKgaFLL"
      },
      "execution_count": null,
      "outputs": []
    },
    {
      "cell_type": "code",
      "source": [
        "def segm2(image):\n",
        "  segIMG = np.zeros(image.shape ,int)\n",
        "  height ,width = image.shape\n",
        "  segCounter = 0\n",
        "  myDict = {}\n",
        "  for row in range(height):\n",
        "    for col in range(width):\n",
        "      if image[row][col] == 0:\n",
        "        segIMG[row][col]= 0\n",
        "      else:\n",
        "        if row ==0 and col ==0:\n",
        "          segCounter+=1\n",
        "          segIMG[row][col] = segCounter\n",
        "        elif row == 0 :\n",
        "          if segIMG[row][col-1] !=0 :\n",
        "            segIMG[row][col] = segIMG[row][col-1]\n",
        "          else:\n",
        "             segCounter+=1\n",
        "             segIMG[row][col] = segCounter\n",
        "        elif col == 0 :\n",
        "          if segIMG[row-1][col] !=0 :\n",
        "            segIMG[row][col] = segIMG[row-1][col]\n",
        "          else:\n",
        "             segCounter+=1\n",
        "             segIMG[row][col] = segCounter\n",
        "        else : #check both neighbors\n",
        "          if segIMG[row][col-1] ==0 and segIMG[row-1][col] ==0 :\n",
        "            segCounter+=1\n",
        "            segIMG[row][col] = segCounter\n",
        "          else : # both not zero\n",
        "           if segIMG[row][col-1] !=0 and segIMG[row-1][col] !=0 and segIMG[row][col-1] !=segIMG[row-1][col] :\n",
        "             segIMG[row][col] = segIMG[row][col-1]\n",
        "             if segIMG[row][col] in myDict.keys():\n",
        "               myDict.update({segIMG[row-1][col]:myDict[segIMG[row][col-1]]})\n",
        "             else:myDict.update({segIMG[row-1][col]:segIMG[row][col-1]})\n",
        "            # print(myDict)\n",
        "           else: #one is zero\n",
        "              segIMG[row][col] = max(segIMG[row-1][col] , segIMG[row][col-1] )\n",
        "  flag=1\n",
        "  while  flag:\n",
        "  # print(\"in while\")\n",
        "   flag =0\n",
        "   for row in range(height):\n",
        "     for col in range(width):\n",
        "       if segIMG[row][col] in myDict.keys():\n",
        "        segIMG[row][col] = myDict.get(segIMG[row][col])\n",
        "        flag=1\n",
        "\n",
        "\n",
        "   return segIMG\n"
      ],
      "metadata": {
        "id": "uDhmD8gc513G"
      },
      "execution_count": null,
      "outputs": []
    },
    {
      "cell_type": "code",
      "source": [
        "segIMG = segm2(tstIMG)"
      ],
      "metadata": {
        "id": "nlJ0nEg8IEGT"
      },
      "execution_count": null,
      "outputs": []
    },
    {
      "cell_type": "code",
      "source": [
        "def pixels(image):\n",
        "\n",
        "  height , width = image.shape\n",
        "  for i in range(1,image.max()):\n",
        "    listi=[]\n",
        "    for row in range(height):\n",
        "      for col in range(width):\n",
        "        if image[row][col] == i:\n",
        "          j = (row,col)\n",
        "          listi.append(j)\n",
        "    if listi != []:\n",
        "     print(\"object \"+str(i)+\" pixels:\")\n",
        "     print(listi)"
      ],
      "metadata": {
        "id": "MWJSUrLDIUHi"
      },
      "execution_count": null,
      "outputs": []
    },
    {
      "cell_type": "code",
      "source": [
        "pixels(segIMG)"
      ],
      "metadata": {
        "colab": {
          "base_uri": "https://localhost:8080/"
        },
        "id": "vTIn3DrtJdN-",
        "outputId": "fc2f3ada-9aa0-4f1f-e261-9e95e05358ce"
      },
      "execution_count": null,
      "outputs": [
        {
          "output_type": "stream",
          "name": "stdout",
          "text": [
            "object 1 pixels:\n",
            "[(1, 4), (1, 5), (1, 6), (1, 7), (1, 8), (1, 9), (1, 10), (1, 11), (1, 12), (1, 13), (2, 4), (2, 5), (2, 6), (2, 7), (2, 8), (2, 9), (2, 10), (2, 11), (2, 12), (2, 13), (3, 4), (3, 5), (3, 12), (3, 13), (4, 4), (4, 5), (4, 12), (4, 13), (5, 4), (5, 5), (5, 12), (5, 13), (6, 4), (6, 5), (6, 12), (6, 13), (7, 4), (7, 5), (7, 6), (7, 7), (7, 8), (7, 9), (7, 10), (7, 11), (7, 12), (7, 13), (8, 4), (8, 5), (8, 6), (8, 7), (8, 8), (8, 9), (8, 10), (8, 11), (8, 12), (8, 13)]\n",
            "object 5 pixels:\n",
            "[(4, 7), (4, 8), (5, 7), (5, 8)]\n",
            "object 6 pixels:\n",
            "[(1, 19), (1, 21), (1, 23), (2, 19), (2, 21), (2, 23), (3, 19), (3, 21), (3, 23), (4, 18), (4, 19), (4, 20), (4, 21), (4, 22), (4, 23), (5, 19), (5, 21), (5, 23), (6, 19), (6, 21), (6, 23), (7, 19), (7, 21), (7, 23)]\n",
            "object 8 pixels:\n",
            "[(10, 23), (11, 23), (12, 9), (12, 10), (12, 11), (12, 12), (12, 13), (12, 14), (12, 15), (12, 16), (12, 17), (12, 18), (12, 19), (12, 20), (12, 21), (12, 22), (12, 23), (13, 9), (14, 9), (15, 9), (15, 14), (15, 15), (15, 16), (15, 17), (15, 18), (15, 19), (15, 20), (15, 21), (15, 22), (15, 23), (16, 9), (16, 14), (16, 23), (17, 9), (17, 14), (17, 23), (18, 9), (18, 14), (18, 23), (19, 9), (19, 14), (19, 23), (20, 9), (20, 14), (20, 23), (21, 9), (21, 14), (21, 23), (22, 9), (22, 14), (22, 23), (23, 9), (23, 14), (23, 15), (23, 16), (23, 17), (23, 18), (23, 19), (23, 20), (23, 23), (24, 9), (24, 23), (25, 9), (25, 23), (26, 9), (26, 10), (26, 11), (26, 12), (26, 13), (26, 14), (26, 15), (26, 16), (26, 17), (26, 18), (26, 19), (26, 20), (26, 21), (26, 22), (26, 23)]\n"
          ]
        }
      ]
    },
    {
      "cell_type": "code",
      "source": [
        "def imgobject (image):\n",
        "  height , width = image.shape\n",
        "  for i in range(1,image.max()):\n",
        "     flag=0\n",
        "     objpic = np.zeros(image.shape)\n",
        "     for row in range(height):\n",
        "       for col in range(width):\n",
        "         if image[row][col] == i:\n",
        "          objpic[row][col] = 1\n",
        "          flag=1\n",
        "     if flag:\n",
        "      plot_image(objpic)\n",
        ""
      ],
      "metadata": {
        "id": "XdpEP3T1NUel"
      },
      "execution_count": null,
      "outputs": []
    },
    {
      "cell_type": "code",
      "source": [
        "imgobject(segIMG)"
      ],
      "metadata": {
        "colab": {
          "base_uri": "https://localhost:8080/",
          "height": 1000
        },
        "id": "_Xc_qBfiOZZh",
        "outputId": "857b6dd3-6caf-4fa3-c5d4-43e33b41a2ac"
      },
      "execution_count": null,
      "outputs": [
        {
          "output_type": "display_data",
          "data": {
            "image/png": "[encoded data removed]",
            "text/plain": [
              "<Figure size 432x288 with 1 Axes>"
            ]
          },
          "metadata": {
            "needs_background": "light"
          }
        },
        {
          "output_type": "display_data",
          "data": {
            "image/png": "[encoded data removed]",
            "text/plain": [
              "<Figure size 432x288 with 1 Axes>"
            ]
          },
          "metadata": {
            "needs_background": "light"
          }
        },
        {
          "output_type": "display_data",
          "data": {
            "image/png": "[encoded data removed]",
            "text/plain": [
              "<Figure size 432x288 with 1 Axes>"
            ]
          },
          "metadata": {
            "needs_background": "light"
          }
        },
        {
          "output_type": "display_data",
          "data": {
            "image/png": "[encoded data removed]",
            "text/plain": [
              "<Figure size 432x288 with 1 Axes>"
            ]
          },
          "metadata": {
            "needs_background": "light"
          }
        }
      ]
    },
    {
      "cell_type": "code",
      "source": [
        "def imgobjectnum (image,a):\n",
        "  height , width = image.shape\n",
        "  i=a\n",
        "  objpic = np.zeros(image.shape)\n",
        "  for row in range(height):\n",
        "     for col in range(width):\n",
        "       if image[row][col] == i:\n",
        "          objpic[row][col] = 1\n",
        "\n",
        "  return objpic\n",
        ""
      ],
      "metadata": {
        "id": "PtR4HxofXA1-"
      },
      "execution_count": null,
      "outputs": []
    },
    {
      "cell_type": "code",
      "source": [
        "skelimg=imgobjectnum(segIMG,1)\n",
        "#make somn more interesting than 2 pixel width\n",
        "height, width = skelimg.shape\n",
        "for row in range(1,8):\n",
        "  for col in range (4 ,13):\n",
        "    skelimg[row][col] = 1"
      ],
      "metadata": {
        "id": "_4dtxOZGXYFp"
      },
      "execution_count": null,
      "outputs": []
    },
    {
      "cell_type": "code",
      "source": [
        "def disTrans(image):\n",
        "  #get bin image - output distance transformed pic\n",
        "  height , width = image.shape\n",
        "  disIMG = image.copy()\n",
        "  flag=1\n",
        "  while flag :\n",
        "    flag=0\n",
        "    for row in range(1,height-1):\n",
        "      for col in range(1,width-1):\n",
        "        if disIMG[row-1][col] !=0 and disIMG[row][col-1] !=0 and disIMG[row+1][col] !=0 and disIMG[row][col+1] !=0 :\n",
        "         if disIMG[row-1][col]>=disIMG[row][col] and disIMG[row][col-1]>=disIMG[row][col] and disIMG[row+1][col]>=disIMG[row][col] and disIMG[row][col+1]>=disIMG[row][col]:\n",
        "          #all neighbors bigger or same\n",
        "          disIMG [row][col] +=1\n",
        "          flag =1\n",
        "  return disIMG\n"
      ],
      "metadata": {
        "id": "hbhbrGfDUFN8"
      },
      "execution_count": null,
      "outputs": []
    },
    {
      "cell_type": "code",
      "source": [
        "skeleton = disTrans(skelimg)\n",
        "skeleton = skeleton.astype(int)\n",
        "print(skeleton)"
      ],
      "metadata": {
        "colab": {
          "base_uri": "https://localhost:8080/"
        },
        "id": "R9DyAaQIUa8q",
        "outputId": "154a9415-27a1-479c-c5e6-87983a3cc45e"
      },
      "execution_count": null,
      "outputs": [
        {
          "output_type": "stream",
          "name": "stdout",
          "text": [
            "[[0 0 0 0 0 0 0 0 0 0 0 0 0 0 0 0 0 0 0 0 0 0 0 0 0 0 0 0 0 0]\n",
            " [0 0 0 0 1 1 1 1 1 1 1 1 1 1 0 0 0 0 0 0 0 0 0 0 0 0 0 0 0 0]\n",
            " [0 0 0 0 1 2 2 2 2 2 2 2 2 1 0 0 0 0 0 0 0 0 0 0 0 0 0 0 0 0]\n",
            " [0 0 0 0 1 2 3 3 3 3 3 3 2 1 0 0 0 0 0 0 0 0 0 0 0 0 0 0 0 0]\n",
            " [0 0 0 0 1 2 3 4 4 4 4 3 2 1 0 0 0 0 0 0 0 0 0 0 0 0 0 0 0 0]\n",
            " [0 0 0 0 1 2 3 4 4 4 4 3 2 1 0 0 0 0 0 0 0 0 0 0 0 0 0 0 0 0]\n",
            " [0 0 0 0 1 2 3 3 3 3 3 3 2 1 0 0 0 0 0 0 0 0 0 0 0 0 0 0 0 0]\n",
            " [0 0 0 0 1 2 2 2 2 2 2 2 2 1 0 0 0 0 0 0 0 0 0 0 0 0 0 0 0 0]\n",
            " [0 0 0 0 1 1 1 1 1 1 1 1 1 1 0 0 0 0 0 0 0 0 0 0 0 0 0 0 0 0]\n",
            " [0 0 0 0 0 0 0 0 0 0 0 0 0 0 0 0 0 0 0 0 0 0 0 0 0 0 0 0 0 0]\n",
            " [0 0 0 0 0 0 0 0 0 0 0 0 0 0 0 0 0 0 0 0 0 0 0 0 0 0 0 0 0 0]\n",
            " [0 0 0 0 0 0 0 0 0 0 0 0 0 0 0 0 0 0 0 0 0 0 0 0 0 0 0 0 0 0]\n",
            " [0 0 0 0 0 0 0 0 0 0 0 0 0 0 0 0 0 0 0 0 0 0 0 0 0 0 0 0 0 0]\n",
            " [0 0 0 0 0 0 0 0 0 0 0 0 0 0 0 0 0 0 0 0 0 0 0 0 0 0 0 0 0 0]\n",
            " [0 0 0 0 0 0 0 0 0 0 0 0 0 0 0 0 0 0 0 0 0 0 0 0 0 0 0 0 0 0]\n",
            " [0 0 0 0 0 0 0 0 0 0 0 0 0 0 0 0 0 0 0 0 0 0 0 0 0 0 0 0 0 0]\n",
            " [0 0 0 0 0 0 0 0 0 0 0 0 0 0 0 0 0 0 0 0 0 0 0 0 0 0 0 0 0 0]\n",
            " [0 0 0 0 0 0 0 0 0 0 0 0 0 0 0 0 0 0 0 0 0 0 0 0 0 0 0 0 0 0]\n",
            " [0 0 0 0 0 0 0 0 0 0 0 0 0 0 0 0 0 0 0 0 0 0 0 0 0 0 0 0 0 0]\n",
            " [0 0 0 0 0 0 0 0 0 0 0 0 0 0 0 0 0 0 0 0 0 0 0 0 0 0 0 0 0 0]\n",
            " [0 0 0 0 0 0 0 0 0 0 0 0 0 0 0 0 0 0 0 0 0 0 0 0 0 0 0 0 0 0]\n",
            " [0 0 0 0 0 0 0 0 0 0 0 0 0 0 0 0 0 0 0 0 0 0 0 0 0 0 0 0 0 0]\n",
            " [0 0 0 0 0 0 0 0 0 0 0 0 0 0 0 0 0 0 0 0 0 0 0 0 0 0 0 0 0 0]\n",
            " [0 0 0 0 0 0 0 0 0 0 0 0 0 0 0 0 0 0 0 0 0 0 0 0 0 0 0 0 0 0]\n",
            " [0 0 0 0 0 0 0 0 0 0 0 0 0 0 0 0 0 0 0 0 0 0 0 0 0 0 0 0 0 0]\n",
            " [0 0 0 0 0 0 0 0 0 0 0 0 0 0 0 0 0 0 0 0 0 0 0 0 0 0 0 0 0 0]\n",
            " [0 0 0 0 0 0 0 0 0 0 0 0 0 0 0 0 0 0 0 0 0 0 0 0 0 0 0 0 0 0]\n",
            " [0 0 0 0 0 0 0 0 0 0 0 0 0 0 0 0 0 0 0 0 0 0 0 0 0 0 0 0 0 0]\n",
            " [0 0 0 0 0 0 0 0 0 0 0 0 0 0 0 0 0 0 0 0 0 0 0 0 0 0 0 0 0 0]\n",
            " [0 0 0 0 0 0 0 0 0 0 0 0 0 0 0 0 0 0 0 0 0 0 0 0 0 0 0 0 0 0]]\n"
          ]
        }
      ]
    },
    {
      "cell_type": "code",
      "source": [
        "\n",
        "def checkneighbors(image , a ,b): #returns grad\n",
        "  row =a\n",
        "  col =b\n",
        "  n1 = image [row-1][col-1]\n",
        "  n2 = image [row-1][col]\n",
        "  n3 = image [row-1][col+1]\n",
        "  n4 = image [row][col+1]\n",
        "  n5 = image [row+1][col+1]\n",
        "  n6 = image [row+1][col]\n",
        "  n7 = image [row+1][col-1]\n",
        "  n8 = image [row][col-1]\n",
        "  pix = image[row][col]\n",
        "  myarr = np.zeros(8)\n",
        "\n",
        "  myarr[0]=n1 - pix - n5\n",
        "  myarr[1]= n2 - pix - n6\n",
        "  myarr[2]= n3 - pix - n7\n",
        "  myarr[3]= n4 - pix - n8\n",
        "  myarr[4]= n5 - pix - n1\n",
        "  myarr[5]= n6 - pix - n2\n",
        "  myarr[6]= n8 - pix - n4\n",
        "  myarr[7]= n8 - pix - n4\n",
        "  newarr = myarr.copy()\n",
        "  #print(myarr)\n",
        "\n",
        "  newarr = sorted(newarr)\n",
        "  #print(newarr)\n",
        "  j=300\n",
        "  if newarr[0] != newarr[1] :  #we have smallest\n",
        "   for i in range(7):\n",
        "    if myarr[i] == newarr[0]:\n",
        "      j=i\n",
        "  return j\n"
      ],
      "metadata": {
        "id": "qNrjW1ZDWyWW"
      },
      "execution_count": null,
      "outputs": []
    },
    {
      "cell_type": "code",
      "source": [
        "print(checkneighbors(skeleton , 4 ,4))"
      ],
      "metadata": {
        "colab": {
          "base_uri": "https://localhost:8080/"
        },
        "id": "v4gXe6PMs2GV",
        "outputId": "7af89a0f-dcb0-4c20-cce4-9daffc0e9ea5"
      },
      "execution_count": null,
      "outputs": [
        {
          "output_type": "stream",
          "name": "stdout",
          "text": [
            "300\n"
          ]
        }
      ]
    },
    {
      "cell_type": "code",
      "source": [
        "def pixels2(image,obj): ### just for skeletor\n",
        "\n",
        "  height , width = image.shape\n",
        "\n",
        "  listi=[]\n",
        "  for row in range(height):\n",
        "    for col in range(width):\n",
        "      if image[row][col] == obj:\n",
        "         j = (row,col)\n",
        "         listi.append(j)\n",
        "  if listi != []:\n",
        "\n",
        "     return listi"
      ],
      "metadata": {
        "id": "9HvflJFXddw2"
      },
      "execution_count": null,
      "outputs": []
    },
    {
      "cell_type": "code",
      "source": [],
      "metadata": {
        "id": "8gyZyrefutvn"
      },
      "execution_count": null,
      "outputs": []
    },
    {
      "cell_type": "code",
      "source": [
        "def imgobject2 (image):\n",
        "  height , width = image.shape\n",
        "  arr1=np.zeros(height,width,image.max())\n",
        "  for i in range(1,image.max()):\n",
        "     flag=0\n",
        "     objpic = np.zeros(image.shape)\n",
        "     for row in range(height):\n",
        "       for col in range(width):\n",
        "         if image[row][col] == i:\n",
        "          objpic[row][col] = 1\n",
        "          flag=1\n",
        "     if flag:\n",
        "      arr1[height][width] = objpic.copy()\n",
        "  return arr1"
      ],
      "metadata": {
        "id": "c8wBABTc7GbL"
      },
      "execution_count": null,
      "outputs": []
    },
    {
      "cell_type": "markdown",
      "source": [
        "every pix that has 2 furthest neighbors is center of rad in the shape , so belongs to skeleton and thats it."
      ],
      "metadata": {
        "id": "EEnxmtOsZpiN"
      }
    },
    {
      "cell_type": "code",
      "source": [
        "def skelet(image):  # just the frame!!!\n",
        "  #all the setting ups\n",
        "  height , width = image.shape\n",
        "  skeleton = np.zeros(image.shape)    #result.     now we need to fix doublecheker - fixed - to check\n",
        "  disMap = disTrans(image).copy()\n",
        "  levels = disMap.max()\n",
        "\n",
        "  #loop ascending levels , for each pixel in lvl , check for number of  furthest neighbors - pass number to func to find idx of these furthest points\n",
        "  #color these idx in skelemap ,.   ---- u dont need index or shit , just in case returns true - add to skeleton\n",
        "  if disMap.max()>1:\n",
        "   for  x in range(height):\n",
        "    for  y in range(width):\n",
        "\n",
        "      if disMap[x][y] != 0:\n",
        "       if izzitskel(x,y,disMap):     #check distance for every pix not 0 in map\n",
        "          skeleton[x][y]=1\n",
        "  else: skeleton=image.copy()\n",
        "\n",
        "  #print(skeleton)                            #arr- dist idx idy\n",
        "  return skeleton\n"
      ],
      "metadata": {
        "id": "0USQ9VmLVMqb"
      },
      "execution_count": null,
      "outputs": []
    },
    {
      "cell_type": "code",
      "source": [
        "\n",
        "plot_image(skelet(skeleton))\n",
        "plot_image(skelet(skeleton2))"
      ],
      "metadata": {
        "colab": {
          "base_uri": "https://localhost:8080/",
          "height": 515
        },
        "id": "DEHdcqyzqyDa",
        "outputId": "e3329c6e-64f1-45f9-9939-4b7fa51f0b2a"
      },
      "execution_count": null,
      "outputs": [
        {
          "output_type": "display_data",
          "data": {
            "image/png": "[encoded data removed]",
            "text/plain": [
              "<Figure size 432x288 with 1 Axes>"
            ]
          },
          "metadata": {
            "needs_background": "light"
          }
        },
        {
          "output_type": "display_data",
          "data": {
            "image/png": "[encoded data removed]",
            "text/plain": [
              "<Figure size 432x288 with 1 Axes>"
            ]
          },
          "metadata": {
            "needs_background": "light"
          }
        }
      ]
    },
    {
      "cell_type": "code",
      "source": [
        "\n",
        "skeleton2=imgobjectnum(segIMG,8)\n",
        "skeleton3 = enlarge(skeleton2)"
      ],
      "metadata": {
        "id": "RZDRg8ZHB7fH"
      },
      "execution_count": null,
      "outputs": []
    },
    {
      "cell_type": "code",
      "source": [
        "def enlarge(image):\n",
        "  row,col = image.shape\n",
        "  newIMG=np.zeros[5*row,5*col]\n",
        ""
      ],
      "metadata": {
        "id": "wDFgsN1dHH6O"
      },
      "execution_count": null,
      "outputs": []
    },
    {
      "cell_type": "code",
      "source": [
        "def distance(point1,point2):\n",
        "  a= np.sqrt((point1[0]-point2[0])**2 + (point1[1]-point2[1])**2)\n",
        "  return a"
      ],
      "metadata": {
        "id": "47wWljggkTyf"
      },
      "execution_count": null,
      "outputs": []
    },
    {
      "cell_type": "code",
      "source": [
        "def izzitskel(x,y,map):\n",
        "  otherpix=0\n",
        "  counter=0\n",
        "  row ,col = map.shape\n",
        "  for i in range(row):\n",
        "    for j in range(col):\n",
        "      if map[i][j] != 0: otherpix+=1\n",
        "\n",
        "  arr=np.zeros(otherpix)\n",
        "\n",
        "  for i in range(row):\n",
        "    for j in range(col):\n",
        "       if map[i][j] != 0:\n",
        "        # print(\"in range\")\n",
        "\n",
        "        arr[counter] = distance((i,j),(x,y))\n",
        "\n",
        "        counter+=1\n",
        "        #  print(distance([i,j],[y,x]))\n",
        "        # print(counter)\n",
        "\n",
        "\n",
        "\n",
        "\n",
        "\n",
        "\n",
        "\n",
        "  return dup_check2(arr)"
      ],
      "metadata": {
        "id": "M1N_NXWdbtAi"
      },
      "execution_count": null,
      "outputs": []
    },
    {
      "cell_type": "code",
      "source": [
        "def dup_check2(arr):\n",
        "  ordCropedArr= arr.copy()   ## might not work , check\n",
        "  ordCropedArr.sort()\n",
        "  ordCropedArr= ordCropedArr[::-1]\n",
        "  ordCropedArr= ordCropedArr[:3]\n",
        "\n",
        "  a_set = set(ordCropedArr)\n",
        " ## print(a_set)\n",
        "  #print(ordCropedArr)\n",
        "  return ( len(a_set) != len(ordCropedArr))\n",
        ""
      ],
      "metadata": {
        "id": "Crdj193dugJO"
      },
      "execution_count": null,
      "outputs": []
    }
  ]
}