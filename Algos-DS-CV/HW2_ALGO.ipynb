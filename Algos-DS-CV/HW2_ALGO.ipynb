{
  "cells": [
    {
      "cell_type": "markdown",
      "metadata": {
        "id": "jnJULpClvI0n"
      },
      "source": [
        "##ID:X\n",
        "##Name:Gilad X"
      ]
    },
    {
      "cell_type": "code",
      "execution_count": null,
      "metadata": {
        "id": "5-s1X4GR2TqE"
      },
      "outputs": [],
      "source": []
    },
    {
      "cell_type": "markdown",
      "metadata": {
        "id": "W_Ct9B-hvTjw"
      },
      "source": [
        "##Introduction\n",
        "###Benchmarking\n",
        "\n",
        "The purpouse of this section is measuring the actual running time of a function. Here we test a creation of list twice, one time calling the function, and the other time by the code snippet:\n"
      ]
    },
    {
      "cell_type": "code",
      "execution_count": 1,
      "metadata": {
        "id": "tKXbEL0gvEVW"
      },
      "outputs": [],
      "source": [
        "import timeit #import the time measure package\n",
        "\n",
        "def make_list():\n",
        "    return [_ for _ in range(10)]\n",
        "\n",
        "t1 = timeit.repeat(make_list, repeat=10)\n",
        "t2 = timeit.repeat(\"[_ for _ in range(10)]\", repeat=10)\n"
      ]
    },
    {
      "cell_type": "markdown",
      "metadata": {
        "id": "BSpZ8A-g4ge0"
      },
      "source": [
        "here we see the running times"
      ]
    },
    {
      "cell_type": "code",
      "execution_count": 2,
      "metadata": {
        "colab": {
          "base_uri": "https://localhost:8080/"
        },
        "id": "C4LdYfAKw_MI",
        "outputId": "d307b220-5bd3-4934-d892-da6ed39cb156"
      },
      "outputs": [
        {
          "output_type": "stream",
          "name": "stdout",
          "text": [
            "[4.151055065000037, 1.761977485000898, 2.8224876149997726, 1.597495906000404, 1.5165246090000437, 1.457784022000851, 1.4611828899996908, 1.5645174009987386, 1.4770295500002248, 1.6951702679998562]\n",
            "[2.224569554999107, 1.1009683210013463, 1.0332256860001507, 1.033808221000072, 1.0337743029995181, 1.0721369749990117, 1.0300724759999866, 1.0327528050002002, 1.0386430419985118, 3.077888281999549]\n"
          ]
        }
      ],
      "source": [
        "print(t1)\n",
        "print(t2)"
      ]
    },
    {
      "cell_type": "code",
      "execution_count": 3,
      "metadata": {
        "colab": {
          "base_uri": "https://localhost:8080/",
          "height": 282
        },
        "id": "9qeUps6e0cfR",
        "outputId": "b7008e1e-a4a1-434b-f95e-0fa37d450925"
      },
      "outputs": [
        {
          "output_type": "execute_result",
          "data": {
            "text/plain": [
              "<AxesSubplot:>"
            ]
          },
          "metadata": {},
          "execution_count": 3
        },
        {
          "output_type": "display_data",
          "data": {
            "text/plain": [
              "<Figure size 432x288 with 1 Axes>"
            ],
            "image/png": "[encoded data removed]"
          },
          "metadata": {
            "needs_background": "light"
          }
        }
      ],
      "source": [
        "import seaborn as sns # package for visualisation\n",
        "sns.boxplot(x=t1 + t2, y=['callable'] * len(t1) + ['by code snippet'] * len(t2))\n",
        "#x axis is a joined list of the running times, y - their lables, a lable for each observation\n"
      ]
    },
    {
      "cell_type": "markdown",
      "metadata": {
        "id": "itG4GOMf_vsy"
      },
      "source": [
        "Now let's check performance as a dependence on $n$. Here, we use predefined size of set $n$ using on-the-fly python function, which is specific for our current parameter."
      ]
    },
    {
      "cell_type": "code",
      "execution_count": 4,
      "metadata": {
        "id": "w-F2P1AQ_6Jg"
      },
      "outputs": [],
      "source": [
        "import array\n",
        "def foo_array(n):\n",
        "    return array.array(\"i\", [0]*n) #here 'i' stands for positive integer type of array\n",
        "def foo_list(n):\n",
        "    return [0]*n\n",
        "\n",
        "n = pow(10,2)\n",
        "rep = 25\n",
        "t1 = timeit.repeat(lambda: foo_array(n),  repeat=rep,number=10)\n",
        "t2 = timeit.repeat(lambda: foo_list(n),  repeat=rep,number=10)"
      ]
    },
    {
      "cell_type": "code",
      "execution_count": 5,
      "metadata": {
        "colab": {
          "base_uri": "https://localhost:8080/"
        },
        "id": "xAujgcYCB_t6",
        "outputId": "cd5f719a-e074-424d-93c6-8023344b7263"
      },
      "outputs": [
        {
          "output_type": "stream",
          "name": "stdout",
          "text": [
            "[0.00012030099969706498, 7.928199920570478e-05, 7.867599924793467e-05, 8.5924000813975e-05, 8.66230002429802e-05, 9.374000001116656e-05, 9.412099825567566e-05, 9.431899889023043e-05, 9.46769996517105e-05, 9.303700062446296e-05, 0.00011042299956898205, 9.384099939779844e-05, 9.336100083601195e-05, 0.00010586600001261104, 9.387099999003112e-05, 9.462700108997524e-05, 9.354699977848213e-05, 9.416700049769133e-05, 9.921600030793343e-05, 9.315399984188844e-05, 0.00010660299994924571, 9.393099935550708e-05, 9.364600009575952e-05, 9.954400047718082e-05, 9.425099960935768e-05]\n",
            "[3.81499994546175e-05, 1.858200084825512e-05, 1.7946998923434876e-05, 1.8426999304210767e-05, 2.6011999580077827e-05, 1.8466000256012194e-05, 1.847000021371059e-05, 1.838899879658129e-05, 1.8497999917599373e-05, 1.8521999663789757e-05, 1.8397999156150036e-05, 2.605500048957765e-05, 1.8470998838893138e-05, 1.8504999388824217e-05, 1.8374001228949055e-05, 1.8495000404072925e-05, 1.8210999769507907e-05, 0.0004677860015362967, 1.5878000340308063e-05, 1.7099999240599573e-05, 1.7533000573166646e-05, 1.5050998626975343e-05, 1.5573999917251058e-05, 1.6212999980780296e-05, 1.7194999600178562e-05]\n"
          ]
        }
      ],
      "source": [
        "print(t1)\n",
        "print(t2)"
      ]
    },
    {
      "cell_type": "code",
      "execution_count": 6,
      "metadata": {
        "colab": {
          "base_uri": "https://localhost:8080/",
          "height": 282
        },
        "id": "h0dN4A14Cwxl",
        "outputId": "2b76be9b-11f2-4bd5-faf7-ac1724364b41"
      },
      "outputs": [
        {
          "output_type": "execute_result",
          "data": {
            "text/plain": [
              "<AxesSubplot:>"
            ]
          },
          "metadata": {},
          "execution_count": 6
        },
        {
          "output_type": "display_data",
          "data": {
            "text/plain": [
              "<Figure size 432x288 with 1 Axes>"
            ],
            "image/png": "[encoded data removed]"
          },
          "metadata": {
            "needs_background": "light"
          }
        }
      ],
      "source": [
        "sns.boxplot(x=t1 + t2, y=['array.array'] * len(t1) + ['list'] * len(t2))\n"
      ]
    },
    {
      "cell_type": "markdown",
      "metadata": {
        "id": "8WYCrCHtBEOy"
      },
      "source": [
        "and now summarizing for different sizes"
      ]
    },
    {
      "cell_type": "code",
      "execution_count": 123,
      "metadata": {
        "id": "BPexQ6d_DQiC",
        "colab": {
          "base_uri": "https://localhost:8080/",
          "height": 345
        },
        "outputId": "b82a336c-eead-4c44-f5c7-62b7fb870e5f"
      },
      "outputs": [
        {
          "output_type": "error",
          "ename": "NameError",
          "evalue": "ignored",
          "traceback": [
            "\u001b[0;31m---------------------------------------------------------------------------\u001b[0m",
            "\u001b[0;31mNameError\u001b[0m                                 Traceback (most recent call last)",
            "\u001b[0;32m<ipython-input-123-c1215bed00f2>\u001b[0m in \u001b[0;36m<module>\u001b[0;34m\u001b[0m\n\u001b[1;32m      5\u001b[0m \u001b[0;32mfor\u001b[0m \u001b[0mdegree\u001b[0m \u001b[0;32min\u001b[0m \u001b[0mdegrees\u001b[0m\u001b[0;34m:\u001b[0m\u001b[0;34m\u001b[0m\u001b[0;34m\u001b[0m\u001b[0m\n\u001b[1;32m      6\u001b[0m   \u001b[0mn\u001b[0m \u001b[0;34m=\u001b[0m \u001b[0mpow\u001b[0m\u001b[0;34m(\u001b[0m\u001b[0;36m2\u001b[0m\u001b[0;34m,\u001b[0m\u001b[0mdegree\u001b[0m\u001b[0;34m)\u001b[0m\u001b[0;34m\u001b[0m\u001b[0;34m\u001b[0m\u001b[0m\n\u001b[0;32m----> 7\u001b[0;31m   \u001b[0mt1\u001b[0m \u001b[0;34m=\u001b[0m \u001b[0mt1\u001b[0m \u001b[0;34m+\u001b[0m \u001b[0mtimeit\u001b[0m\u001b[0;34m.\u001b[0m\u001b[0mrepeat\u001b[0m\u001b[0;34m(\u001b[0m\u001b[0;32mlambda\u001b[0m\u001b[0;34m:\u001b[0m \u001b[0mfoo_array\u001b[0m\u001b[0;34m(\u001b[0m\u001b[0mn\u001b[0m\u001b[0;34m)\u001b[0m\u001b[0;34m,\u001b[0m  \u001b[0mrepeat\u001b[0m\u001b[0;34m=\u001b[0m\u001b[0mrep\u001b[0m\u001b[0;34m,\u001b[0m\u001b[0mnumber\u001b[0m\u001b[0;34m=\u001b[0m\u001b[0;36m10\u001b[0m\u001b[0;34m)\u001b[0m\u001b[0;34m\u001b[0m\u001b[0;34m\u001b[0m\u001b[0m\n\u001b[0m\u001b[1;32m      8\u001b[0m   \u001b[0mt2\u001b[0m \u001b[0;34m=\u001b[0m \u001b[0mt2\u001b[0m \u001b[0;34m+\u001b[0m \u001b[0mtimeit\u001b[0m\u001b[0;34m.\u001b[0m\u001b[0mrepeat\u001b[0m\u001b[0;34m(\u001b[0m\u001b[0;32mlambda\u001b[0m\u001b[0;34m:\u001b[0m \u001b[0mfoo_list\u001b[0m\u001b[0;34m(\u001b[0m\u001b[0mn\u001b[0m\u001b[0;34m)\u001b[0m\u001b[0;34m,\u001b[0m  \u001b[0mrepeat\u001b[0m\u001b[0;34m=\u001b[0m\u001b[0mrep\u001b[0m\u001b[0;34m,\u001b[0m\u001b[0mnumber\u001b[0m\u001b[0;34m=\u001b[0m\u001b[0;36m10\u001b[0m\u001b[0;34m)\u001b[0m\u001b[0;34m\u001b[0m\u001b[0;34m\u001b[0m\u001b[0m\n",
            "\u001b[0;32m/usr/lib/python3.8/timeit.py\u001b[0m in \u001b[0;36mrepeat\u001b[0;34m(stmt, setup, timer, repeat, number, globals)\u001b[0m\n\u001b[1;32m    236\u001b[0m            repeat=default_repeat, number=default_number, globals=None):\n\u001b[1;32m    237\u001b[0m     \u001b[0;34m\"\"\"Convenience function to create Timer object and call repeat method.\"\"\"\u001b[0m\u001b[0;34m\u001b[0m\u001b[0;34m\u001b[0m\u001b[0m\n\u001b[0;32m--> 238\u001b[0;31m     \u001b[0;32mreturn\u001b[0m \u001b[0mTimer\u001b[0m\u001b[0;34m(\u001b[0m\u001b[0mstmt\u001b[0m\u001b[0;34m,\u001b[0m \u001b[0msetup\u001b[0m\u001b[0;34m,\u001b[0m \u001b[0mtimer\u001b[0m\u001b[0;34m,\u001b[0m \u001b[0mglobals\u001b[0m\u001b[0;34m)\u001b[0m\u001b[0;34m.\u001b[0m\u001b[0mrepeat\u001b[0m\u001b[0;34m(\u001b[0m\u001b[0mrepeat\u001b[0m\u001b[0;34m,\u001b[0m \u001b[0mnumber\u001b[0m\u001b[0;34m)\u001b[0m\u001b[0;34m\u001b[0m\u001b[0;34m\u001b[0m\u001b[0m\n\u001b[0m\u001b[1;32m    239\u001b[0m \u001b[0;34m\u001b[0m\u001b[0m\n\u001b[1;32m    240\u001b[0m \u001b[0;32mdef\u001b[0m \u001b[0mmain\u001b[0m\u001b[0;34m(\u001b[0m\u001b[0margs\u001b[0m\u001b[0;34m=\u001b[0m\u001b[0;32mNone\u001b[0m\u001b[0;34m,\u001b[0m \u001b[0;34m*\u001b[0m\u001b[0;34m,\u001b[0m \u001b[0m_wrap_timer\u001b[0m\u001b[0;34m=\u001b[0m\u001b[0;32mNone\u001b[0m\u001b[0;34m)\u001b[0m\u001b[0;34m:\u001b[0m\u001b[0;34m\u001b[0m\u001b[0;34m\u001b[0m\u001b[0m\n",
            "\u001b[0;32m/usr/lib/python3.8/timeit.py\u001b[0m in \u001b[0;36mrepeat\u001b[0;34m(self, repeat, number)\u001b[0m\n\u001b[1;32m    203\u001b[0m         \u001b[0mr\u001b[0m \u001b[0;34m=\u001b[0m \u001b[0;34m[\u001b[0m\u001b[0;34m]\u001b[0m\u001b[0;34m\u001b[0m\u001b[0;34m\u001b[0m\u001b[0m\n\u001b[1;32m    204\u001b[0m         \u001b[0;32mfor\u001b[0m \u001b[0mi\u001b[0m \u001b[0;32min\u001b[0m \u001b[0mrange\u001b[0m\u001b[0;34m(\u001b[0m\u001b[0mrepeat\u001b[0m\u001b[0;34m)\u001b[0m\u001b[0;34m:\u001b[0m\u001b[0;34m\u001b[0m\u001b[0;34m\u001b[0m\u001b[0m\n\u001b[0;32m--> 205\u001b[0;31m             \u001b[0mt\u001b[0m \u001b[0;34m=\u001b[0m \u001b[0mself\u001b[0m\u001b[0;34m.\u001b[0m\u001b[0mtimeit\u001b[0m\u001b[0;34m(\u001b[0m\u001b[0mnumber\u001b[0m\u001b[0;34m)\u001b[0m\u001b[0;34m\u001b[0m\u001b[0;34m\u001b[0m\u001b[0m\n\u001b[0m\u001b[1;32m    206\u001b[0m             \u001b[0mr\u001b[0m\u001b[0;34m.\u001b[0m\u001b[0mappend\u001b[0m\u001b[0;34m(\u001b[0m\u001b[0mt\u001b[0m\u001b[0;34m)\u001b[0m\u001b[0;34m\u001b[0m\u001b[0;34m\u001b[0m\u001b[0m\n\u001b[1;32m    207\u001b[0m         \u001b[0;32mreturn\u001b[0m \u001b[0mr\u001b[0m\u001b[0;34m\u001b[0m\u001b[0;34m\u001b[0m\u001b[0m\n",
            "\u001b[0;32m/usr/lib/python3.8/timeit.py\u001b[0m in \u001b[0;36mtimeit\u001b[0;34m(self, number)\u001b[0m\n\u001b[1;32m    175\u001b[0m         \u001b[0mgc\u001b[0m\u001b[0;34m.\u001b[0m\u001b[0mdisable\u001b[0m\u001b[0;34m(\u001b[0m\u001b[0;34m)\u001b[0m\u001b[0;34m\u001b[0m\u001b[0;34m\u001b[0m\u001b[0m\n\u001b[1;32m    176\u001b[0m         \u001b[0;32mtry\u001b[0m\u001b[0;34m:\u001b[0m\u001b[0;34m\u001b[0m\u001b[0;34m\u001b[0m\u001b[0m\n\u001b[0;32m--> 177\u001b[0;31m             \u001b[0mtiming\u001b[0m \u001b[0;34m=\u001b[0m \u001b[0mself\u001b[0m\u001b[0;34m.\u001b[0m\u001b[0minner\u001b[0m\u001b[0;34m(\u001b[0m\u001b[0mit\u001b[0m\u001b[0;34m,\u001b[0m \u001b[0mself\u001b[0m\u001b[0;34m.\u001b[0m\u001b[0mtimer\u001b[0m\u001b[0;34m)\u001b[0m\u001b[0;34m\u001b[0m\u001b[0;34m\u001b[0m\u001b[0m\n\u001b[0m\u001b[1;32m    178\u001b[0m         \u001b[0;32mfinally\u001b[0m\u001b[0;34m:\u001b[0m\u001b[0;34m\u001b[0m\u001b[0;34m\u001b[0m\u001b[0m\n\u001b[1;32m    179\u001b[0m             \u001b[0;32mif\u001b[0m \u001b[0mgcold\u001b[0m\u001b[0;34m:\u001b[0m\u001b[0;34m\u001b[0m\u001b[0;34m\u001b[0m\u001b[0m\n",
            "\u001b[0;32m/usr/lib/python3.8/timeit.py\u001b[0m in \u001b[0;36minner\u001b[0;34m(_it, _timer, _stmt)\u001b[0m\n",
            "\u001b[0;32m<ipython-input-123-c1215bed00f2>\u001b[0m in \u001b[0;36m<lambda>\u001b[0;34m()\u001b[0m\n\u001b[1;32m      5\u001b[0m \u001b[0;32mfor\u001b[0m \u001b[0mdegree\u001b[0m \u001b[0;32min\u001b[0m \u001b[0mdegrees\u001b[0m\u001b[0;34m:\u001b[0m\u001b[0;34m\u001b[0m\u001b[0;34m\u001b[0m\u001b[0m\n\u001b[1;32m      6\u001b[0m   \u001b[0mn\u001b[0m \u001b[0;34m=\u001b[0m \u001b[0mpow\u001b[0m\u001b[0;34m(\u001b[0m\u001b[0;36m2\u001b[0m\u001b[0;34m,\u001b[0m\u001b[0mdegree\u001b[0m\u001b[0;34m)\u001b[0m\u001b[0;34m\u001b[0m\u001b[0;34m\u001b[0m\u001b[0m\n\u001b[0;32m----> 7\u001b[0;31m   \u001b[0mt1\u001b[0m \u001b[0;34m=\u001b[0m \u001b[0mt1\u001b[0m \u001b[0;34m+\u001b[0m \u001b[0mtimeit\u001b[0m\u001b[0;34m.\u001b[0m\u001b[0mrepeat\u001b[0m\u001b[0;34m(\u001b[0m\u001b[0;32mlambda\u001b[0m\u001b[0;34m:\u001b[0m \u001b[0mfoo_array\u001b[0m\u001b[0;34m(\u001b[0m\u001b[0mn\u001b[0m\u001b[0;34m)\u001b[0m\u001b[0;34m,\u001b[0m  \u001b[0mrepeat\u001b[0m\u001b[0;34m=\u001b[0m\u001b[0mrep\u001b[0m\u001b[0;34m,\u001b[0m\u001b[0mnumber\u001b[0m\u001b[0;34m=\u001b[0m\u001b[0;36m10\u001b[0m\u001b[0;34m)\u001b[0m\u001b[0;34m\u001b[0m\u001b[0;34m\u001b[0m\u001b[0m\n\u001b[0m\u001b[1;32m      8\u001b[0m   \u001b[0mt2\u001b[0m \u001b[0;34m=\u001b[0m \u001b[0mt2\u001b[0m \u001b[0;34m+\u001b[0m \u001b[0mtimeit\u001b[0m\u001b[0;34m.\u001b[0m\u001b[0mrepeat\u001b[0m\u001b[0;34m(\u001b[0m\u001b[0;32mlambda\u001b[0m\u001b[0;34m:\u001b[0m \u001b[0mfoo_list\u001b[0m\u001b[0;34m(\u001b[0m\u001b[0mn\u001b[0m\u001b[0;34m)\u001b[0m\u001b[0;34m,\u001b[0m  \u001b[0mrepeat\u001b[0m\u001b[0;34m=\u001b[0m\u001b[0mrep\u001b[0m\u001b[0;34m,\u001b[0m\u001b[0mnumber\u001b[0m\u001b[0;34m=\u001b[0m\u001b[0;36m10\u001b[0m\u001b[0;34m)\u001b[0m\u001b[0;34m\u001b[0m\u001b[0;34m\u001b[0m\u001b[0m\n",
            "\u001b[0;31mNameError\u001b[0m: name 'foo_array' is not defined"
          ]
        }
      ],
      "source": [
        "t1 = []\n",
        "t2 = []\n",
        "rep = 5\n",
        "degrees = [0,1,2,3,4]\n",
        "for degree in degrees:\n",
        "  n = pow(2,degree)\n",
        "  t1 = t1 + timeit.repeat(lambda: foo_array(n),  repeat=rep,number=10)\n",
        "  t2 = t2 + timeit.repeat(lambda: foo_list(n),  repeat=rep,number=10)\n"
      ]
    },
    {
      "cell_type": "code",
      "execution_count": 8,
      "metadata": {
        "id": "GjNKCrdqF0zl"
      },
      "outputs": [],
      "source": [
        "import numpy as np\n",
        "\n",
        "def flat_to_array(lst1):\n",
        "  return np.asarray([item for sublist in lst1 for item in sublist])\n",
        "\n",
        "sizes = flat_to_array([[pow(2,i)]*rep for i in degrees]*2)\n",
        "experiments = flat_to_array([['array.array'] * len(degrees) * rep + ['list'] * len(degrees) * rep])\n",
        "vals = np.asarray(t1 + t2 )\n",
        "\n"
      ]
    },
    {
      "cell_type": "code",
      "execution_count": 9,
      "metadata": {
        "colab": {
          "base_uri": "https://localhost:8080/"
        },
        "id": "fmyOe_NiIXk8",
        "outputId": "f525fe42-e9f3-4945-c377-99f3b1a64c3c"
      },
      "outputs": [
        {
          "output_type": "execute_result",
          "data": {
            "text/plain": [
              "array([9.35520002e-05, 2.01900002e-05, 1.94299992e-05, 1.76499998e-05,\n",
              "       1.82019994e-05, 2.87480016e-05, 1.98210000e-05, 1.99450005e-05,\n",
              "       1.94240001e-05, 1.94580007e-05, 2.82059991e-05, 2.34510007e-05,\n",
              "       2.19449994e-05, 2.15569999e-05, 2.16169992e-05, 2.87490002e-05,\n",
              "       2.22800008e-05, 2.56439998e-05, 2.59760000e-05, 2.44330004e-05,\n",
              "       4.18720010e-05, 1.06736999e-04, 4.86760000e-05, 3.77169999e-05,\n",
              "       3.01279997e-05, 3.54730000e-05, 6.49630001e-05, 1.33619997e-05,\n",
              "       1.25120005e-05, 2.62699996e-05, 1.74640008e-05, 1.53109995e-05,\n",
              "       1.44189999e-05, 1.45750000e-05, 1.44960013e-05, 1.40890006e-05,\n",
              "       1.38629985e-05, 1.44360001e-05, 1.32740006e-05, 1.25820006e-05,\n",
              "       2.96790004e-05, 2.22449999e-05, 1.52920002e-05, 1.66300015e-05,\n",
              "       1.65940000e-05, 1.88380000e-05, 1.56970000e-05, 1.61749995e-05,\n",
              "       1.69989999e-05, 1.53940000e-05])"
            ]
          },
          "metadata": {},
          "execution_count": 9
        }
      ],
      "source": [
        "vals"
      ]
    },
    {
      "cell_type": "code",
      "execution_count": 10,
      "metadata": {
        "colab": {
          "base_uri": "https://localhost:8080/",
          "height": 312
        },
        "id": "QZr2ZBQ4EKY1",
        "outputId": "af4a9b3f-e46d-4abb-8b93-dfbec9ef51a5"
      },
      "outputs": [
        {
          "output_type": "execute_result",
          "data": {
            "text/plain": [
              "<AxesSubplot:title={'center':'Runtime of structure initiation'}, xlabel='n', ylabel='time, seconds'>"
            ]
          },
          "metadata": {},
          "execution_count": 10
        },
        {
          "output_type": "display_data",
          "data": {
            "text/plain": [
              "<Figure size 432x288 with 1 Axes>"
            ],
            "image/png": "[encoded data removed]"
          },
          "metadata": {
            "needs_background": "light"
          }
        }
      ],
      "source": [
        "lineplt = sns.lineplot(x=sizes, y=vals, hue=experiments)\n",
        "lineplt.set(title = 'Runtime of structure initiation',xlabel='n', ylabel='time, seconds')\n",
        "\n",
        "sns.scatterplot(x=sizes, y=vals, hue=experiments)\n",
        "\n",
        "\n"
      ]
    },
    {
      "cell_type": "markdown",
      "metadata": {
        "id": "2N7RmUhuN2hl"
      },
      "source": [
        "#Q1.\n",
        " Your task is to sort subarrays sepparately, and then effectively merge them\n",
        "\n",
        "First, we generate a list of grades, taken randomly from normal distribution with the mean=80 and sd=20.\n",
        "We throw illegal values and in this way the length of arrays slightly differs\n",
        "The plot illustrates the actual distribution of the grades"
      ]
    },
    {
      "cell_type": "code",
      "execution_count": 11,
      "metadata": {
        "id": "CIf0wcGkPw5W"
      },
      "outputs": [],
      "source": [
        "lst1 = [ int(x) for x in list(np.random.normal(loc=80, scale=15, size=100)) if x < 101 and x>= 0]"
      ]
    },
    {
      "cell_type": "code",
      "execution_count": 12,
      "metadata": {
        "colab": {
          "base_uri": "https://localhost:8080/",
          "height": 386
        },
        "id": "8nrYtosYT2Kw",
        "outputId": "53484653-6bd9-4ee0-e057-a0a48adfffb6"
      },
      "outputs": [
        {
          "output_type": "execute_result",
          "data": {
            "text/plain": [
              "<seaborn.axisgrid.FacetGrid at 0x7fcbdac88d00>"
            ]
          },
          "metadata": {},
          "execution_count": 12
        },
        {
          "output_type": "display_data",
          "data": {
            "text/plain": [
              "<Figure size 360x360 with 1 Axes>"
            ],
            "image/png": "[encoded data removed]"
          },
          "metadata": {
            "needs_background": "light"
          }
        }
      ],
      "source": [
        "sns.displot(lst1, kind=\"kde\")"
      ]
    },
    {
      "cell_type": "code",
      "source": [
        "print(len(lst1))"
      ],
      "metadata": {
        "colab": {
          "base_uri": "https://localhost:8080/"
        },
        "id": "vxRauf9_32VN",
        "outputId": "e9a2c9d1-fe4a-4e7e-f118-90f06d0f4b75"
      },
      "execution_count": 13,
      "outputs": [
        {
          "output_type": "stream",
          "name": "stdout",
          "text": [
            "92\n"
          ]
        }
      ]
    },
    {
      "cell_type": "markdown",
      "metadata": {
        "id": "Vp4Ct3__Vqyp"
      },
      "source": [
        "##a.\n",
        "Write a naive algorithm of your choice for sorting a list in $O(n^2)$"
      ]
    },
    {
      "cell_type": "code",
      "source": [
        "lst11=[]\n",
        "print(len(lst11))"
      ],
      "metadata": {
        "colab": {
          "base_uri": "https://localhost:8080/"
        },
        "id": "_2sEgrG-7L-R",
        "outputId": "9ccc8c63-7304-4825-ed89-40c2cc60cbcb"
      },
      "execution_count": 14,
      "outputs": [
        {
          "output_type": "stream",
          "name": "stdout",
          "text": [
            "0\n"
          ]
        }
      ]
    },
    {
      "cell_type": "code",
      "source": [
        "def find_min_in_list(list):\n",
        "  if len(list)==0:\n",
        "    return -1\n",
        "  if len(list)==1:\n",
        "    return list[0]\n",
        "  else:\n",
        "    min = list[0]\n",
        "    min_idx = 0\n",
        "    for i in range(len(list)):\n",
        "      if list[i]<=min:\n",
        "        min=list[i]\n",
        "        min_idx = i\n",
        "\n",
        "    return min_idx    \n",
        "\n",
        "  "
      ],
      "metadata": {
        "id": "RnI_2eTS67P9"
      },
      "execution_count": 15,
      "outputs": []
    },
    {
      "cell_type": "code",
      "source": [],
      "metadata": {
        "id": "OH7R9_IoUlzS"
      },
      "execution_count": 15,
      "outputs": []
    },
    {
      "cell_type": "code",
      "execution_count": 16,
      "metadata": {
        "id": "FoNA2-obWU7Z"
      },
      "outputs": [],
      "source": [
        "def naive_sort(lst1):\n",
        "  length=len(lst1)\n",
        "\n",
        "  for i in range(length-1):\n",
        "    minidx= find_min_in_list(lst1[i:])+i\n",
        "    lst1[i],lst1[minidx] = lst1[minidx],lst1[i]  \n",
        "    #print(lst1)\n",
        "\n",
        "\n",
        "\n",
        "\n"
      ]
    },
    {
      "cell_type": "code",
      "source": [
        "print(len(lst1))"
      ],
      "metadata": {
        "colab": {
          "base_uri": "https://localhost:8080/"
        },
        "id": "wNM8bn5uVDfk",
        "outputId": "cdb2541d-b227-49d8-f702-61d999466ebc"
      },
      "execution_count": 17,
      "outputs": [
        {
          "output_type": "stream",
          "name": "stdout",
          "text": [
            "92\n"
          ]
        }
      ]
    },
    {
      "cell_type": "code",
      "source": [
        "print(lst1)\n",
        "lst17=lst1.copy()\n",
        "naive_sort(lst17)\n",
        "print(lst17)"
      ],
      "metadata": {
        "colab": {
          "base_uri": "https://localhost:8080/"
        },
        "id": "-CVHtqAw44az",
        "outputId": "e58e8f90-9f5a-43d5-acf5-61b80fada393"
      },
      "execution_count": 18,
      "outputs": [
        {
          "output_type": "stream",
          "name": "stdout",
          "text": [
            "[82, 94, 98, 65, 91, 74, 82, 63, 86, 96, 59, 91, 77, 64, 76, 87, 83, 65, 74, 78, 71, 49, 89, 92, 76, 93, 90, 61, 52, 91, 72, 87, 83, 70, 70, 76, 72, 76, 98, 84, 76, 63, 65, 95, 80, 62, 82, 69, 95, 92, 78, 65, 56, 91, 77, 64, 73, 69, 95, 98, 76, 94, 79, 60, 81, 72, 63, 65, 79, 87, 72, 81, 76, 49, 100, 85, 55, 93, 68, 46, 71, 62, 67, 77, 74, 66, 92, 94, 89, 80, 65, 95]\n",
            "[46, 49, 49, 52, 55, 56, 59, 60, 61, 62, 62, 63, 63, 63, 64, 64, 65, 65, 65, 65, 65, 65, 66, 67, 68, 69, 69, 70, 70, 71, 71, 72, 72, 72, 72, 73, 74, 74, 74, 76, 76, 76, 76, 76, 76, 76, 77, 77, 77, 78, 78, 79, 79, 80, 80, 81, 81, 82, 82, 82, 83, 83, 84, 85, 86, 87, 87, 87, 89, 89, 90, 91, 91, 91, 91, 92, 92, 92, 93, 93, 94, 94, 94, 95, 95, 95, 95, 96, 98, 98, 98, 100]\n"
          ]
        }
      ]
    },
    {
      "cell_type": "markdown",
      "metadata": {
        "id": "pMCJ14ydXnL5"
      },
      "source": [
        "Drive code explanation:\n",
        "In Python sort on list is performid inplace, so we want to copy the list before performing the naive sort, so we might compare it with the built-in sort function"
      ]
    },
    {
      "cell_type": "code",
      "execution_count": 19,
      "metadata": {
        "id": "XbRz23lhWau4"
      },
      "outputs": [],
      "source": [
        "#Drive code\n",
        "sorted = lst1.copy()\n",
        "lst2 = lst1.copy()\n",
        "naive_sort(sorted)"
      ]
    },
    {
      "cell_type": "code",
      "execution_count": 20,
      "metadata": {
        "colab": {
          "base_uri": "https://localhost:8080/"
        },
        "id": "jOzwSFOHXYrE",
        "outputId": "abf42b03-db29-4adf-c58d-6270d244f044"
      },
      "outputs": [
        {
          "output_type": "execute_result",
          "data": {
            "text/plain": [
              "True"
            ]
          },
          "metadata": {},
          "execution_count": 20
        }
      ],
      "source": [
        "lst2.sort()\n",
        "sorted == lst2 "
      ]
    },
    {
      "cell_type": "code",
      "execution_count": 21,
      "metadata": {
        "colab": {
          "base_uri": "https://localhost:8080/"
        },
        "id": "6WnBKUaZaoCE",
        "outputId": "3d038def-0432-470e-f6ae-a4bf35486f29"
      },
      "outputs": [
        {
          "output_type": "execute_result",
          "data": {
            "text/plain": [
              "False"
            ]
          },
          "metadata": {},
          "execution_count": 21
        }
      ],
      "source": [
        "sorted == lst1 "
      ]
    },
    {
      "cell_type": "markdown",
      "metadata": {
        "id": "-opvDc5dYcDP"
      },
      "source": [
        "##b.\n",
        "Implement a [count sort](https://en.wikipedia.org/wiki/Counting_sort) algoritm for sort in a following way: you know your numbers are integers that vary from 0 to 100. Define a list called **counts** such that each index will represent the corresponding number in the range. Such that **counts[0]** will tell us how many zeroes are at the array and **counts[60]** will represent the number of times the number 60 appears at the list. The sorted list is represented by reporting the number of times 0 appears, the number of times 1 appears, and so on"
      ]
    },
    {
      "cell_type": "code",
      "execution_count": 22,
      "metadata": {
        "id": "m8xBmW0YYbkf"
      },
      "outputs": [],
      "source": [
        "def count_sort(lst1):\n",
        "  #applying given instructions: list named count to count appearnces of numbers\n",
        "  #we initialize alist of size 101\n",
        "  counts = [0]*101\n",
        "  sorted = []\n",
        "  #loop to count the elements\n",
        "  for i in range (len(lst1)):\n",
        "    #for each element increase count by 1 in counts\n",
        "    counts[lst1[i]] = counts[lst1[i]]+1\n",
        "  #now we dual loop to append each number for its ocurences    \n",
        "  for i in range(len(counts)):\n",
        "    for j in range(counts[i]):\n",
        "      sorted.append(i)\n",
        "  #now we loop to copy all elements to lst1    \n",
        "  for i in range(len(lst1)):\n",
        "    lst1[i] = sorted[i]\n",
        "    #debug printout\n",
        "  #print(lst1)\n",
        "  "
      ]
    },
    {
      "cell_type": "code",
      "execution_count": 23,
      "metadata": {
        "id": "2tEqZUTTadBD"
      },
      "outputs": [],
      "source": [
        "#Drive code\n",
        "sorted = lst1.copy()\n",
        "lst2 = lst1.copy()\n",
        "count_sort(sorted)"
      ]
    },
    {
      "cell_type": "code",
      "execution_count": 24,
      "metadata": {
        "colab": {
          "base_uri": "https://localhost:8080/"
        },
        "id": "EZcQ_fOva-MK",
        "outputId": "d740620f-0777-4fe6-d8c9-3b655f030889"
      },
      "outputs": [
        {
          "output_type": "execute_result",
          "data": {
            "text/plain": [
              "True"
            ]
          },
          "metadata": {},
          "execution_count": 24
        }
      ],
      "source": [
        "lst2.sort()\n",
        "sorted == lst2 "
      ]
    },
    {
      "cell_type": "code",
      "execution_count": 25,
      "metadata": {
        "colab": {
          "base_uri": "https://localhost:8080/"
        },
        "id": "m411PiLPbK5l",
        "outputId": "50380192-6ffc-4b78-d03f-019d2a922bcc"
      },
      "outputs": [
        {
          "output_type": "execute_result",
          "data": {
            "text/plain": [
              "False"
            ]
          },
          "metadata": {},
          "execution_count": 25
        }
      ],
      "source": [
        "sorted == lst1 "
      ]
    },
    {
      "cell_type": "markdown",
      "metadata": {
        "id": "SYPH6WvDbQGt"
      },
      "source": [
        "##c.\n",
        "Describe and implement the algorithm of you choice for efficiently sorting the list (better than the naive)"
      ]
    },
    {
      "cell_type": "code",
      "execution_count": 26,
      "metadata": {
        "id": "f9-YrUwqbPmL"
      },
      "outputs": [],
      "source": [
        "\n",
        "#i will implement QuickSort \n",
        "#partitioner func to find pivot index and move other elements to greater smaller\n",
        "# subarray \n",
        "# Sort func to recursively split array around pivot untill len=1\n",
        "\n",
        "#returns partition index(pivIndx) and seperate to left side< pivot val\n",
        "# and right side > pivot val\n",
        "def partition(lst,l,r):\n",
        "  #i to remember last switch place\n",
        "  i = l-1\n",
        "  len = l-r\n",
        "  pivot = lst[r]\n",
        "  #loop to search moving j++ till end\n",
        "  for j in range(l,r):\n",
        "\n",
        "    if (lst[j] < pivot) :\n",
        "      #we found an element outside its place so we swap and move i\n",
        "      #we swap to i+1 because if no switches made - it points to -1\n",
        "      lst[j] , lst[i+1] = lst[i+1] , lst[j]\n",
        "      i += 1\n",
        "  #now we finished swapping , need to place pivot, also -set to i+1\n",
        "  lst[r] , lst[i+1] = lst[i+1] , lst[r]\n",
        "  return i+1    \n",
        "\n",
        "\n",
        "\n",
        "\n",
        "\n",
        "\n",
        "\n",
        "\n",
        "def quicksrt(lst,l,r):\n",
        "  #if length of given lst is >1 then we need to sort . else sorted!\n",
        "  if (r-l>0):\n",
        "   pivIndx = partition(lst,l,r)\n",
        "   quicksrt(lst,l,pivIndx-1)\n",
        "   quicksrt(lst,pivIndx+1,r)\n",
        "\n",
        "\n",
        "\n",
        "\n",
        "def mybest_sort(lst1):\n",
        "  listLenght = len(lst1)\n",
        "  l = 0\n",
        "  r = listLenght -1\n",
        "  quicksrt(lst1,l,r)\n",
        "  \n"
      ]
    },
    {
      "cell_type": "code",
      "execution_count": 27,
      "metadata": {
        "id": "U9xz-TCockQJ"
      },
      "outputs": [],
      "source": [
        "#Drive code\n",
        "sorted = lst1.copy()\n",
        "lst2 = lst1.copy()\n",
        "mybest_sort(sorted)"
      ]
    },
    {
      "cell_type": "code",
      "execution_count": 28,
      "metadata": {
        "colab": {
          "base_uri": "https://localhost:8080/"
        },
        "id": "G6-NMUk-csFu",
        "outputId": "dfeaa34c-69f8-4795-bf17-c1fa23ffd1b5"
      },
      "outputs": [
        {
          "output_type": "execute_result",
          "data": {
            "text/plain": [
              "True"
            ]
          },
          "metadata": {},
          "execution_count": 28
        }
      ],
      "source": [
        "lst2.sort()\n",
        "sorted == lst2 "
      ]
    },
    {
      "cell_type": "code",
      "execution_count": 29,
      "metadata": {
        "colab": {
          "base_uri": "https://localhost:8080/"
        },
        "id": "I02Id-41ctRn",
        "outputId": "4f620ccc-7607-417e-853e-67afe240a733"
      },
      "outputs": [
        {
          "output_type": "execute_result",
          "data": {
            "text/plain": [
              "False"
            ]
          },
          "metadata": {},
          "execution_count": 29
        }
      ],
      "source": [
        "sorted == lst1 "
      ]
    },
    {
      "cell_type": "markdown",
      "metadata": {
        "id": "7iv7N2BtcxW7"
      },
      "source": [
        "##d. \n",
        "check the performances for different sizes of the list"
      ]
    },
    {
      "cell_type": "code",
      "execution_count": 30,
      "metadata": {
        "id": "tJXNd6Y7cw23",
        "colab": {
          "base_uri": "https://localhost:8080/"
        },
        "outputId": "ddaf7523-b60d-4046-dd9a-27afde0214f0"
      },
      "outputs": [
        {
          "output_type": "stream",
          "name": "stdout",
          "text": [
            "[10, 100, 1000, 10000]\n"
          ]
        }
      ],
      "source": [
        "lst_sizes=[pow(10,x) for x in range(1,5)]\n",
        "print(lst_sizes)"
      ]
    },
    {
      "cell_type": "markdown",
      "metadata": {
        "id": "Hn6K8ikedlQk"
      },
      "source": [
        "create a list of (approximately) a corresponding size and sort it. you may not achieve the exact size as the actual number of elements varies\n",
        "a new list should be randomized at each run. plot your results for all three algorithms and **make conclusions** .  please use the actual, and not the approximated size while plotting"
      ]
    },
    {
      "cell_type": "code",
      "source": [
        "t1 = []\n",
        "t2 = []\n",
        "t3 = []\n",
        "rep = 5\n",
        "\n",
        "for size in lst_sizes:\n",
        "  n = size\n",
        "  for i in range(1):\n",
        "      lsttotest = [ int(x) for x in list(np.random.normal(loc=80, scale=15, size=n)) if x < 101 and x>= 0]\n",
        "      lst3=lsttotest.copy()\n",
        "      lst4=lsttotest.copy()\n",
        "      lst5=lsttotest.copy()\n",
        "      t1.append(timeit.timeit(lambda: naive_sort(lst3),number=10))\n",
        "      t2.append(timeit.timeit(lambda: count_sort(lst4),number=10))\n",
        "      t3.append(timeit.timeit(lambda: mybest_sort(lst5),number=10))\n"
      ],
      "metadata": {
        "id": "6RoSuecxfZbd"
      },
      "execution_count": 31,
      "outputs": []
    },
    {
      "cell_type": "code",
      "source": [
        "print(t1)"
      ],
      "metadata": {
        "colab": {
          "base_uri": "https://localhost:8080/"
        },
        "id": "LjN2DFBOGdcY",
        "outputId": "9456e36d-833b-4f9e-e296-165be6f4d6c8"
      },
      "execution_count": 32,
      "outputs": [
        {
          "output_type": "stream",
          "name": "stdout",
          "text": [
            "[0.00027053399935539346, 0.008428294999248465, 0.6863638430004357, 39.992597186999774]\n"
          ]
        }
      ]
    },
    {
      "cell_type": "code",
      "source": [
        "import numpy as np\n",
        "\n",
        "def flat_to_array(lst1):\n",
        "  return np.asarray([item for sublist in lst1 for item in sublist])\n",
        "\n",
        "sizes = flat_to_array([[pow(10,i)]*1 for i in range(1,5)]*3)\n",
        "experiments = flat_to_array([['naive'] * 4 * 1 + ['count'] * 4 * 1 + ['mysort'] * 4 * 1])\n",
        "vals = np.asarray(t1 + t2 + t3 )\n"
      ],
      "metadata": {
        "colab": {
          "base_uri": "https://localhost:8080/",
          "height": 200
        },
        "id": "RlbiLffqfbA_",
        "outputId": "308a98f7-f850-4916-caa2-d6ba4f5bde62"
      },
      "execution_count": 85,
      "outputs": [
        {
          "output_type": "error",
          "ename": "NameError",
          "evalue": "ignored",
          "traceback": [
            "\u001b[0;31m---------------------------------------------------------------------------\u001b[0m",
            "\u001b[0;31mNameError\u001b[0m                                 Traceback (most recent call last)",
            "\u001b[0;32m<ipython-input-85-b7f4abff6391>\u001b[0m in \u001b[0;36m<module>\u001b[0;34m\u001b[0m\n\u001b[1;32m      6\u001b[0m \u001b[0msizes\u001b[0m \u001b[0;34m=\u001b[0m \u001b[0mflat_to_array\u001b[0m\u001b[0;34m(\u001b[0m\u001b[0;34m[\u001b[0m\u001b[0;34m[\u001b[0m\u001b[0mpow\u001b[0m\u001b[0;34m(\u001b[0m\u001b[0;36m10\u001b[0m\u001b[0;34m,\u001b[0m\u001b[0mi\u001b[0m\u001b[0;34m)\u001b[0m\u001b[0;34m]\u001b[0m\u001b[0;34m*\u001b[0m\u001b[0;36m1\u001b[0m \u001b[0;32mfor\u001b[0m \u001b[0mi\u001b[0m \u001b[0;32min\u001b[0m \u001b[0mrange\u001b[0m\u001b[0;34m(\u001b[0m\u001b[0;36m1\u001b[0m\u001b[0;34m,\u001b[0m\u001b[0;36m5\u001b[0m\u001b[0;34m)\u001b[0m\u001b[0;34m]\u001b[0m\u001b[0;34m*\u001b[0m\u001b[0;36m3\u001b[0m\u001b[0;34m)\u001b[0m\u001b[0;34m\u001b[0m\u001b[0;34m\u001b[0m\u001b[0m\n\u001b[1;32m      7\u001b[0m \u001b[0mexperiments\u001b[0m \u001b[0;34m=\u001b[0m \u001b[0mflat_to_array\u001b[0m\u001b[0;34m(\u001b[0m\u001b[0;34m[\u001b[0m\u001b[0;34m[\u001b[0m\u001b[0;34m'naive'\u001b[0m\u001b[0;34m]\u001b[0m \u001b[0;34m*\u001b[0m \u001b[0;36m4\u001b[0m \u001b[0;34m*\u001b[0m \u001b[0;36m1\u001b[0m \u001b[0;34m+\u001b[0m \u001b[0;34m[\u001b[0m\u001b[0;34m'count'\u001b[0m\u001b[0;34m]\u001b[0m \u001b[0;34m*\u001b[0m \u001b[0;36m4\u001b[0m \u001b[0;34m*\u001b[0m \u001b[0;36m1\u001b[0m \u001b[0;34m+\u001b[0m \u001b[0;34m[\u001b[0m\u001b[0;34m'mysort'\u001b[0m\u001b[0;34m]\u001b[0m \u001b[0;34m*\u001b[0m \u001b[0;36m4\u001b[0m \u001b[0;34m*\u001b[0m \u001b[0;36m1\u001b[0m\u001b[0;34m]\u001b[0m\u001b[0;34m)\u001b[0m\u001b[0;34m\u001b[0m\u001b[0;34m\u001b[0m\u001b[0m\n\u001b[0;32m----> 8\u001b[0;31m \u001b[0mvals\u001b[0m \u001b[0;34m=\u001b[0m \u001b[0mnp\u001b[0m\u001b[0;34m.\u001b[0m\u001b[0masarray\u001b[0m\u001b[0;34m(\u001b[0m\u001b[0mt1\u001b[0m \u001b[0;34m+\u001b[0m \u001b[0mt2\u001b[0m \u001b[0;34m+\u001b[0m \u001b[0mt3\u001b[0m \u001b[0;34m)\u001b[0m\u001b[0;34m\u001b[0m\u001b[0;34m\u001b[0m\u001b[0m\n\u001b[0m",
            "\u001b[0;31mNameError\u001b[0m: name 't1' is not defined"
          ]
        }
      ]
    },
    {
      "cell_type": "code",
      "source": [
        "print(sizes)"
      ],
      "metadata": {
        "colab": {
          "base_uri": "https://localhost:8080/"
        },
        "id": "-WkcyM4Xh1PK",
        "outputId": "bfe85768-5e1e-4204-8b02-0e7aebab4532"
      },
      "execution_count": 34,
      "outputs": [
        {
          "output_type": "stream",
          "name": "stdout",
          "text": [
            "[   10   100  1000 10000    10   100  1000 10000    10   100  1000 10000]\n"
          ]
        }
      ]
    },
    {
      "cell_type": "code",
      "source": [
        "lineplt = sns.lineplot(x=sizes, y=vals, hue=experiments)\n",
        "lineplt.set(title = 'sort runtime comparison',xlabel='n', ylabel='time, seconds')\n",
        "\n",
        "sns.scatterplot(x=sizes, y=vals, hue=experiments)\n"
      ],
      "metadata": {
        "colab": {
          "base_uri": "https://localhost:8080/",
          "height": 312
        },
        "id": "kCdFwX-VfkkA",
        "outputId": "7395b246-9e8c-463d-e577-143c9cf2f8bd"
      },
      "execution_count": 35,
      "outputs": [
        {
          "output_type": "execute_result",
          "data": {
            "text/plain": [
              "<AxesSubplot:title={'center':'Runtime of structure initiation'}, xlabel='n', ylabel='time, seconds'>"
            ]
          },
          "metadata": {},
          "execution_count": 35
        },
        {
          "output_type": "display_data",
          "data": {
            "text/plain": [
              "<Figure size 432x288 with 1 Axes>"
            ],
            "image/png": "[encoded data removed]"
          },
          "metadata": {
            "needs_background": "light"
          }
        }
      ]
    },
    {
      "cell_type": "code",
      "execution_count": 36,
      "metadata": {
        "id": "hN0C5gb-eOT4"
      },
      "outputs": [],
      "source": [
        "llst3 = [ int(x) for x in list(np.random.normal(loc=80, scale=15, size=100)) if x < 101 and x>= 0]"
      ]
    },
    {
      "cell_type": "markdown",
      "metadata": {
        "id": "7XyStMxxmRML"
      },
      "source": [
        "###your conclusions:\n",
        "my conclusion would be - the best performing sort will be the one with the least calls to outer functions or sub functions , as we seen in part 1, the time for all these inside calls is growing rapidly for larger inputs.\n",
        "\n",
        "CONCLUSION - each sorting algo , or each algo should be \"fitted\" to its purpose, if we want to sort integers in range of 1-99 well use count sort. but for different inputs to sort , and larger inputs , we should use quicksort, and implement it with the \"least callbacks , and inner calls for functions\" strategy."
      ]
    },
    {
      "cell_type": "markdown",
      "metadata": {
        "id": "HDxxOyhSejmO"
      },
      "source": [
        "##e.\n",
        "create a list of lists, such that there are 10 lists of length up to 100. write a naive merge function that will take the maximal value, compairing iteratively  from all of the first elements. you **can't** use the built-in **max()** function. define your own, if you wish. here, $k$ represents the number of lists you have to merge"
      ]
    },
    {
      "cell_type": "code",
      "execution_count": 37,
      "metadata": {
        "id": "Q2c3IPakkusP"
      },
      "outputs": [],
      "source": [
        "#helper function\n",
        "def give_presorted_sublist(mysize=100):\n",
        "  lst1 = [ int(x) for x in list(np.random.normal(loc=80, scale=15, size=mysize)) if x < 101 and x>= 0]\n",
        "  lst1.sort()\n",
        "  return lst1\n",
        "\n",
        "\n"
      ]
    },
    {
      "cell_type": "code",
      "execution_count": 38,
      "metadata": {
        "colab": {
          "base_uri": "https://localhost:8080/"
        },
        "id": "ZCQFiVdPpClR",
        "outputId": "f733f72b-5490-4962-979b-aeb8b9c4e20b"
      },
      "outputs": [
        {
          "output_type": "stream",
          "name": "stdout",
          "text": [
            "[53, 56, 57, 58, 58, 59, 60, 61, 62, 62, 62, 62, 62, 63, 63, 64, 64, 66, 66, 67, 68, 69, 70, 72, 72, 73, 73, 74, 75, 76, 76, 77, 77, 77, 77, 78, 78, 78, 79, 79, 79, 79, 79, 80, 80, 81, 81, 81, 81, 81, 82, 82, 83, 83, 83, 83, 84, 84, 84, 85, 86, 87, 88, 88, 88, 88, 88, 88, 89, 90, 90, 90, 90, 90, 91, 91, 92, 92, 94, 94, 94, 96, 97, 98, 98, 98, 99]\n"
          ]
        }
      ],
      "source": [
        "print([x for x in give_presorted_sublist()])"
      ]
    },
    {
      "cell_type": "code",
      "execution_count": 39,
      "metadata": {
        "id": "jS5qSLYupBod"
      },
      "outputs": [],
      "source": [
        "#helper function\n",
        "def prep_lst_of_lsts(n=100,k=10):\n",
        "  return [give_presorted_sublist(n) for i in range(k)]\n",
        "\n",
        "\n"
      ]
    },
    {
      "cell_type": "code",
      "execution_count": 40,
      "metadata": {
        "colab": {
          "base_uri": "https://localhost:8080/"
        },
        "id": "GMAdOBEUk63R",
        "outputId": "93d024ee-ea34-44bc-d183-666c2b9bb201"
      },
      "outputs": [
        {
          "output_type": "execute_result",
          "data": {
            "text/plain": [
              "[[55, 58, 70, 77, 77, 78, 80, 82, 84, 97],\n",
              " [63, 65, 68, 74, 75, 82, 85, 94, 98],\n",
              " [55, 62, 63, 68, 71, 75, 81, 85]]"
            ]
          },
          "metadata": {},
          "execution_count": 40
        }
      ],
      "source": [
        "prep_lst_of_lsts(10,3)"
      ]
    },
    {
      "cell_type": "markdown",
      "metadata": {
        "id": "LL1_UUlasxAb"
      },
      "source": [
        "Your code goes here:"
      ]
    },
    {
      "cell_type": "code",
      "execution_count": 41,
      "metadata": {
        "id": "5mBfu4bngS_Z"
      },
      "outputs": [],
      "source": [
        "# i will loop throught all the lstoflsts[0][k]\n",
        "#find the smallest , append to my solution and continue untill \n",
        "# no more values.\n",
        "\n",
        "\n",
        "def naive_merge(lst_of_lsts):\n",
        "  k = len(lst_of_lsts)\n",
        "  sortedlst = []\n",
        "  changemade = 1\n",
        "  while (changemade != 0):\n",
        "    #print(lst_of_lsts)\n",
        "    changemade = 0\n",
        "    smallest = 1000;\n",
        "    smallIndx = 0\n",
        "    for i in range(k):\n",
        "       \n",
        "       if (len(lst_of_lsts[i])!=0):\n",
        "         if (lst_of_lsts[i][0]<=smallest):\n",
        "           smallest = lst_of_lsts[i][0]\n",
        "           smallIndx = i\n",
        "           changemade = 1\n",
        "    if changemade == 1:       \n",
        "      sortedlst.append(lst_of_lsts[smallIndx][0])\n",
        "      lst_of_lsts[smallIndx] = lst_of_lsts[smallIndx][1:]       \n",
        "  return sortedlst\n"
      ]
    },
    {
      "cell_type": "code",
      "execution_count": 42,
      "metadata": {
        "id": "-dfjo36Yg9hU",
        "colab": {
          "base_uri": "https://localhost:8080/"
        },
        "outputId": "c843ce66-b37f-42a9-b325-218778e83f95"
      },
      "outputs": [
        {
          "output_type": "execute_result",
          "data": {
            "text/plain": [
              "[15, 42, 45, 50, 57, 70, 82, 90, 99, 100]"
            ]
          },
          "metadata": {},
          "execution_count": 42
        }
      ],
      "source": [
        "naive_merge([[15,42],[99,100],[45,57,82],[50,70,90]]) #[15,42,45,50,57,70,82,90,99,100]"
      ]
    },
    {
      "cell_type": "markdown",
      "metadata": {
        "id": "adpnS5Rwg78z"
      },
      "source": [
        "## f. \n",
        "write a merge algorithm by [devide-and-conquer](https://en.wikipedia.org/wiki/Divide-and-conquer_algorithm) approach: merge each two sublist, recursively.\n",
        "\n"
      ]
    },
    {
      "cell_type": "code",
      "execution_count": 43,
      "metadata": {
        "id": "JWzNiIktiRg4"
      },
      "outputs": [],
      "source": [
        "def merge_two(lst1,lst2):\n",
        "  merged = []\n",
        " # print(merged)\n",
        "\n",
        "  if (lst1 == None and lst2 == None):\n",
        "    return merged\n",
        "  else:\n",
        "    if (lst1 == None):\n",
        "      return merged+(lst2)\n",
        "    else:\n",
        "      if (lst2 == None):\n",
        "        return merged+(lst1)\n",
        "      else:\n",
        "        if (len(lst1)==0):\n",
        "          return merged+(lst2)\n",
        "        else:\n",
        "          if (len(lst2)==0):\n",
        "            return merged+(lst1)\n",
        "          else:  \n",
        "           # print(\"were else\")\n",
        "           # print(merged)\n",
        "            if (lst1[0]==lst2[0]):\n",
        "              merged.append(lst1[0])\n",
        "              merged.append(lst2[0])\n",
        "              return merged+(merge_two(lst1[1:],lst2[1:]))\n",
        "            else:\n",
        "              if (lst1[0]<lst2[0]):\n",
        "                merged.append(lst1[0])\n",
        "                return merged + (merge_two(lst1[1:],lst2))\n",
        "              else:\n",
        "                merged.append(lst2[0])\n",
        "                return merged +(merge_two(lst1,lst2[1:]))\n",
        "   \n",
        "  \n",
        "\n",
        "  \n",
        "\n",
        "\n",
        "\n",
        "\n",
        "def dnc_merge(lst_of_lsts):\n",
        "  k = len(lst_of_lsts)\n",
        "  if (k<=1):\n",
        "    return lst_of_lsts[0]\n",
        "  else: #we have more then 2 lists\n",
        "    lst_of_lsts.append(merge_two(lst_of_lsts.pop(),lst_of_lsts.pop()))\n",
        "  return dnc_merge(lst_of_lsts)  \n",
        "       "
      ]
    },
    {
      "cell_type": "code",
      "execution_count": 44,
      "metadata": {
        "id": "HLMZsVQaiYe1",
        "colab": {
          "base_uri": "https://localhost:8080/"
        },
        "outputId": "7cad56de-bf40-489c-d032-9aab0f725cf9"
      },
      "outputs": [
        {
          "output_type": "execute_result",
          "data": {
            "text/plain": [
              "[15, 42, 45, 50, 57, 70, 82, 90, 99, 100]"
            ]
          },
          "metadata": {},
          "execution_count": 44
        }
      ],
      "source": [
        "dnc_merge([[15,42],[99,100],[45,57,82],[50,70,90]]) #[15,42,45,50,57,70,82,90,99,100]"
      ]
    },
    {
      "cell_type": "code",
      "source": [
        "import sys\n",
        "sys.setrecursionlimit(1150000)"
      ],
      "metadata": {
        "id": "6E3Izl0Mk8FF"
      },
      "execution_count": 45,
      "outputs": []
    },
    {
      "cell_type": "code",
      "execution_count": 46,
      "metadata": {
        "id": "AuZB_1gCis0z"
      },
      "outputs": [],
      "source": [
        "t4=[]\n",
        "t5=[]\n",
        "\n",
        "for k in range(1,4): \n",
        "  #print(k)\n",
        "  \n",
        "    lst7 = prep_lst_of_lsts(pow(10,k),10)\n",
        "    #print(lst1)\n",
        "    lst8 = lst7.copy()\n",
        "    lst9 = lst7.copy()\n",
        "    \n",
        "    t4.append(timeit.timeit( lambda: naive_merge(lst8) ,number=10))\n",
        "    t5.append(timeit.timeit( lambda: dnc_merge(lst9), number=10))\n",
        "\n",
        "\n"
      ]
    },
    {
      "cell_type": "code",
      "source": [
        "sizes = flat_to_array([[pow(10,i)]*1 for i in range(1,4)]*2)\n",
        "experiments = flat_to_array([['naive_merge'] * 3 * 1 + ['dnc_merge'] * 3 * 1 ])\n",
        "vals = np.asarray(t4 + t5  )"
      ],
      "metadata": {
        "id": "wbGlva1BkoDd"
      },
      "execution_count": 47,
      "outputs": []
    },
    {
      "cell_type": "code",
      "source": [
        "print(sizes)"
      ],
      "metadata": {
        "colab": {
          "base_uri": "https://localhost:8080/"
        },
        "id": "lhXpeIG4qUHG",
        "outputId": "957c9268-734a-4fe4-a2e4-0a79e7a66d13"
      },
      "execution_count": 48,
      "outputs": [
        {
          "output_type": "stream",
          "name": "stdout",
          "text": [
            "[  10  100 1000   10  100 1000]\n"
          ]
        }
      ]
    },
    {
      "cell_type": "code",
      "source": [
        "print(experiments)"
      ],
      "metadata": {
        "colab": {
          "base_uri": "https://localhost:8080/"
        },
        "id": "XYtNkK8pqWrw",
        "outputId": "b7a95f56-7191-4abf-d3e4-91af5c96118e"
      },
      "execution_count": 49,
      "outputs": [
        {
          "output_type": "stream",
          "name": "stdout",
          "text": [
            "['naive_merge' 'naive_merge' 'naive_merge' 'dnc_merge' 'dnc_merge'\n",
            " 'dnc_merge']\n"
          ]
        }
      ]
    },
    {
      "cell_type": "code",
      "source": [
        "lineplt = sns.lineplot(x=sizes, y=vals, hue=experiments)\n",
        "lineplt.set(title = 'merge comparison runtime',xlabel='n', ylabel='time, seconds')\n",
        "\n",
        "sns.scatterplot(x=sizes, y=vals, hue=experiments)\n",
        "\n",
        "\n"
      ],
      "metadata": {
        "colab": {
          "base_uri": "https://localhost:8080/",
          "height": 312
        },
        "id": "Wq-jq0tGnEWF",
        "outputId": "23d21952-c1e1-4c32-d28e-7ef46a51e3eb"
      },
      "execution_count": 50,
      "outputs": [
        {
          "output_type": "execute_result",
          "data": {
            "text/plain": [
              "<AxesSubplot:title={'center':'Runtime of structure initiation'}, xlabel='n', ylabel='time, seconds'>"
            ]
          },
          "metadata": {},
          "execution_count": 50
        },
        {
          "output_type": "display_data",
          "data": {
            "text/plain": [
              "<Figure size 432x288 with 1 Axes>"
            ],
            "image/png": "[encoded data removed]"
          },
          "metadata": {
            "needs_background": "light"
          }
        }
      ]
    },
    {
      "cell_type": "markdown",
      "metadata": {
        "id": "2oWaf2iwmfcj"
      },
      "source": [
        "##g.\n",
        " compare the runtime of the two approaches, while the total number $N=\\Sigma n1,n2...,n_k$ goes up to $10^5$ and $k=10$ is fixed. \n",
        "\n",
        " Plot and make conclusions"
      ]
    },
    {
      "cell_type": "markdown",
      "source": [
        "Conclusion:\n",
        "  as we can see , the divide and conquer algo works much slower at bigger inputs , i think that this is because all the callbacks , which each takes t(time) and is multiplied each recursion.\n",
        "  therfore , the naive merge is faster ."
      ],
      "metadata": {
        "id": "PYacldceqhHn"
      }
    },
    {
      "cell_type": "code",
      "execution_count": 50,
      "metadata": {
        "id": "1Eq7Hj4hoyqf"
      },
      "outputs": [],
      "source": []
    },
    {
      "cell_type": "markdown",
      "metadata": {
        "id": "PwkSEG4xo-s_"
      },
      "source": [
        "#h.\n",
        "write a helper function that calls the best sort solution from the presorting step, optimized for $k>log(N), N>>100$\n",
        "\n",
        "\n"
      ]
    },
    {
      "cell_type": "code",
      "execution_count": 55,
      "metadata": {
        "id": "jsrPP-ljtyeF"
      },
      "outputs": [],
      "source": [
        "#helper function\n",
        "def give_presorted_sublist_optimal(mysize=100):\n",
        "  lst1 = [ int(x) for x in list(np.random.normal(loc=80, scale=15, size=mysize)) if x < 101 and x>= 0]\n",
        "  count_sort(lst1)\n",
        "  return lst1"
      ]
    },
    {
      "cell_type": "code",
      "source": [
        "lill = give_presorted_sublist_optimal(100)\n",
        "print(lill)"
      ],
      "metadata": {
        "colab": {
          "base_uri": "https://localhost:8080/"
        },
        "id": "06RT0LZgs_F7",
        "outputId": "5cc2e283-a3a5-45fe-aee7-1088449ef0b3"
      },
      "execution_count": 58,
      "outputs": [
        {
          "output_type": "stream",
          "name": "stdout",
          "text": [
            "[52, 54, 54, 57, 57, 58, 59, 61, 61, 62, 62, 63, 65, 65, 66, 67, 67, 68, 68, 69, 70, 70, 71, 73, 74, 74, 74, 75, 75, 75, 75, 75, 76, 76, 77, 77, 77, 77, 77, 77, 77, 77, 78, 79, 80, 80, 80, 80, 81, 82, 82, 83, 83, 83, 83, 84, 84, 84, 85, 85, 85, 86, 86, 86, 87, 87, 88, 88, 88, 88, 88, 88, 88, 88, 88, 89, 89, 89, 90, 90, 91, 91, 92, 92, 92, 94, 94, 96, 97, 99, 100]\n"
          ]
        }
      ]
    },
    {
      "cell_type": "markdown",
      "metadata": {
        "id": "_euGPdSUuDxE"
      },
      "source": [
        "use this function, combined with the merge algorithm of your choice.  Show the prformance of your best solution for differnt $N$ (up to at least 10^5), 3 different $k$'s (be sure to take values smaller and larger than $log(N)$ to be tested)\n",
        "\n",
        "best solution will gain 10 poits bonus. You may use any data structure form any library that was covered at the lessons, but the sorting must be your own."
      ]
    },
    {
      "cell_type": "code",
      "source": [
        "def my_try(listoflists):\n",
        "  for i in range(len(listoflists)):\n",
        "    count_sort(listoflists[i])\n",
        "  return naive_merge(listoflists)  "
      ],
      "metadata": {
        "id": "uvJz3QAVtYvF"
      },
      "execution_count": 59,
      "outputs": []
    },
    {
      "cell_type": "code",
      "source": [
        "t6=[]\n",
        "\n",
        "for i in range(9):\n",
        "  for k in range(1,4): \n",
        "  #print(k)\n",
        "  \n",
        "    lst10 = prep_lst_of_lsts(pow(10,k),k)\n",
        "    #print(lst1)\n",
        "    lst11 = lst7.copy()\n",
        "    \n",
        "    \n",
        "    t6.append(timeit.timeit( lambda:my_try(lst11) ,number=10))\n",
        "    \n",
        "\n",
        "\n"
      ],
      "metadata": {
        "id": "Fs9XJNHCruTo"
      },
      "execution_count": 75,
      "outputs": []
    },
    {
      "cell_type": "code",
      "source": [
        "print(experiments)\n",
        "print(sizes)\n",
        "print(vals)"
      ],
      "metadata": {
        "colab": {
          "base_uri": "https://localhost:8080/"
        },
        "id": "sI3juiFow79R",
        "outputId": "6b7eb23e-191b-46fb-c193-8f876fd116f0"
      },
      "execution_count": 73,
      "outputs": [
        {
          "output_type": "stream",
          "name": "stdout",
          "text": [
            "['myBest' 'myBest' 'myBest' 'myBest' 'myBest' 'myBest' 'myBest' 'myBest'\n",
            " 'myBest' 'myBest' 'myBest' 'myBest' 'myBest' 'myBest' 'myBest' 'myBest'\n",
            " 'myBest' 'myBest' 'myBest' 'myBest' 'myBest' 'myBest' 'myBest' 'myBest'\n",
            " 'myBest' 'myBest' 'myBest' 'myBest' 'myBest' 'myBest']\n",
            "[  10  100 1000   10  100 1000   10  100 1000   10  100 1000   10  100\n",
            " 1000   10  100 1000   10  100 1000   10  100 1000   10  100 1000   10\n",
            "  100 1000]\n",
            "[0.18714324 0.15232959 0.07651991 0.07748665 0.08628162 0.06600083\n",
            " 0.05649464 0.043881   0.047869   0.04577573 0.04272868 0.04625812\n",
            " 0.04905561 0.04291668 0.04428044 0.0418414  0.05034264 0.04209692\n",
            " 0.04475059 0.04723053 0.04148201 0.04261054 0.04453791 0.04377656\n",
            " 0.04301472 0.05163999 0.04313519]\n"
          ]
        }
      ]
    },
    {
      "cell_type": "code",
      "source": [
        "sizes = flat_to_array([[pow(10,i)]*1 for i in range(1,4)]*9)\n",
        "experiments = flat_to_array([['myBest'] * 3 * 9 ])\n",
        "vals = np.asarray(t6)\n",
        "\n",
        "lineplt = sns.lineplot(x=sizes, y=vals, hue=experiments)\n",
        "lineplt.set(title = 'my sort and merge runtime',xlabel='n', ylabel='time, seconds')\n",
        "\n",
        "sns.scatterplot(x=sizes, y=vals, hue=experiments)\n"
      ],
      "metadata": {
        "colab": {
          "base_uri": "https://localhost:8080/",
          "height": 312
        },
        "id": "QHGw-FaOuRQS",
        "outputId": "cdf6c160-2378-4cd8-e5c1-1fcfa7cdf993"
      },
      "execution_count": 76,
      "outputs": [
        {
          "output_type": "execute_result",
          "data": {
            "text/plain": [
              "<AxesSubplot:title={'center':'my sort and merge runtime'}, xlabel='n', ylabel='time, seconds'>"
            ]
          },
          "metadata": {},
          "execution_count": 76
        },
        {
          "output_type": "display_data",
          "data": {
            "text/plain": [
              "<Figure size 432x288 with 1 Axes>"
            ],
            "image/png": "[encoded data removed]"
          },
          "metadata": {
            "needs_background": "light"
          }
        }
      ]
    },
    {
      "cell_type": "markdown",
      "metadata": {
        "id": "XbcVbQUIvOmY"
      },
      "source": [
        "#Q2.\n",
        "a. Using min/max heap/s, implement a data structure that serves as a med-heap, which always returns the median element at $O(1)$ and can be updated (while removing the optimal element or while adding a new element) **at** $O(\\log n)$"
      ]
    },
    {
      "cell_type": "code",
      "execution_count": 51,
      "metadata": {
        "id": "Dfu2S5W3wo2v"
      },
      "outputs": [],
      "source": [
        "#possible implementation of a heap functions:\n",
        "\"\"\"\n",
        "Min Heap Implementation in Python\n",
        "\"\"\"\n",
        "class MinHeap:\n",
        "    def __init__(self):\n",
        "        \"\"\"\n",
        "        On this implementation the heap list is initialized with a value\n",
        "        \"\"\"\n",
        "        self.heap_list = [0]\n",
        "        self.current_size = 0\n",
        " \n",
        "    def sift_up(self, i):\n",
        "        \"\"\"\n",
        "        Moves the value up in the tree to maintain the heap property.\n",
        "        \"\"\"\n",
        "        # While the element is not the root or the left element\n",
        "        Stop = False\n",
        "        while (i // 2 > 0) and Stop == False:\n",
        "            # If the element is less than its parent swap the elements\n",
        "            if self.heap_list[i] < self.heap_list[i // 2]:\n",
        "                self.heap_list[i], self.heap_list[i // 2] = self.heap_list[i // 2], self.heap_list[i]\n",
        "            else:\n",
        "                Stop = True\n",
        "            # Move the index to the parent to keep the properties\n",
        "            i = i // 2\n",
        " \n",
        "    def insert(self, k):\n",
        "        \"\"\"\n",
        "        Inserts a value into the heap\n",
        "        \"\"\"\n",
        "        # Append the element to the heap\n",
        "        self.heap_list.append(k)\n",
        "        # Increase the size of the heap.\n",
        "        self.current_size += 1\n",
        "        # Move the element to its position from bottom to the top\n",
        "        self.sift_up(self.current_size)\n",
        " \n",
        "    def sift_down(self, i):\n",
        "        # if the current node has at least one child\n",
        "        while (i * 2) <= self.current_size:\n",
        "            # Get the index of the min child of the current node\n",
        "            mc = self.min_child(i)\n",
        "            # Swap the values of the current element is greater than its min child\n",
        "            if self.heap_list[i] > self.heap_list[mc]:\n",
        "                self.heap_list[i], self.heap_list[mc] = self.heap_list[mc], self.heap_list[i]\n",
        "            i = mc\n",
        " \n",
        "    def min_child(self, i):\n",
        "        # If the current node has only one child, return the index of the unique child\n",
        "        if (i * 2)+1 > self.current_size:\n",
        "            return i * 2\n",
        "        else:\n",
        "            # Herein the current node has two children\n",
        "            # Return the index of the min child according to their values\n",
        "            if self.heap_list[i*2] < self.heap_list[(i*2)+1]:\n",
        "                return i * 2\n",
        "            else:\n",
        "                return (i * 2) + 1\n",
        " \n",
        "    def delete_min(self):\n",
        "        # Equal to 1 since the heap list was initialized with a value\n",
        "        if len(self.heap_list) == 1:\n",
        "            return 'Empty heap'\n",
        " \n",
        "        # Get root of the heap (The min value of the heap)\n",
        "        root = self.heap_list[1]\n",
        " \n",
        "        # Move the last value of the heap to the root\n",
        "        self.heap_list[1] = self.heap_list[self.current_size]\n",
        " \n",
        "        # Pop the last value since a copy was set on the root\n",
        "        *self.heap_list, _ = self.heap_list\n",
        " \n",
        "        # Decrease the size of the heap\n",
        "        self.current_size -= 1\n",
        " \n",
        "        # Move down the root (value at index 1) to keep the heap property\n",
        "        self.sift_down(1)\n",
        " \n",
        "        # Return the min value of the heap\n",
        "        return root\n",
        "    \n",
        "    def peek(self):\n",
        "        if len(self.heap_list) == 1:\n",
        "            return 'Empty heap'\n",
        " \n",
        "        # Get root of the heap (The min value of the heap)\n",
        "        root = self.heap_list[1]\n",
        "        return int(root)\n",
        "\n",
        "\n",
        "\n",
        " "
      ]
    },
    {
      "cell_type": "code",
      "execution_count": 41,
      "metadata": {
        "colab": {
          "base_uri": "https://localhost:8080/"
        },
        "id": "sCEjDTJQuAEd",
        "outputId": "4b2381f2-e024-4467-f875-fbd26da261fe"
      },
      "outputs": [
        {
          "output_type": "stream",
          "name": "stdout",
          "text": [
            "<__main__.MinHeap object at 0x7f161e7a4430>\n",
            "<__main__.MinHeap object at 0x7f161e7a4430>\n",
            "<__main__.MinHeap object at 0x7f161e7a4430>\n",
            "5\n"
          ]
        }
      ],
      "source": [
        "\"\"\"\n",
        "Driver program\n",
        "\"\"\"\n",
        "# Same tree as above example.\n",
        "my_heap = MinHeap()\n",
        "print(my_heap)\n",
        "my_heap.insert(5)\n",
        "print(my_heap)\n",
        "my_heap.insert(6)\n",
        "print(my_heap)\n",
        "my_heap.insert(7)\n",
        "my_heap.insert(9)\n",
        "my_heap.insert(13)\n",
        "my_heap.insert(11)\n",
        "my_heap.insert(10)\n",
        "\n",
        "print(my_heap.delete_min()) # removing min node i.e 5 "
      ]
    },
    {
      "cell_type": "markdown",
      "metadata": {
        "id": "UUASaQ4jyxgd"
      },
      "source": [
        "you may adopt any of the heap implementations, or use your own. your goal is, by calling the underlying one or more heaps - implement the med-heap as a class "
      ]
    },
    {
      "cell_type": "code",
      "source": [
        "class MedHeap:\n",
        "    def __init__(self):\n",
        "      self.bigger = MinHeap()\n",
        "      self.smaller = MinHeap()\n",
        "      self.bigSize = 0\n",
        "      self.smalSize = 0\n",
        "\n",
        "    def insert(self,k):\n",
        "      #case empty\n",
        "      if (self.bigSize == 0 and self.smalSize == 0):\n",
        "        self.bigger.insert(int(k))\n",
        "        self.bigSize+=1\n",
        "      else:\n",
        "        #not empty\n",
        "        if (self.bigSize - self.smalSize ==0):\n",
        "          #we are balanced and want to insert another\n",
        "          if (k<= self.bigger.peek()):\n",
        "            self.smaller.insert(int(-1*k))\n",
        "            self.smalSize+=1\n",
        "            #now were not balanced \n",
        "            self.bigger.insert(int(-1* self.smaller.delete_min()))\n",
        "            self.bigSize+=1\n",
        "            self.smalSize-=1\n",
        "          else:\n",
        "            self.bigger.insert(int(k))\n",
        "            self.bigSize+=1\n",
        "        else:\n",
        "          #not balanced\n",
        "          if (k<= self.bigger.peek()):\n",
        "            self.smaller.insert(int(-1* k))\n",
        "            self.smalSize+=1\n",
        "          else:\n",
        "            self.bigger.insert(int(k))\n",
        "            self.bigSize+=1\n",
        "            self.smaller.insert(int(-1* self.bigger.delete_min()))\n",
        "            self.bigSize-=1\n",
        "            self.smalSize+=1\n",
        "    \n",
        "    def delete_med(self):\n",
        "      if (self.bigSize ==0 and self.smalSize ==0):\n",
        "        return\n",
        "      else:\n",
        "        if (self.bigSize - self.smalSize ==0):\n",
        "          #were balanced so auto take from bigger and rebalance\n",
        "           \n",
        "          self.bigger.insert(int(-1* self.smaller.delete_min()))\n",
        "          self.bigSize+=1\n",
        "          self.smalSize-=1\n",
        "          self.bigSize-=1\n",
        "          return self.bigger.delete_min()\n",
        "          #and were +1 for the biggs\n",
        "        else:\n",
        "          #were unbalanced\n",
        "          #print(self.bigger.current_size)\n",
        "          self.bigSize-=1\n",
        "          return self.bigger.delete_min()\n",
        "\n",
        "\n",
        "\n",
        "\n",
        "\n",
        "\n"
      ],
      "metadata": {
        "id": "VY0xjBDefvKA"
      },
      "execution_count": 70,
      "outputs": []
    },
    {
      "cell_type": "code",
      "source": [
        "my_heap = MedHeap()\n",
        "print(my_heap.bigger.current_size)\n",
        "print(my_heap.smaller.current_size)\n",
        "my_heap.insert(6)\n",
        "print(my_heap.bigger.current_size)\n",
        "print(my_heap.smaller.current_size)\n",
        "my_heap.insert(7)\n",
        "print(my_heap.bigger.current_size)\n",
        "print(my_heap.smaller.current_size)\n",
        "my_heap.insert(9)\n",
        "print(my_heap.bigger.current_size)\n",
        "print(my_heap.smaller.current_size)\n",
        "print(my_heap.delete_med())\n",
        "print(my_heap.bigger.current_size)\n",
        "print(my_heap.smaller.current_size)"
      ],
      "metadata": {
        "colab": {
          "base_uri": "https://localhost:8080/"
        },
        "id": "L-RMJQgmorz-",
        "outputId": "9be03ce6-b004-4f2c-98ad-1db663e30599"
      },
      "execution_count": 71,
      "outputs": [
        {
          "output_type": "stream",
          "name": "stdout",
          "text": [
            "0\n",
            "0\n",
            "1\n",
            "0\n",
            "1\n",
            "1\n",
            "2\n",
            "1\n",
            "7\n",
            "1\n",
            "1\n"
          ]
        }
      ]
    },
    {
      "cell_type": "code",
      "execution_count": 72,
      "metadata": {
        "colab": {
          "base_uri": "https://localhost:8080/"
        },
        "id": "apGKf5HszSsv",
        "outputId": "5e1798e7-f9e7-4e57-f577-e46b7846def6"
      },
      "outputs": [
        {
          "output_type": "stream",
          "name": "stdout",
          "text": [
            "9\n"
          ]
        }
      ],
      "source": [
        "my_heap = MedHeap()\n",
        "my_heap.insert(5)\n",
        "my_heap.insert(6)\n",
        "my_heap.insert(7)\n",
        "my_heap.insert(9)\n",
        "my_heap.insert(13)\n",
        "my_heap.insert(11)\n",
        "my_heap.insert(10)\n",
        "print(my_heap.delete_med())"
      ]
    },
    {
      "cell_type": "markdown",
      "metadata": {
        "id": "UEfO39TH3d4K"
      },
      "source": [
        "##b.\n",
        "use a heap/s from the **heapq** package.\n",
        "check if this improves your performance. check a fair range of $N$'s to display"
      ]
    },
    {
      "cell_type": "code",
      "execution_count": 73,
      "metadata": {
        "colab": {
          "base_uri": "https://localhost:8080/"
        },
        "id": "Btnv8A5uyFF5",
        "outputId": "1186257d-49c1-4c88-9efa-7a3da7970694"
      },
      "outputs": [
        {
          "output_type": "stream",
          "name": "stdout",
          "text": [
            "Head value of heap : 10\n",
            "The heap elements : \n",
            "10 30 20 400 \n",
            "\n"
          ]
        }
      ],
      "source": [
        "# Python3 program to demonstrate working of heapq\n",
        "\n",
        "from heapq import heapify, heappush, heappop\n",
        "\n",
        "# Creating empty heap\n",
        "heap = []\n",
        "heapify(heap)\n",
        "\n",
        "# Adding items to the heap using heappush function\n",
        "heappush(heap, 10)\n",
        "heappush(heap, 30)\n",
        "heappush(heap, 20)\n",
        "heappush(heap, 400)\n",
        "\n",
        "# printing the value of minimum element\n",
        "print(\"Head value of heap : \"+str(heap[0]))\n",
        "\n",
        "# printing the elements of the heap\n",
        "print(\"The heap elements : \")\n",
        "for i in heap:\n",
        "\tprint(i, end = ' ')\n",
        "print(\"\\n\")\n",
        "\n",
        "\n"
      ]
    },
    {
      "cell_type": "code",
      "execution_count": 74,
      "metadata": {
        "colab": {
          "base_uri": "https://localhost:8080/"
        },
        "id": "hyk7QbOX19OM",
        "outputId": "1da5c561-cc0b-456c-c710-cf40cf265680"
      },
      "outputs": [
        {
          "output_type": "stream",
          "name": "stdout",
          "text": [
            "The heap elements : \n",
            "20 30 400 "
          ]
        }
      ],
      "source": [
        "element = heappop(heap)\n",
        "\n",
        "# printing the elements of the heap\n",
        "print(\"The heap elements : \")\n",
        "for i in heap:\n",
        "\tprint(i, end = ' ')"
      ]
    },
    {
      "cell_type": "code",
      "source": [
        "class MedHeapFromHeapq:\n",
        "    def __init__(self):\n",
        "      self.bigger = []\n",
        "      self.smaller = []\n",
        "      self.bigSize = 0\n",
        "      self.smalSize = 0\n",
        "\n",
        "    def insert(self,k):\n",
        "      #case empty\n",
        "      if (self.bigSize == 0 and self.smalSize == 0):\n",
        "        heappush(self.bigger, int(k))\n",
        "        self.bigSize+=1\n",
        "      else:\n",
        "        #not empty\n",
        "        if (self.bigSize - self.smalSize ==0):\n",
        "          #we are balanced and want to insert another\n",
        "          if (k<= int(self.bigger[0])):\n",
        "            heappush(self.smaller ,(-1*int(k)))\n",
        "            self.smalSize+=1\n",
        "            #now were not balanced \n",
        "            heappush(self.bigger ,(-1*int( (heappop(self.smaller)))))\n",
        "            self.bigSize+=1\n",
        "            self.smalSize-=1\n",
        "          else:\n",
        "            heappush(self.bigger ,(int(k)))\n",
        "            self.bigSize+=1\n",
        "        else:\n",
        "          #not balanced\n",
        "          if (k<= int(self.bigger[0])):\n",
        "            heappush(self.smaller,(-1*int( k)))\n",
        "            self.smalSize+=1\n",
        "          else:\n",
        "            heappush(self.bigger, (int(k)))\n",
        "            self.bigSize+=1\n",
        "            heappush(self.smaller, (-1*int( (heappop(self.bigger)))))\n",
        "            self.bigSize-=1\n",
        "            self.smalSize+=1\n",
        "    \n",
        "    def delete_med(self):\n",
        "      if (self.bigSize ==0 and self.smalSize ==0):\n",
        "        return\n",
        "      else:\n",
        "        if (self.bigSize - self.smalSize ==0):\n",
        "          #were balanced so auto take from bigger and rebalance\n",
        "           \n",
        "          heappush(self.bigger ,(-1*int( heappop(self.smaller))))\n",
        "          self.bigSize+=1\n",
        "          self.smalSize-=1\n",
        "          self.bigSize-=1\n",
        "          return heappop(self.bigger)\n",
        "          #and were +1 for the biggs\n",
        "        else:\n",
        "          #were unbalanced\n",
        "          #print(self.bigger.current_size)\n",
        "          self.bigSize-=1\n",
        "          return heappop(self.bigger)\n",
        "\n"
      ],
      "metadata": {
        "id": "1VftoWrpscJH"
      },
      "execution_count": 114,
      "outputs": []
    },
    {
      "cell_type": "code",
      "source": [
        "my_heap = MedHeapFromHeapq()\n",
        "my_heap.insert(5)\n",
        "my_heap.insert(6)\n",
        "my_heap.insert(7)\n",
        "my_heap.insert(9)\n",
        "my_heap.insert(13)\n",
        "my_heap.insert(11)\n",
        "my_heap.insert(10)\n",
        "print(my_heap.delete_med())"
      ],
      "metadata": {
        "colab": {
          "base_uri": "https://localhost:8080/"
        },
        "id": "7Bx_asm5uu6M",
        "outputId": "03890461-3d69-4248-a96f-ec18339ff8e7"
      },
      "execution_count": 110,
      "outputs": [
        {
          "output_type": "stream",
          "name": "stdout",
          "text": [
            "9\n"
          ]
        }
      ]
    },
    {
      "cell_type": "code",
      "source": [
        "def task1(lst ):\n",
        "  heap = MedHeapFromHeapq()\n",
        "  for i in lst:\n",
        "    heap.insert(int(i))\n",
        "  print(heap.delete_med()) \n",
        "  heap=[] "
      ],
      "metadata": {
        "id": "OooyRXFFwRIR"
      },
      "execution_count": 111,
      "outputs": []
    },
    {
      "cell_type": "code",
      "source": [
        "def task2(lst ):\n",
        "  heap = MedHeap()\n",
        "  for i in lst:\n",
        "    heap.insert(int(i))\n",
        "  print(heap.delete_med()) \n",
        "  heap=[] "
      ],
      "metadata": {
        "id": "JFfJui_F1_Vq"
      },
      "execution_count": 112,
      "outputs": []
    },
    {
      "cell_type": "code",
      "source": [
        "import numpy as np\n",
        "import timeit\n",
        "\n",
        "def flat_to_array(lst1):\n",
        "  return np.asarray([item for sublist in lst1 for item in sublist])\n",
        "#comparison for range of n's (10 ,100, 1000)\n",
        "my_med = MedHeap()\n",
        "my_hpq = MedHeapFromHeapq()\n",
        "tst1=[]\n",
        "tst2=[]\n",
        "n_sizes =[10,20,30,40,50,60,70,80,90,100 ]\n",
        "\n",
        "for i in n_sizes:\n",
        "  lst20 = [ int(x) for x in list(np.random.normal(loc=80, scale=15, size=10)) if x < 101 and x>= 0]\n",
        "  tst1=tst1+ timeit.repeat(lambda:task1(lst20),repeat =5 , number =10)\n",
        "  tst2=tst2+ timeit.repeat(lambda:task2(lst20),repeat =5, number =10)\n"
      ],
      "metadata": {
        "colab": {
          "base_uri": "https://localhost:8080/"
        },
        "id": "mFpZDwm1vOPA",
        "outputId": "13b65fe5-84b1-412f-eff1-3dac045102c1"
      },
      "execution_count": 164,
      "outputs": [
        {
          "output_type": "stream",
          "name": "stdout",
          "text": [
            "86\n",
            "86\n",
            "86\n",
            "86\n",
            "86\n",
            "86\n",
            "86\n",
            "86\n",
            "86\n",
            "86\n",
            "86\n",
            "86\n",
            "86\n",
            "86\n",
            "86\n",
            "86\n",
            "86\n",
            "86\n",
            "86\n",
            "86\n",
            "86\n",
            "86\n",
            "86\n",
            "86\n",
            "86\n",
            "86\n",
            "86\n",
            "86\n",
            "86\n",
            "86\n",
            "86\n",
            "86\n",
            "86\n",
            "86\n",
            "86\n",
            "86\n",
            "86\n",
            "86\n",
            "86\n",
            "86\n",
            "86\n",
            "86\n",
            "86\n",
            "86\n",
            "86\n",
            "86\n",
            "86\n",
            "86\n",
            "86\n",
            "86\n",
            "86\n",
            "86\n",
            "86\n",
            "86\n",
            "86\n",
            "86\n",
            "86\n",
            "86\n",
            "86\n",
            "86\n",
            "86\n",
            "86\n",
            "86\n",
            "86\n",
            "86\n",
            "86\n",
            "86\n",
            "86\n",
            "86\n",
            "86\n",
            "86\n",
            "86\n",
            "86\n",
            "86\n",
            "86\n",
            "86\n",
            "86\n",
            "86\n",
            "86\n",
            "86\n",
            "86\n",
            "86\n",
            "86\n",
            "86\n",
            "86\n",
            "86\n",
            "86\n",
            "86\n",
            "86\n",
            "86\n",
            "86\n",
            "86\n",
            "86\n",
            "86\n",
            "86\n",
            "86\n",
            "86\n",
            "86\n",
            "86\n",
            "86\n",
            "74\n",
            "74\n",
            "74\n",
            "74\n",
            "74\n",
            "74\n",
            "74\n",
            "74\n",
            "74\n",
            "74\n",
            "74\n",
            "74\n",
            "74\n",
            "74\n",
            "74\n",
            "74\n",
            "74\n",
            "74\n",
            "74\n",
            "74\n",
            "74\n",
            "74\n",
            "74\n",
            "74\n",
            "74\n",
            "74\n",
            "74\n",
            "74\n",
            "74\n",
            "74\n",
            "74\n",
            "74\n",
            "74\n",
            "74\n",
            "74\n",
            "74\n",
            "74\n",
            "74\n",
            "74\n",
            "74\n",
            "74\n",
            "74\n",
            "74\n",
            "74\n",
            "74\n",
            "74\n",
            "74\n",
            "74\n",
            "74\n",
            "74\n",
            "74\n",
            "74\n",
            "74\n",
            "74\n",
            "74\n",
            "74\n",
            "74\n",
            "74\n",
            "74\n",
            "74\n",
            "74\n",
            "74\n",
            "74\n",
            "74\n",
            "74\n",
            "74\n",
            "74\n",
            "74\n",
            "74\n",
            "74\n",
            "74\n",
            "74\n",
            "74\n",
            "74\n",
            "74\n",
            "74\n",
            "74\n",
            "74\n",
            "74\n",
            "74\n",
            "74\n",
            "74\n",
            "74\n",
            "74\n",
            "74\n",
            "74\n",
            "74\n",
            "74\n",
            "74\n",
            "74\n",
            "74\n",
            "74\n",
            "74\n",
            "74\n",
            "74\n",
            "74\n",
            "74\n",
            "74\n",
            "74\n",
            "74\n",
            "70\n",
            "70\n",
            "70\n",
            "70\n",
            "70\n",
            "70\n",
            "70\n",
            "70\n",
            "70\n",
            "70\n",
            "70\n",
            "70\n",
            "70\n",
            "70\n",
            "70\n",
            "70\n",
            "70\n",
            "70\n",
            "70\n",
            "70\n",
            "70\n",
            "70\n",
            "70\n",
            "70\n",
            "70\n",
            "70\n",
            "70\n",
            "70\n",
            "70\n",
            "70\n",
            "70\n",
            "70\n",
            "70\n",
            "70\n",
            "70\n",
            "70\n",
            "70\n",
            "70\n",
            "70\n",
            "70\n",
            "70\n",
            "70\n",
            "70\n",
            "70\n",
            "70\n",
            "70\n",
            "70\n",
            "70\n",
            "70\n",
            "70\n",
            "70\n",
            "70\n",
            "70\n",
            "70\n",
            "70\n",
            "70\n",
            "70\n",
            "70\n",
            "70\n",
            "70\n",
            "70\n",
            "70\n",
            "70\n",
            "70\n",
            "70\n",
            "70\n",
            "70\n",
            "70\n",
            "70\n",
            "70\n",
            "70\n",
            "70\n",
            "70\n",
            "70\n",
            "70\n",
            "70\n",
            "70\n",
            "70\n",
            "70\n",
            "70\n",
            "70\n",
            "70\n",
            "70\n",
            "70\n",
            "70\n",
            "70\n",
            "70\n",
            "70\n",
            "70\n",
            "70\n",
            "70\n",
            "70\n",
            "70\n",
            "70\n",
            "70\n",
            "70\n",
            "70\n",
            "70\n",
            "70\n",
            "70\n",
            "73\n",
            "73\n",
            "73\n",
            "73\n",
            "73\n",
            "73\n",
            "73\n",
            "73\n",
            "73\n",
            "73\n",
            "73\n",
            "73\n",
            "73\n",
            "73\n",
            "73\n",
            "73\n",
            "73\n",
            "73\n",
            "73\n",
            "73\n",
            "73\n",
            "73\n",
            "73\n",
            "73\n",
            "73\n",
            "73\n",
            "73\n",
            "73\n",
            "73\n",
            "73\n",
            "73\n",
            "73\n",
            "73\n",
            "73\n",
            "73\n",
            "73\n",
            "73\n",
            "73\n",
            "73\n",
            "73\n",
            "73\n",
            "73\n",
            "73\n",
            "73\n",
            "73\n",
            "73\n",
            "73\n",
            "73\n",
            "73\n",
            "73\n",
            "73\n",
            "73\n",
            "73\n",
            "73\n",
            "73\n",
            "73\n",
            "73\n",
            "73\n",
            "73\n",
            "73\n",
            "73\n",
            "73\n",
            "73\n",
            "73\n",
            "73\n",
            "73\n",
            "73\n",
            "73\n",
            "73\n",
            "73\n",
            "73\n",
            "73\n",
            "73\n",
            "73\n",
            "73\n",
            "73\n",
            "73\n",
            "73\n",
            "73\n",
            "73\n",
            "73\n",
            "73\n",
            "73\n",
            "73\n",
            "73\n",
            "73\n",
            "73\n",
            "73\n",
            "73\n",
            "73\n",
            "73\n",
            "73\n",
            "73\n",
            "73\n",
            "73\n",
            "73\n",
            "73\n",
            "73\n",
            "73\n",
            "73\n",
            "70\n",
            "70\n",
            "70\n",
            "70\n",
            "70\n",
            "70\n",
            "70\n",
            "70\n",
            "70\n",
            "70\n",
            "70\n",
            "70\n",
            "70\n",
            "70\n",
            "70\n",
            "70\n",
            "70\n",
            "70\n",
            "70\n",
            "70\n",
            "70\n",
            "70\n",
            "70\n",
            "70\n",
            "70\n",
            "70\n",
            "70\n",
            "70\n",
            "70\n",
            "70\n",
            "70\n",
            "70\n",
            "70\n",
            "70\n",
            "70\n",
            "70\n",
            "70\n",
            "70\n",
            "70\n",
            "70\n",
            "70\n",
            "70\n",
            "70\n",
            "70\n",
            "70\n",
            "70\n",
            "70\n",
            "70\n",
            "70\n",
            "70\n",
            "70\n",
            "70\n",
            "70\n",
            "70\n",
            "70\n",
            "70\n",
            "70\n",
            "70\n",
            "70\n",
            "70\n",
            "70\n",
            "70\n",
            "70\n",
            "70\n",
            "70\n",
            "70\n",
            "70\n",
            "70\n",
            "70\n",
            "70\n",
            "70\n",
            "70\n",
            "70\n",
            "70\n",
            "70\n",
            "70\n",
            "70\n",
            "70\n",
            "70\n",
            "70\n",
            "70\n",
            "70\n",
            "70\n",
            "70\n",
            "70\n",
            "70\n",
            "70\n",
            "70\n",
            "70\n",
            "70\n",
            "70\n",
            "70\n",
            "70\n",
            "70\n",
            "70\n",
            "70\n",
            "70\n",
            "70\n",
            "70\n",
            "70\n",
            "73\n",
            "73\n",
            "73\n",
            "73\n",
            "73\n",
            "73\n",
            "73\n",
            "73\n",
            "73\n",
            "73\n",
            "73\n",
            "73\n",
            "73\n",
            "73\n",
            "73\n",
            "73\n",
            "73\n",
            "73\n",
            "73\n",
            "73\n",
            "73\n",
            "73\n",
            "73\n",
            "73\n",
            "73\n",
            "73\n",
            "73\n",
            "73\n",
            "73\n",
            "73\n",
            "73\n",
            "73\n",
            "73\n",
            "73\n",
            "73\n",
            "73\n",
            "73\n",
            "73\n",
            "73\n",
            "73\n",
            "73\n",
            "73\n",
            "73\n",
            "73\n",
            "73\n",
            "73\n",
            "73\n",
            "73\n",
            "73\n",
            "73\n",
            "73\n",
            "73\n",
            "73\n",
            "73\n",
            "73\n",
            "73\n",
            "73\n",
            "73\n",
            "73\n",
            "73\n",
            "73\n",
            "73\n",
            "73\n",
            "73\n",
            "73\n",
            "73\n",
            "73\n",
            "73\n",
            "73\n",
            "73\n",
            "73\n",
            "73\n",
            "73\n",
            "73\n",
            "73\n",
            "73\n",
            "73\n",
            "73\n",
            "73\n",
            "73\n",
            "73\n",
            "73\n",
            "73\n",
            "73\n",
            "73\n",
            "73\n",
            "73\n",
            "73\n",
            "73\n",
            "73\n",
            "73\n",
            "73\n",
            "73\n",
            "73\n",
            "73\n",
            "73\n",
            "73\n",
            "73\n",
            "73\n",
            "73\n",
            "61\n",
            "61\n",
            "61\n",
            "61\n",
            "61\n",
            "61\n",
            "61\n",
            "61\n",
            "61\n",
            "61\n",
            "61\n",
            "61\n",
            "61\n",
            "61\n",
            "61\n",
            "61\n",
            "61\n",
            "61\n",
            "61\n",
            "61\n",
            "61\n",
            "61\n",
            "61\n",
            "61\n",
            "61\n",
            "61\n",
            "61\n",
            "61\n",
            "61\n",
            "61\n",
            "61\n",
            "61\n",
            "61\n",
            "61\n",
            "61\n",
            "61\n",
            "61\n",
            "61\n",
            "61\n",
            "61\n",
            "61\n",
            "61\n",
            "61\n",
            "61\n",
            "61\n",
            "61\n",
            "61\n",
            "61\n",
            "61\n",
            "61\n",
            "61\n",
            "61\n",
            "61\n",
            "61\n",
            "61\n",
            "61\n",
            "61\n",
            "61\n",
            "61\n",
            "61\n",
            "61\n",
            "61\n",
            "61\n",
            "61\n",
            "61\n",
            "61\n",
            "61\n",
            "61\n",
            "61\n",
            "61\n",
            "61\n",
            "61\n",
            "61\n",
            "61\n",
            "61\n",
            "61\n",
            "61\n",
            "61\n",
            "61\n",
            "61\n",
            "61\n",
            "61\n",
            "61\n",
            "61\n",
            "61\n",
            "61\n",
            "61\n",
            "61\n",
            "61\n",
            "61\n",
            "61\n",
            "61\n",
            "61\n",
            "61\n",
            "61\n",
            "61\n",
            "61\n",
            "61\n",
            "61\n",
            "61\n",
            "80\n",
            "80\n",
            "80\n",
            "80\n",
            "80\n",
            "80\n",
            "80\n",
            "80\n",
            "80\n",
            "80\n",
            "80\n",
            "80\n",
            "80\n",
            "80\n",
            "80\n",
            "80\n",
            "80\n",
            "80\n",
            "80\n",
            "80\n",
            "80\n",
            "80\n",
            "80\n",
            "80\n",
            "80\n",
            "80\n",
            "80\n",
            "80\n",
            "80\n",
            "80\n",
            "80\n",
            "80\n",
            "80\n",
            "80\n",
            "80\n",
            "80\n",
            "80\n",
            "80\n",
            "80\n",
            "80\n",
            "80\n",
            "80\n",
            "80\n",
            "80\n",
            "80\n",
            "80\n",
            "80\n",
            "80\n",
            "80\n",
            "80\n",
            "80\n",
            "80\n",
            "80\n",
            "80\n",
            "80\n",
            "80\n",
            "80\n",
            "80\n",
            "80\n",
            "80\n",
            "80\n",
            "80\n",
            "80\n",
            "80\n",
            "80\n",
            "80\n",
            "80\n",
            "80\n",
            "80\n",
            "80\n",
            "80\n",
            "80\n",
            "80\n",
            "80\n",
            "80\n",
            "80\n",
            "80\n",
            "80\n",
            "80\n",
            "80\n",
            "80\n",
            "80\n",
            "80\n",
            "80\n",
            "80\n",
            "80\n",
            "80\n",
            "80\n",
            "80\n",
            "80\n",
            "80\n",
            "80\n",
            "80\n",
            "80\n",
            "80\n",
            "80\n",
            "80\n",
            "80\n",
            "80\n",
            "80\n",
            "81\n",
            "81\n",
            "81\n",
            "81\n",
            "81\n",
            "81\n",
            "81\n",
            "81\n",
            "81\n",
            "81\n",
            "81\n",
            "81\n",
            "81\n",
            "81\n",
            "81\n",
            "81\n",
            "81\n",
            "81\n",
            "81\n",
            "81\n",
            "81\n",
            "81\n",
            "81\n",
            "81\n",
            "81\n",
            "81\n",
            "81\n",
            "81\n",
            "81\n",
            "81\n",
            "81\n",
            "81\n",
            "81\n",
            "81\n",
            "81\n",
            "81\n",
            "81\n",
            "81\n",
            "81\n",
            "81\n",
            "81\n",
            "81\n",
            "81\n",
            "81\n",
            "81\n",
            "81\n",
            "81\n",
            "81\n",
            "81\n",
            "81\n",
            "81\n",
            "81\n",
            "81\n",
            "81\n",
            "81\n",
            "81\n",
            "81\n",
            "81\n",
            "81\n",
            "81\n",
            "81\n",
            "81\n",
            "81\n",
            "81\n",
            "81\n",
            "81\n",
            "81\n",
            "81\n",
            "81\n",
            "81\n",
            "81\n",
            "81\n",
            "81\n",
            "81\n",
            "81\n",
            "81\n",
            "81\n",
            "81\n",
            "81\n",
            "81\n",
            "81\n",
            "81\n",
            "81\n",
            "81\n",
            "81\n",
            "81\n",
            "81\n",
            "81\n",
            "81\n",
            "81\n",
            "81\n",
            "81\n",
            "81\n",
            "81\n",
            "81\n",
            "81\n",
            "81\n",
            "81\n",
            "81\n",
            "81\n",
            "75\n",
            "75\n",
            "75\n",
            "75\n",
            "75\n",
            "75\n",
            "75\n",
            "75\n",
            "75\n",
            "75\n",
            "75\n",
            "75\n",
            "75\n",
            "75\n",
            "75\n",
            "75\n",
            "75\n",
            "75\n",
            "75\n",
            "75\n",
            "75\n",
            "75\n",
            "75\n",
            "75\n",
            "75\n",
            "75\n",
            "75\n",
            "75\n",
            "75\n",
            "75\n",
            "75\n",
            "75\n",
            "75\n",
            "75\n",
            "75\n",
            "75\n",
            "75\n",
            "75\n",
            "75\n",
            "75\n",
            "75\n",
            "75\n",
            "75\n",
            "75\n",
            "75\n",
            "75\n",
            "75\n",
            "75\n",
            "75\n",
            "75\n",
            "75\n",
            "75\n",
            "75\n",
            "75\n",
            "75\n",
            "75\n",
            "75\n",
            "75\n",
            "75\n",
            "75\n",
            "75\n",
            "75\n",
            "75\n",
            "75\n",
            "75\n",
            "75\n",
            "75\n",
            "75\n",
            "75\n",
            "75\n",
            "75\n",
            "75\n",
            "75\n",
            "75\n",
            "75\n",
            "75\n",
            "75\n",
            "75\n",
            "75\n",
            "75\n",
            "75\n",
            "75\n",
            "75\n",
            "75\n",
            "75\n",
            "75\n",
            "75\n",
            "75\n",
            "75\n",
            "75\n",
            "75\n",
            "75\n",
            "75\n",
            "75\n",
            "75\n",
            "75\n",
            "75\n",
            "75\n",
            "75\n",
            "75\n"
          ]
        }
      ]
    },
    {
      "cell_type": "code",
      "source": [
        "sizes = flat_to_array([[10*i]*5 for i in range(1,11)]*2)\n",
        "\n",
        "experiments = flat_to_array([['mymedheap'] * 10 * 5 + ['medfromhpaq'] * 10 * 5 ])\n",
        "vals = np.asarray(tst1 + tst2)"
      ],
      "metadata": {
        "id": "G2CXceVrzAN7"
      },
      "execution_count": 165,
      "outputs": []
    },
    {
      "cell_type": "code",
      "source": [
        "\n",
        "def flat_to_array(lst1):\n",
        "  return np.asarray([item for sublist in lst1 for item in sublist])\n",
        "\n",
        "sizes = flat_to_array([[pow(2,i)]*rep for i in degrees]*2)\n",
        "experiments = flat_to_array([['array.array'] * len(degrees) * rep + ['list'] * len(degrees) * rep])\n",
        "vals = np.asarray(t1 + t2 )\n",
        "\n"
      ],
      "metadata": {
        "id": "rO4rLBcG9W3y"
      },
      "execution_count": null,
      "outputs": []
    },
    {
      "cell_type": "code",
      "source": [
        "print(len(sizes))\n",
        "print(experiments)\n",
        "print (vals)"
      ],
      "metadata": {
        "colab": {
          "base_uri": "https://localhost:8080/"
        },
        "id": "lUeX5Tk66JsQ",
        "outputId": "9664e837-449a-40e5-efa3-8270be3b2091"
      },
      "execution_count": 166,
      "outputs": [
        {
          "output_type": "stream",
          "name": "stdout",
          "text": [
            "100\n",
            "['mymedheap' 'mymedheap' 'mymedheap' 'mymedheap' 'mymedheap' 'mymedheap'\n",
            " 'mymedheap' 'mymedheap' 'mymedheap' 'mymedheap' 'mymedheap' 'mymedheap'\n",
            " 'mymedheap' 'mymedheap' 'mymedheap' 'mymedheap' 'mymedheap' 'mymedheap'\n",
            " 'mymedheap' 'mymedheap' 'mymedheap' 'mymedheap' 'mymedheap' 'mymedheap'\n",
            " 'mymedheap' 'mymedheap' 'mymedheap' 'mymedheap' 'mymedheap' 'mymedheap'\n",
            " 'mymedheap' 'mymedheap' 'mymedheap' 'mymedheap' 'mymedheap' 'mymedheap'\n",
            " 'mymedheap' 'mymedheap' 'mymedheap' 'mymedheap' 'mymedheap' 'mymedheap'\n",
            " 'mymedheap' 'mymedheap' 'mymedheap' 'mymedheap' 'mymedheap' 'mymedheap'\n",
            " 'mymedheap' 'mymedheap' 'medfromhpaq' 'medfromhpaq' 'medfromhpaq'\n",
            " 'medfromhpaq' 'medfromhpaq' 'medfromhpaq' 'medfromhpaq' 'medfromhpaq'\n",
            " 'medfromhpaq' 'medfromhpaq' 'medfromhpaq' 'medfromhpaq' 'medfromhpaq'\n",
            " 'medfromhpaq' 'medfromhpaq' 'medfromhpaq' 'medfromhpaq' 'medfromhpaq'\n",
            " 'medfromhpaq' 'medfromhpaq' 'medfromhpaq' 'medfromhpaq' 'medfromhpaq'\n",
            " 'medfromhpaq' 'medfromhpaq' 'medfromhpaq' 'medfromhpaq' 'medfromhpaq'\n",
            " 'medfromhpaq' 'medfromhpaq' 'medfromhpaq' 'medfromhpaq' 'medfromhpaq'\n",
            " 'medfromhpaq' 'medfromhpaq' 'medfromhpaq' 'medfromhpaq' 'medfromhpaq'\n",
            " 'medfromhpaq' 'medfromhpaq' 'medfromhpaq' 'medfromhpaq' 'medfromhpaq'\n",
            " 'medfromhpaq' 'medfromhpaq' 'medfromhpaq' 'medfromhpaq' 'medfromhpaq'\n",
            " 'medfromhpaq' 'medfromhpaq']\n",
            "[0.00063471 0.00651134 0.00061873 0.00747916 0.00096633 0.00055407\n",
            " 0.00056978 0.00052723 0.0005148  0.00054388 0.00076512 0.03291951\n",
            " 0.00099805 0.00699934 0.00448023 0.01141773 0.00064447 0.01099347\n",
            " 0.00059421 0.00735303 0.00249582 0.00535336 0.00302705 0.00341606\n",
            " 0.00067839 0.00226221 0.00079902 0.00582967 0.00058794 0.00696387\n",
            " 0.00374746 0.00140467 0.00060926 0.00058949 0.0005664  0.00032482\n",
            " 0.00028891 0.00027971 0.00029512 0.0046221  0.00627918 0.00051896\n",
            " 0.00050408 0.00051778 0.00048968 0.00476616 0.0005536  0.01139167\n",
            " 0.00055597 0.00048288 0.00146729 0.01419693 0.00147178 0.00139252\n",
            " 0.00184249 0.00142017 0.00319692 0.0071756  0.00119232 0.00135352\n",
            " 0.00734274 0.00385382 0.00157612 0.00143632 0.00154179 0.00604646\n",
            " 0.00479729 0.00441304 0.00546768 0.00529017 0.00393267 0.01340108\n",
            " 0.00541916 0.00380549 0.00765819 0.00558377 0.00553837 0.00452436\n",
            " 0.0042245  0.0043458  0.0168474  0.00191967 0.00152204 0.00104595\n",
            " 0.00087379 0.0253069  0.00575746 0.00554384 0.00411137 0.0013843\n",
            " 0.00148363 0.00134122 0.00133966 0.00134467 0.0285071  0.00291351\n",
            " 0.0170069  0.00555483 0.00429799 0.00449779]\n"
          ]
        }
      ]
    },
    {
      "cell_type": "code",
      "source": [
        "import seaborn as sns \n",
        "lineplt = sns.lineplot(x=sizes, y=vals, hue=experiments)\n",
        "lineplt.set(title = 'merge comparison runtime',xlabel='n', ylabel='time, seconds')\n",
        "\n",
        "sns.scatterplot(x=sizes, y=vals, hue=experiments)\n",
        "\n",
        "\n"
      ],
      "metadata": {
        "colab": {
          "base_uri": "https://localhost:8080/",
          "height": 312
        },
        "id": "Ny2B4zSNz0qT",
        "outputId": "59306f21-813e-4086-9c6d-064933a66cc5"
      },
      "execution_count": 167,
      "outputs": [
        {
          "output_type": "execute_result",
          "data": {
            "text/plain": [
              "<AxesSubplot:title={'center':'merge comparison runtime'}, xlabel='n', ylabel='time, seconds'>"
            ]
          },
          "metadata": {},
          "execution_count": 167
        },
        {
          "output_type": "display_data",
          "data": {
            "text/plain": [
              "<Figure size 432x288 with 1 Axes>"
            ],
            "image/png": "[encoded data removed]"
          },
          "metadata": {
            "needs_background": "light"
          }
        }
      ]
    },
    {
      "cell_type": "markdown",
      "metadata": {
        "id": "UfOk1-Wp3a_F"
      },
      "source": [
        "Your performance comparance of two data structure implementations:\n",
        "\n"
      ]
    },
    {
      "cell_type": "markdown",
      "source": [
        "CONCLUSIONS:\n",
        "as we can see the code snippet is faster again , might be because the heapaq is using too many callbacks to itself .\n"
      ],
      "metadata": {
        "id": "jzwYTTi97iez"
      }
    }
  ],
  "metadata": {
    "colab": {
      "provenance": []
    },
    "kernelspec": {
      "display_name": "Python 3 (ipykernel)",
      "language": "python",
      "name": "python3"
    },
    "language_info": {
      "codemirror_mode": {
        "name": "ipython",
        "version": 3
      },
      "file_extension": ".py",
      "mimetype": "text/x-python",
      "name": "python",
      "nbconvert_exporter": "python",
      "pygments_lexer": "ipython3",
      "version": "3.9.6"
    }
  },
  "nbformat": 4,
  "nbformat_minor": 0
}
